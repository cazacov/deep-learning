{
 "cells": [
  {
   "cell_type": "markdown",
   "metadata": {
    "collapsed": true,
    "deletable": true,
    "editable": true
   },
   "source": [
    "# Image Classification\n",
    "In this project, you'll classify images from the [CIFAR-10 dataset](https://www.cs.toronto.edu/~kriz/cifar.html).  The dataset consists of airplanes, dogs, cats, and other objects. You'll preprocess the images, then train a convolutional neural network on all the samples. The images need to be normalized and the labels need to be one-hot encoded.  You'll get to apply what you learned and build a convolutional, max pooling, dropout, and fully connected layers.  At the end, you'll get to see your neural network's predictions on the sample images.\n",
    "## Get the Data\n",
    "Run the following cell to download the [CIFAR-10 dataset for python](https://www.cs.toronto.edu/~kriz/cifar-10-python.tar.gz)."
   ]
  },
  {
   "cell_type": "code",
   "execution_count": 1,
   "metadata": {
    "collapsed": false,
    "deletable": true,
    "editable": true
   },
   "outputs": [
    {
     "name": "stdout",
     "output_type": "stream",
     "text": [
      "All files found!\n"
     ]
    }
   ],
   "source": [
    "\"\"\"\n",
    "DON'T MODIFY ANYTHING IN THIS CELL THAT IS BELOW THIS LINE\n",
    "\"\"\"\n",
    "from urllib.request import urlretrieve\n",
    "from os.path import isfile, isdir\n",
    "from tqdm import tqdm\n",
    "import problem_unittests as tests\n",
    "import tarfile\n",
    "import numpy as np\n",
    "\n",
    "cifar10_dataset_folder_path = 'cifar-10-batches-py'\n",
    "\n",
    "# Use Floyd's cifar-10 dataset if present\n",
    "floyd_cifar10_location = '/input/cifar-10/python.tar.gz'\n",
    "if isfile(floyd_cifar10_location):\n",
    "    tar_gz_path = floyd_cifar10_location\n",
    "else:\n",
    "    tar_gz_path = 'cifar-10-python.tar.gz'\n",
    "\n",
    "class DLProgress(tqdm):\n",
    "    last_block = 0\n",
    "\n",
    "    def hook(self, block_num=1, block_size=1, total_size=None):\n",
    "        self.total = total_size\n",
    "        self.update((block_num - self.last_block) * block_size)\n",
    "        self.last_block = block_num\n",
    "\n",
    "if not isfile(tar_gz_path):\n",
    "    with DLProgress(unit='B', unit_scale=True, miniters=1, desc='CIFAR-10 Dataset') as pbar:\n",
    "        urlretrieve(\n",
    "            'https://www.cs.toronto.edu/~kriz/cifar-10-python.tar.gz',\n",
    "            tar_gz_path,\n",
    "            pbar.hook)\n",
    "\n",
    "if not isdir(cifar10_dataset_folder_path):\n",
    "    with tarfile.open(tar_gz_path) as tar:\n",
    "        tar.extractall()\n",
    "        tar.close()\n",
    "\n",
    "\n",
    "tests.test_folder_path(cifar10_dataset_folder_path)"
   ]
  },
  {
   "cell_type": "markdown",
   "metadata": {
    "deletable": true,
    "editable": true
   },
   "source": [
    "## Explore the Data\n",
    "The dataset is broken into batches to prevent your machine from running out of memory.  The CIFAR-10 dataset consists of 5 batches, named `data_batch_1`, `data_batch_2`, etc.. Each batch contains the labels and images that are one of the following:\n",
    "* airplane\n",
    "* automobile\n",
    "* bird\n",
    "* cat\n",
    "* deer\n",
    "* dog\n",
    "* frog\n",
    "* horse\n",
    "* ship\n",
    "* truck\n",
    "\n",
    "Understanding a dataset is part of making predictions on the data.  Play around with the code cell below by changing the `batch_id` and `sample_id`. The `batch_id` is the id for a batch (1-5). The `sample_id` is the id for a image and label pair in the batch.\n",
    "\n",
    "Ask yourself \"What are all possible labels?\", \"What is the range of values for the image data?\", \"Are the labels in order or random?\".  Answers to questions like these will help you preprocess the data and end up with better predictions."
   ]
  },
  {
   "cell_type": "code",
   "execution_count": 2,
   "metadata": {
    "collapsed": false,
    "deletable": true,
    "editable": true
   },
   "outputs": [
    {
     "name": "stdout",
     "output_type": "stream",
     "text": [
      "\n",
      "Stats of batch 1:\n",
      "Samples: 10000\n",
      "Label Counts: {0: 1005, 1: 974, 2: 1032, 3: 1016, 4: 999, 5: 937, 6: 1030, 7: 1001, 8: 1025, 9: 981}\n",
      "First 20 Labels: [6, 9, 9, 4, 1, 1, 2, 7, 8, 3, 4, 7, 7, 2, 9, 9, 9, 3, 2, 6]\n",
      "\n",
      "Example of Image 8:\n",
      "Image - Min Value: 8 Max Value: 252\n",
      "Image - Shape: (32, 32, 3)\n",
      "Label - Label Id: 8 Name: ship\n"
     ]
    },
    {
     "data": {
      "image/png": "[encoded data removed]",
      "text/plain": [
       "<matplotlib.figure.Figure at 0x7f2a6edecc88>"
      ]
     },
     "metadata": {
      "image/png": {
       "height": 250,
       "width": 253
      }
     },
     "output_type": "display_data"
    }
   ],
   "source": [
    "%matplotlib inline\n",
    "%config InlineBackend.figure_format = 'retina'\n",
    "\n",
    "import helper\n",
    "import numpy as np\n",
    "\n",
    "# Explore the dataset\n",
    "batch_id = 1\n",
    "sample_id = 8\n",
    "helper.display_stats(cifar10_dataset_folder_path, batch_id, sample_id)"
   ]
  },
  {
   "cell_type": "markdown",
   "metadata": {
    "deletable": true,
    "editable": true
   },
   "source": [
    "## Implement Preprocess Functions\n",
    "### Normalize\n",
    "In the cell below, implement the `normalize` function to take in image data, `x`, and return it as a normalized Numpy array. The values should be in the range of 0 to 1, inclusive.  The return object should be the same shape as `x`."
   ]
  },
  {
   "cell_type": "code",
   "execution_count": 3,
   "metadata": {
    "collapsed": false,
    "deletable": true,
    "editable": true
   },
   "outputs": [
    {
     "name": "stdout",
     "output_type": "stream",
     "text": [
      "Tests Passed\n"
     ]
    }
   ],
   "source": [
    "def normalize(x):\n",
    "    \"\"\"\n",
    "    Normalize a list of sample image data in the range of 0 to 1\n",
    "    : x: List of image data.  The image shape is (32, 32, 3)\n",
    "    : return: Numpy array of normalize data\n",
    "    \"\"\"\n",
    "    # TODO: Implement Function\n",
    "    a = 0\n",
    "    b = 1\n",
    "    intensity_min = 0\n",
    "    intensity_max = 255\n",
    "    \n",
    "    return a + (x - intensity_min) * (b-a) / (intensity_max - intensity_min)\n",
    "    \n",
    "\n",
    "\n",
    "\"\"\"\n",
    "DON'T MODIFY ANYTHING IN THIS CELL THAT IS BELOW THIS LINE\n",
    "\"\"\"\n",
    "tests.test_normalize(normalize)"
   ]
  },
  {
   "cell_type": "markdown",
   "metadata": {
    "deletable": true,
    "editable": true
   },
   "source": [
    "### One-hot encode\n",
    "Just like the previous code cell, you'll be implementing a function for preprocessing.  This time, you'll implement the `one_hot_encode` function. The input, `x`, are a list of labels.  Implement the function to return the list of labels as One-Hot encoded Numpy array.  The possible values for labels are 0 to 9. The one-hot encoding function should return the same encoding for each value between each call to `one_hot_encode`.  Make sure to save the map of encodings outside the function.\n",
    "\n",
    "Hint: Don't reinvent the wheel."
   ]
  },
  {
   "cell_type": "code",
   "execution_count": 4,
   "metadata": {
    "collapsed": false,
    "deletable": true,
    "editable": true
   },
   "outputs": [
    {
     "name": "stdout",
     "output_type": "stream",
     "text": [
      "Tests Passed\n"
     ]
    }
   ],
   "source": [
    "def one_hot_encode(x):\n",
    "    \"\"\"\n",
    "    One hot encode a list of sample labels. Return a one-hot encoded vector for each label.\n",
    "    : x: List of sample Labels\n",
    "    : return: Numpy array of one-hot encoded labels\n",
    "    \"\"\"\n",
    "    # TODO: Implement Function\n",
    "    \n",
    "    row_count = len(x)\n",
    "    result = np.zeros((row_count, 10))\n",
    "    result[np.arange(row_count), x] = 1\n",
    "    return result\n",
    "\n",
    "\n",
    "\"\"\"\n",
    "DON'T MODIFY ANYTHING IN THIS CELL THAT IS BELOW THIS LINE\n",
    "\"\"\"\n",
    "tests.test_one_hot_encode(one_hot_encode)"
   ]
  },
  {
   "cell_type": "markdown",
   "metadata": {
    "deletable": true,
    "editable": true
   },
   "source": [
    "### Randomize Data\n",
    "As you saw from exploring the data above, the order of the samples are randomized.  It doesn't hurt to randomize it again, but you don't need to for this dataset."
   ]
  },
  {
   "cell_type": "markdown",
   "metadata": {
    "deletable": true,
    "editable": true
   },
   "source": [
    "## Preprocess all the data and save it\n",
    "Running the code cell below will preprocess all the CIFAR-10 data and save it to file. The code below also uses 10% of the training data for validation."
   ]
  },
  {
   "cell_type": "code",
   "execution_count": 5,
   "metadata": {
    "collapsed": false,
    "deletable": true,
    "editable": true
   },
   "outputs": [],
   "source": [
    "\"\"\"\n",
    "DON'T MODIFY ANYTHING IN THIS CELL\n",
    "\"\"\"\n",
    "# Preprocess Training, Validation, and Testing Data\n",
    "helper.preprocess_and_save_data(cifar10_dataset_folder_path, normalize, one_hot_encode)"
   ]
  },
  {
   "cell_type": "markdown",
   "metadata": {
    "deletable": true,
    "editable": true
   },
   "source": [
    "# Check Point\n",
    "This is your first checkpoint.  If you ever decide to come back to this notebook or have to restart the notebook, you can start from here.  The preprocessed data has been saved to disk."
   ]
  },
  {
   "cell_type": "code",
   "execution_count": 6,
   "metadata": {
    "collapsed": true,
    "deletable": true,
    "editable": true
   },
   "outputs": [],
   "source": [
    "\"\"\"\n",
    "DON'T MODIFY ANYTHING IN THIS CELL\n",
    "\"\"\"\n",
    "import pickle\n",
    "import problem_unittests as tests\n",
    "import helper\n",
    "\n",
    "# Load the Preprocessed Validation data\n",
    "valid_features, valid_labels = pickle.load(open('preprocess_validation.p', mode='rb'))"
   ]
  },
  {
   "cell_type": "markdown",
   "metadata": {
    "deletable": true,
    "editable": true
   },
   "source": [
    "## Build the network\n",
    "For the neural network, you'll build each layer into a function.  Most of the code you've seen has been outside of functions. To test your code more thoroughly, we require that you put each layer in a function.  This allows us to give you better feedback and test for simple mistakes using our unittests before you submit your project.\n",
    "\n",
    ">**Note:** If you're finding it hard to dedicate enough time for this course each week, we've provided a small shortcut to this part of the project. In the next couple of problems, you'll have the option to use classes from the [TensorFlow Layers](https://www.tensorflow.org/api_docs/python/tf/layers) or [TensorFlow Layers (contrib)](https://www.tensorflow.org/api_guides/python/contrib.layers) packages to build each layer, except the layers you build in the \"Convolutional and Max Pooling Layer\" section.  TF Layers is similar to Keras's and TFLearn's abstraction to layers, so it's easy to pickup.\n",
    "\n",
    ">However, if you would like to get the most out of this course, try to solve all the problems _without_ using anything from the TF Layers packages. You **can** still use classes from other packages that happen to have the same name as ones you find in TF Layers! For example, instead of using the TF Layers version of the `conv2d` class, [tf.layers.conv2d](https://www.tensorflow.org/api_docs/python/tf/layers/conv2d), you would want to use the TF Neural Network version of `conv2d`, [tf.nn.conv2d](https://www.tensorflow.org/api_docs/python/tf/nn/conv2d). \n",
    "\n",
    "Let's begin!\n",
    "\n",
    "### Input\n",
    "The neural network needs to read the image data, one-hot encoded labels, and dropout keep probability. Implement the following functions\n",
    "* Implement `neural_net_image_input`\n",
    " * Return a [TF Placeholder](https://www.tensorflow.org/api_docs/python/tf/placeholder)\n",
    " * Set the shape using `image_shape` with batch size set to `None`.\n",
    " * Name the TensorFlow placeholder \"x\" using the TensorFlow `name` parameter in the [TF Placeholder](https://www.tensorflow.org/api_docs/python/tf/placeholder).\n",
    "* Implement `neural_net_label_input`\n",
    " * Return a [TF Placeholder](https://www.tensorflow.org/api_docs/python/tf/placeholder)\n",
    " * Set the shape using `n_classes` with batch size set to `None`.\n",
    " * Name the TensorFlow placeholder \"y\" using the TensorFlow `name` parameter in the [TF Placeholder](https://www.tensorflow.org/api_docs/python/tf/placeholder).\n",
    "* Implement `neural_net_keep_prob_input`\n",
    " * Return a [TF Placeholder](https://www.tensorflow.org/api_docs/python/tf/placeholder) for dropout keep probability.\n",
    " * Name the TensorFlow placeholder \"keep_prob\" using the TensorFlow `name` parameter in the [TF Placeholder](https://www.tensorflow.org/api_docs/python/tf/placeholder).\n",
    "\n",
    "These names will be used at the end of the project to load your saved model.\n",
    "\n",
    "Note: `None` for shapes in TensorFlow allow for a dynamic size."
   ]
  },
  {
   "cell_type": "code",
   "execution_count": 7,
   "metadata": {
    "collapsed": false,
    "deletable": true,
    "editable": true
   },
   "outputs": [
    {
     "name": "stdout",
     "output_type": "stream",
     "text": [
      "Image Input Tests Passed.\n",
      "Label Input Tests Passed.\n",
      "Keep Prob Tests Passed.\n"
     ]
    }
   ],
   "source": [
    "import tensorflow as tf\n",
    "\n",
    "def neural_net_image_input(image_shape):\n",
    "    \"\"\"\n",
    "    Return a Tensor for a batch of image input\n",
    "    : image_shape: Shape of the images\n",
    "    : return: Tensor for image input.\n",
    "    \"\"\"\n",
    "    # TODO: Implement Function\n",
    "\n",
    "    return tf.placeholder(tf.float32, (None,) + image_shape, name=\"x\")\n",
    "\n",
    "\n",
    "def neural_net_label_input(n_classes):\n",
    "    \"\"\"\n",
    "    Return a Tensor for a batch of label input\n",
    "    : n_classes: Number of classes\n",
    "    : return: Tensor for label input.\n",
    "    \"\"\"\n",
    "    # TODO: Implement Function\n",
    "    \n",
    "    return tf.placeholder(tf.float32, (None, n_classes), name=\"y\")\n",
    "\n",
    "\n",
    "def neural_net_keep_prob_input():\n",
    "    \"\"\"\n",
    "    Return a Tensor for keep probability\n",
    "    : return: Tensor for keep probability.\n",
    "    \"\"\"\n",
    "    # TODO: Implement Function\n",
    "    \n",
    "    return tf.placeholder(tf.float32, name=\"keep_prob\")\n",
    "\n",
    "\n",
    "\"\"\"\n",
    "DON'T MODIFY ANYTHING IN THIS CELL THAT IS BELOW THIS LINE\n",
    "\"\"\"\n",
    "tf.reset_default_graph()\n",
    "tests.test_nn_image_inputs(neural_net_image_input)\n",
    "tests.test_nn_label_inputs(neural_net_label_input)\n",
    "tests.test_nn_keep_prob_inputs(neural_net_keep_prob_input)"
   ]
  },
  {
   "cell_type": "markdown",
   "metadata": {
    "deletable": true,
    "editable": true
   },
   "source": [
    "### Convolution and Max Pooling Layer\n",
    "Convolution layers have a lot of success with images. For this code cell, you should implement the function `conv2d_maxpool` to apply convolution then max pooling:\n",
    "* Create the weight and bias using `conv_ksize`, `conv_num_outputs` and the shape of `x_tensor`.\n",
    "* Apply a convolution to `x_tensor` using weight and `conv_strides`.\n",
    " * We recommend you use same padding, but you're welcome to use any padding.\n",
    "* Add bias\n",
    "* Add a nonlinear activation to the convolution.\n",
    "* Apply Max Pooling using `pool_ksize` and `pool_strides`.\n",
    " * We recommend you use same padding, but you're welcome to use any padding.\n",
    "\n",
    "**Note:** You **can't** use [TensorFlow Layers](https://www.tensorflow.org/api_docs/python/tf/layers) or [TensorFlow Layers (contrib)](https://www.tensorflow.org/api_guides/python/contrib.layers) for **this** layer, but you can still use TensorFlow's [Neural Network](https://www.tensorflow.org/api_docs/python/tf/nn) package. You may still use the shortcut option for all the **other** layers."
   ]
  },
  {
   "cell_type": "code",
   "execution_count": 8,
   "metadata": {
    "collapsed": false,
    "deletable": true,
    "editable": true
   },
   "outputs": [
    {
     "name": "stdout",
     "output_type": "stream",
     "text": [
      "Tests Passed\n"
     ]
    }
   ],
   "source": [
    "def conv2d_maxpool(x_tensor, conv_num_outputs, conv_ksize, conv_strides, pool_ksize, pool_strides):\n",
    "    \"\"\"\n",
    "    Apply convolution then max pooling to x_tensor\n",
    "    :param x_tensor: TensorFlow Tensor\n",
    "    :param conv_num_outputs: Number of outputs for the convolutional layer\n",
    "    :param conv_ksize: kernal size 2-D Tuple for the convolutional layer\n",
    "    :param conv_strides: Stride 2-D Tuple for convolution\n",
    "    :param pool_ksize: kernal size 2-D Tuple for pool\n",
    "    :param pool_strides: Stride 2-D Tuple for pool\n",
    "    : return: A tensor that represents convolution and max pooling of x_tensor\n",
    "    \"\"\"\n",
    "    # TODO: Implement Function\n",
    "    \n",
    "    input_shape = x_tensor.get_shape().as_list()\n",
    "    input_depth = input_shape[3]\n",
    "    \n",
    "    weights_shape = conv_ksize + (input_depth, conv_num_outputs)\n",
    "    \n",
    "    # tf.truncated_normal has default standard deviation of 1.0 which is too large\n",
    "    weights_count = np.prod(weights_shape)\n",
    "    recomended_deviation = (weights_count / conv_num_outputs)**-0.5\n",
    "    weights = tf.Variable(tf.truncated_normal(weights_shape, stddev =  recomended_deviation))\n",
    "    \n",
    "    strides = (1, ) + conv_strides + (1,)\n",
    "    conv_padding = 'SAME'\n",
    "    \n",
    "    # Apply Convolution\n",
    "    conv = tf.nn.conv2d(x_tensor, weights, strides, conv_padding)\n",
    "    \n",
    "    # Add bias\n",
    "    conv_biases = tf.Variable(tf.zeros(conv_num_outputs))\n",
    "    conv = tf.nn.bias_add(conv, conv_biases)\n",
    "    \n",
    "    # Add non-linear activation\n",
    "    conv =  tf.nn.relu(conv)\n",
    "    \n",
    "    # Calculate maxpool parameters\n",
    "    mp_size = (1, ) + pool_ksize + (1,)\n",
    "    mp_strides = (1, ) + pool_strides + (1,)\n",
    "    mp_padding = 'SAME'\n",
    "    \n",
    "    # Apply Max Pooling\n",
    "    result = tf.nn.max_pool(conv, mp_size, mp_strides, mp_padding)\n",
    "    return result\n",
    "\n",
    "\n",
    "\"\"\"\n",
    "DON'T MODIFY ANYTHING IN THIS CELL THAT IS BELOW THIS LINE\n",
    "\"\"\"\n",
    "tests.test_con_pool(conv2d_maxpool)"
   ]
  },
  {
   "cell_type": "markdown",
   "metadata": {
    "deletable": true,
    "editable": true
   },
   "source": [
    "### Flatten Layer\n",
    "Implement the `flatten` function to change the dimension of `x_tensor` from a 4-D tensor to a 2-D tensor.  The output should be the shape (*Batch Size*, *Flattened Image Size*). Shortcut option: you can use classes from the [TensorFlow Layers](https://www.tensorflow.org/api_docs/python/tf/layers) or [TensorFlow Layers (contrib)](https://www.tensorflow.org/api_guides/python/contrib.layers) packages for this layer. For more of a challenge, only use other TensorFlow packages."
   ]
  },
  {
   "cell_type": "code",
   "execution_count": 9,
   "metadata": {
    "collapsed": false,
    "deletable": true,
    "editable": true
   },
   "outputs": [
    {
     "name": "stdout",
     "output_type": "stream",
     "text": [
      "Tests Passed\n"
     ]
    }
   ],
   "source": [
    "def flatten(x_tensor):\n",
    "    \"\"\"\n",
    "    Flatten x_tensor to (Batch Size, Flattened Image Size)\n",
    "    : x_tensor: A tensor of size (Batch Size, ...), where ... are the image dimensions.\n",
    "    : return: A tensor of size (Batch Size, Flattened Image Size).\n",
    "    \"\"\"\n",
    "    # TODO: Implement Function\n",
    "    input_shape = x_tensor.get_shape().as_list()\n",
    "    new_dimension = np.prod(input_shape[1:])\n",
    "    return tf.reshape(x_tensor, [-1, new_dimension])\n",
    "\n",
    "\n",
    "\"\"\"\n",
    "DON'T MODIFY ANYTHING IN THIS CELL THAT IS BELOW THIS LINE\n",
    "\"\"\"\n",
    "tests.test_flatten(flatten)"
   ]
  },
  {
   "cell_type": "markdown",
   "metadata": {
    "deletable": true,
    "editable": true
   },
   "source": [
    "### Fully-Connected Layer\n",
    "Implement the `fully_conn` function to apply a fully connected layer to `x_tensor` with the shape (*Batch Size*, *num_outputs*). Shortcut option: you can use classes from the [TensorFlow Layers](https://www.tensorflow.org/api_docs/python/tf/layers) or [TensorFlow Layers (contrib)](https://www.tensorflow.org/api_guides/python/contrib.layers) packages for this layer. For more of a challenge, only use other TensorFlow packages."
   ]
  },
  {
   "cell_type": "code",
   "execution_count": 10,
   "metadata": {
    "collapsed": false,
    "deletable": true,
    "editable": true
   },
   "outputs": [
    {
     "name": "stdout",
     "output_type": "stream",
     "text": [
      "Tests Passed\n"
     ]
    }
   ],
   "source": [
    "def fully_conn(x_tensor, num_outputs):\n",
    "    \"\"\"\n",
    "    Apply a fully connected layer to x_tensor using weight and bias\n",
    "    : x_tensor: A 2-D tensor where the first dimension is batch size.\n",
    "    : num_outputs: The number of output that the new tensor should be.\n",
    "    : return: A 2-D tensor where the second dimension is num_outputs.\n",
    "    \"\"\"\n",
    "    # TODO: Implement Function\n",
    "    \n",
    "    input_shape = x_tensor.get_shape().as_list()\n",
    "    num_inputs = input_shape[1]\n",
    "    deviation = num_inputs**-0.5\n",
    "    \n",
    "    weights = tf.Variable(tf.truncated_normal([num_inputs, num_outputs], stddev = 0.01), name=\"w_fc\" + str(num_outputs))\n",
    "    bias = tf.Variable(tf.zeros([num_outputs]), name=\"b_fc\" + str(num_outputs))\n",
    "    \n",
    "    linear = tf.nn.bias_add(tf.matmul(x_tensor, weights), bias)\n",
    "    \n",
    "    # Add non-linear activation\n",
    "    layer = tf.nn.relu(linear)   \n",
    "    \n",
    "    return layer\n",
    "\n",
    "\n",
    "\"\"\"\n",
    "DON'T MODIFY ANYTHING IN THIS CELL THAT IS BELOW THIS LINE\n",
    "\"\"\"\n",
    "tests.test_fully_conn(fully_conn)"
   ]
  },
  {
   "cell_type": "markdown",
   "metadata": {
    "deletable": true,
    "editable": true
   },
   "source": [
    "### Output Layer\n",
    "Implement the `output` function to apply a fully connected layer to `x_tensor` with the shape (*Batch Size*, *num_outputs*). Shortcut option: you can use classes from the [TensorFlow Layers](https://www.tensorflow.org/api_docs/python/tf/layers) or [TensorFlow Layers (contrib)](https://www.tensorflow.org/api_guides/python/contrib.layers) packages for this layer. For more of a challenge, only use other TensorFlow packages.\n",
    "\n",
    "**Note:** Activation, softmax, or cross entropy should **not** be applied to this."
   ]
  },
  {
   "cell_type": "code",
   "execution_count": 17,
   "metadata": {
    "collapsed": false,
    "deletable": true,
    "editable": true
   },
   "outputs": [
    {
     "name": "stdout",
     "output_type": "stream",
     "text": [
      "Tests Passed\n"
     ]
    }
   ],
   "source": [
    "def output(x_tensor, num_outputs):\n",
    "    \"\"\"\n",
    "    Apply a output layer to x_tensor using weight and bias\n",
    "    : x_tensor: A 2-D tensor where the first dimension is batch size.\n",
    "    : num_outputs: The number of output that the new tensor should be.\n",
    "    : return: A 2-D tensor where the second dimension is num_outputs.\n",
    "    \"\"\"\n",
    "    # TODO: Implement Function\n",
    "    input_shape = x_tensor.get_shape().as_list()\n",
    "    num_inputs = input_shape[1]\n",
    "    deviation = num_inputs**-0.5\n",
    "    \n",
    "    weights = tf.Variable(tf.truncated_normal([num_inputs, num_outputs], stddev = deviation), name=\"w_o\")\n",
    "    bias = tf.Variable(tf.zeros([num_outputs]), name=\"b_o\")\n",
    "    \n",
    "    layer = tf.nn.bias_add(tf.matmul(x_tensor, weights), bias)\n",
    "    \n",
    "    return layer\n",
    "\n",
    "\n",
    "\"\"\"\n",
    "DON'T MODIFY ANYTHING IN THIS CELL THAT IS BELOW THIS LINE\n",
    "\"\"\"\n",
    "tests.test_output(output)"
   ]
  },
  {
   "cell_type": "markdown",
   "metadata": {
    "deletable": true,
    "editable": true
   },
   "source": [
    "### Create Convolutional Model\n",
    "Implement the function `conv_net` to create a convolutional neural network model. The function takes in a batch of images, `x`, and outputs logits.  Use the layers you created above to create this model:\n",
    "\n",
    "* Apply 1, 2, or 3 Convolution and Max Pool layers\n",
    "* Apply a Flatten Layer\n",
    "* Apply 1, 2, or 3 Fully Connected Layers\n",
    "* Apply an Output Layer\n",
    "* Return the output\n",
    "* Apply [TensorFlow's Dropout](https://www.tensorflow.org/api_docs/python/tf/nn/dropout) to one or more layers in the model using `keep_prob`. "
   ]
  },
  {
   "cell_type": "code",
   "execution_count": 18,
   "metadata": {
    "collapsed": false,
    "deletable": true,
    "editable": true
   },
   "outputs": [
    {
     "name": "stdout",
     "output_type": "stream",
     "text": [
      "Neural Network Built!\n"
     ]
    }
   ],
   "source": [
    "def conv_net(x, keep_prob):\n",
    "    \"\"\"\n",
    "    Create a convolutional neural network model\n",
    "    : x: Placeholder tensor that holds image data.\n",
    "    : keep_prob: Placeholder tensor that hold dropout keep probability.\n",
    "    : return: Tensor that represents logits\n",
    "    \"\"\"\n",
    "    # TODO: Apply 1, 2, or 3 Convolution and Max Pool layers\n",
    "    #    Play around with different number of outputs, kernel size and stride\n",
    "    # Function Definition from Above:\n",
    "    \n",
    "    #    conv2d_maxpool(x_tensor, conv_num_outputs, conv_ksize, conv_strides, pool_ksize, pool_strides)\n",
    "    \n",
    "    conv_outputs = 128\n",
    "    conv_ksize = (6,6)\n",
    "    conv_strides = (2,2)\n",
    "    pool_ksize = (4,4)\n",
    "    pool_strides = (2,2)\n",
    "    \n",
    "    conv = conv2d_maxpool(x, conv_outputs, conv_ksize, conv_strides, pool_ksize, pool_strides)\n",
    "    \n",
    "    # TODO: Apply a Flatten Layer\n",
    "    # Function Definition from Above:\n",
    "    #   flatten(x_tensor)\n",
    "    flat = flatten(conv)\n",
    "    flat = tf.nn.dropout(flat,  keep_prob)\n",
    "    \n",
    "    # TODO: Apply 1, 2, or 3 Fully Connected Layers\n",
    "    #    Play around with different number of outputs\n",
    "    # Function Definition from Above:\n",
    "    #   fully_conn(x_tensor, num_outputs)\n",
    "\n",
    "    conn = fully_conn(flat, 256)\n",
    "    # Apply dropout\n",
    "    conn = tf.nn.dropout(conn,  keep_prob)\n",
    "    \n",
    "    # Second hidden layer\n",
    "    conn2 = fully_conn(conn, 128)\n",
    "    \n",
    "    \n",
    "    # TODO: Apply an Output Layer\n",
    "    #    Set this to the number of classes\n",
    "    # Function Definition from Above:\n",
    "    out = output(conn2, 10)\n",
    "    \n",
    "    # TODO: return output\n",
    "    return out\n",
    "\n",
    "\n",
    "\"\"\"\n",
    "DON'T MODIFY ANYTHING IN THIS CELL THAT IS BELOW THIS LINE\n",
    "\"\"\"\n",
    "\n",
    "##############################\n",
    "## Build the Neural Network ##\n",
    "##############################\n",
    "\n",
    "# Remove previous weights, bias, inputs, etc..\n",
    "tf.reset_default_graph()\n",
    "\n",
    "# Inputs\n",
    "x = neural_net_image_input((32, 32, 3))\n",
    "y = neural_net_label_input(10)\n",
    "keep_prob = neural_net_keep_prob_input()\n",
    "\n",
    "# Model\n",
    "logits = conv_net(x, keep_prob)\n",
    "\n",
    "# Name logits Tensor, so that is can be loaded from disk after training\n",
    "logits = tf.identity(logits, name='logits')\n",
    "\n",
    "# Loss and Optimizer\n",
    "cost = tf.reduce_mean(tf.nn.softmax_cross_entropy_with_logits(logits=logits, labels=y))\n",
    "optimizer = tf.train.AdamOptimizer().minimize(cost)\n",
    "\n",
    "# Accuracy\n",
    "correct_pred = tf.equal(tf.argmax(logits, 1), tf.argmax(y, 1))\n",
    "accuracy = tf.reduce_mean(tf.cast(correct_pred, tf.float32), name='accuracy')\n",
    "\n",
    "tests.test_conv_net(conv_net)"
   ]
  },
  {
   "cell_type": "markdown",
   "metadata": {
    "deletable": true,
    "editable": true
   },
   "source": [
    "## Train the Neural Network\n",
    "### Single Optimization\n",
    "Implement the function `train_neural_network` to do a single optimization.  The optimization should use `optimizer` to optimize in `session` with a `feed_dict` of the following:\n",
    "* `x` for image input\n",
    "* `y` for labels\n",
    "* `keep_prob` for keep probability for dropout\n",
    "\n",
    "This function will be called for each batch, so `tf.global_variables_initializer()` has already been called.\n",
    "\n",
    "Note: Nothing needs to be returned. This function is only optimizing the neural network."
   ]
  },
  {
   "cell_type": "code",
   "execution_count": 19,
   "metadata": {
    "collapsed": false,
    "deletable": true,
    "editable": true
   },
   "outputs": [
    {
     "name": "stdout",
     "output_type": "stream",
     "text": [
      "Tests Passed\n"
     ]
    }
   ],
   "source": [
    "def train_neural_network(session, optimizer, keep_probability, feature_batch, label_batch):\n",
    "    \"\"\"\n",
    "    Optimize the session on a batch of images and labels\n",
    "    : session: Current TensorFlow session\n",
    "    : optimizer: TensorFlow optimizer function\n",
    "    : keep_probability: keep probability\n",
    "    : feature_batch: Batch of Numpy image data\n",
    "    : label_batch: Batch of Numpy label data\n",
    "    \"\"\"\n",
    "    session.run(optimizer, feed_dict = {\n",
    "        x: feature_batch,\n",
    "        y: label_batch,\n",
    "        keep_prob: keep_probability\n",
    "    })\n",
    "\n",
    "\n",
    "\"\"\"\n",
    "DON'T MODIFY ANYTHING IN THIS CELL THAT IS BELOW THIS LINE\n",
    "\"\"\"\n",
    "tests.test_train_nn(train_neural_network)"
   ]
  },
  {
   "cell_type": "markdown",
   "metadata": {
    "deletable": true,
    "editable": true
   },
   "source": [
    "### Show Stats\n",
    "Implement the function `print_stats` to print loss and validation accuracy.  Use the global variables `valid_features` and `valid_labels` to calculate validation accuracy.  Use a keep probability of `1.0` to calculate the loss and validation accuracy."
   ]
  },
  {
   "cell_type": "code",
   "execution_count": 20,
   "metadata": {
    "collapsed": false,
    "deletable": true,
    "editable": true
   },
   "outputs": [],
   "source": [
    "def print_stats(session, feature_batch, label_batch, cost, accuracy):\n",
    "    \"\"\"\n",
    "    Print information about loss and validation accuracy\n",
    "    : session: Current TensorFlow session\n",
    "    : feature_batch: Batch of Numpy image data\n",
    "    : label_batch: Batch of Numpy label data\n",
    "    : cost: TensorFlow cost function\n",
    "    : accuracy: TensorFlow accuracy function\n",
    "    \"\"\"\n",
    "    # TODO: Implement Function\n",
    "    \n",
    "    loss = session.run(cost, feed_dict={\n",
    "        x: feature_batch,\n",
    "        y: label_batch,\n",
    "        keep_prob: 1})\n",
    "    \n",
    "    validation_accuracy = session.run(accuracy, feed_dict={\n",
    "        x: valid_features,\n",
    "        y: valid_labels,\n",
    "        keep_prob: 1})\n",
    "    \n",
    "    print(\"Loss:\", loss, \"   Accuracy: \", validation_accuracy)\n",
    "    "
   ]
  },
  {
   "cell_type": "markdown",
   "metadata": {
    "deletable": true,
    "editable": true
   },
   "source": [
    "### Hyperparameters\n",
    "Tune the following parameters:\n",
    "* Set `epochs` to the number of iterations until the network stops learning or start overfitting\n",
    "* Set `batch_size` to the highest number that your machine has memory for.  Most people set them to common sizes of memory:\n",
    " * 64\n",
    " * 128\n",
    " * 256\n",
    " * ...\n",
    "* Set `keep_probability` to the probability of keeping a node using dropout"
   ]
  },
  {
   "cell_type": "code",
   "execution_count": 21,
   "metadata": {
    "collapsed": true,
    "deletable": true,
    "editable": true
   },
   "outputs": [],
   "source": [
    "# TODO: Tune Parameters\n",
    "epochs = 50\n",
    "batch_size = 128\n",
    "keep_probability = 0.5"
   ]
  },
  {
   "cell_type": "markdown",
   "metadata": {
    "deletable": true,
    "editable": true
   },
   "source": [
    "### Train on a Single CIFAR-10 Batch\n",
    "Instead of training the neural network on all the CIFAR-10 batches of data, let's use a single batch. This should save time while you iterate on the model to get a better accuracy.  Once the final validation accuracy is 50% or greater, run the model on all the data in the next section."
   ]
  },
  {
   "cell_type": "code",
   "execution_count": 22,
   "metadata": {
    "collapsed": false,
    "deletable": true,
    "editable": true
   },
   "outputs": [
    {
     "name": "stdout",
     "output_type": "stream",
     "text": [
      "Checking the Training on a Single Batch...\n",
      "Epoch  1, CIFAR-10 Batch 1:  Loss: 1.9666    Accuracy:  0.373\n",
      "Epoch  2, CIFAR-10 Batch 1:  Loss: 1.68163    Accuracy:  0.4514\n",
      "Epoch  3, CIFAR-10 Batch 1:  Loss: 1.50043    Accuracy:  0.4876\n",
      "Epoch  4, CIFAR-10 Batch 1:  Loss: 1.40839    Accuracy:  0.5054\n",
      "Epoch  5, CIFAR-10 Batch 1:  Loss: 1.17445    Accuracy:  0.5224\n",
      "Epoch  6, CIFAR-10 Batch 1:  Loss: 1.08171    Accuracy:  0.5266\n",
      "Epoch  7, CIFAR-10 Batch 1:  Loss: 1.01835    Accuracy:  0.548\n",
      "Epoch  8, CIFAR-10 Batch 1:  Loss: 0.992043    Accuracy:  0.5492\n",
      "Epoch  9, CIFAR-10 Batch 1:  Loss: 0.861778    Accuracy:  0.5656\n",
      "Epoch 10, CIFAR-10 Batch 1:  Loss: 0.788279    Accuracy:  0.5734\n",
      "Epoch 11, CIFAR-10 Batch 1:  Loss: 0.801339    Accuracy:  0.583\n",
      "Epoch 12, CIFAR-10 Batch 1:  Loss: 0.708767    Accuracy:  0.589\n",
      "Epoch 13, CIFAR-10 Batch 1:  Loss: 0.664558    Accuracy:  0.5938\n",
      "Epoch 14, CIFAR-10 Batch 1:  Loss: 0.628715    Accuracy:  0.582\n",
      "Epoch 15, CIFAR-10 Batch 1:  Loss: 0.616078    Accuracy:  0.5724\n",
      "Epoch 16, CIFAR-10 Batch 1:  Loss: 0.630201    Accuracy:  0.5918\n",
      "Epoch 17, CIFAR-10 Batch 1:  Loss: 0.566157    Accuracy:  0.6084\n",
      "Epoch 18, CIFAR-10 Batch 1:  Loss: 0.499949    Accuracy:  0.6048\n",
      "Epoch 19, CIFAR-10 Batch 1:  Loss: 0.496855    Accuracy:  0.6016\n",
      "Epoch 20, CIFAR-10 Batch 1:  Loss: 0.473166    Accuracy:  0.5974\n",
      "Epoch 21, CIFAR-10 Batch 1:  Loss: 0.451876    Accuracy:  0.5964\n",
      "Epoch 22, CIFAR-10 Batch 1:  Loss: 0.404191    Accuracy:  0.5932\n",
      "Epoch 23, CIFAR-10 Batch 1:  Loss: 0.389842    Accuracy:  0.6188\n",
      "Epoch 24, CIFAR-10 Batch 1:  Loss: 0.36831    Accuracy:  0.611\n",
      "Epoch 25, CIFAR-10 Batch 1:  Loss: 0.333843    Accuracy:  0.5982\n",
      "Epoch 26, CIFAR-10 Batch 1:  Loss: 0.335299    Accuracy:  0.6068\n",
      "Epoch 27, CIFAR-10 Batch 1:  Loss: 0.29727    Accuracy:  0.611\n",
      "Epoch 28, CIFAR-10 Batch 1:  Loss: 0.273045    Accuracy:  0.603\n",
      "Epoch 29, CIFAR-10 Batch 1:  Loss: 0.275582    Accuracy:  0.607\n",
      "Epoch 30, CIFAR-10 Batch 1:  Loss: 0.25847    Accuracy:  0.612\n",
      "Epoch 31, CIFAR-10 Batch 1:  Loss: 0.210864    Accuracy:  0.6138\n",
      "Epoch 32, CIFAR-10 Batch 1:  Loss: 0.20684    Accuracy:  0.61\n",
      "Epoch 33, CIFAR-10 Batch 1:  Loss: 0.219299    Accuracy:  0.6194\n",
      "Epoch 34, CIFAR-10 Batch 1:  Loss: 0.206826    Accuracy:  0.6042\n",
      "Epoch 35, CIFAR-10 Batch 1:  Loss: 0.232998    Accuracy:  0.6034\n",
      "Epoch 36, CIFAR-10 Batch 1:  Loss: 0.189605    Accuracy:  0.6264\n",
      "Epoch 37, CIFAR-10 Batch 1:  Loss: 0.185156    Accuracy:  0.6208\n",
      "Epoch 38, CIFAR-10 Batch 1:  Loss: 0.205162    Accuracy:  0.6198\n",
      "Epoch 39, CIFAR-10 Batch 1:  Loss: 0.175787    Accuracy:  0.6226\n",
      "Epoch 40, CIFAR-10 Batch 1:  Loss: 0.124336    Accuracy:  0.623\n",
      "Epoch 41, CIFAR-10 Batch 1:  Loss: 0.173674    Accuracy:  0.6232\n",
      "Epoch 42, CIFAR-10 Batch 1:  Loss: 0.178932    Accuracy:  0.619\n",
      "Epoch 43, CIFAR-10 Batch 1:  Loss: 0.123867    Accuracy:  0.6238\n",
      "Epoch 44, CIFAR-10 Batch 1:  Loss: 0.124054    Accuracy:  0.6238\n",
      "Epoch 45, CIFAR-10 Batch 1:  Loss: 0.138968    Accuracy:  0.6294\n",
      "Epoch 46, CIFAR-10 Batch 1:  Loss: 0.107253    Accuracy:  0.6262\n",
      "Epoch 47, CIFAR-10 Batch 1:  Loss: 0.13306    Accuracy:  0.6298\n",
      "Epoch 48, CIFAR-10 Batch 1:  Loss: 0.143038    Accuracy:  0.627\n",
      "Epoch 49, CIFAR-10 Batch 1:  Loss: 0.128952    Accuracy:  0.6242\n",
      "Epoch 50, CIFAR-10 Batch 1:  Loss: 0.164147    Accuracy:  0.6252\n"
     ]
    }
   ],
   "source": [
    "\"\"\"\n",
    "DON'T MODIFY ANYTHING IN THIS CELL\n",
    "\"\"\"\n",
    "print('Checking the Training on a Single Batch...')\n",
    "with tf.Session() as sess:\n",
    "    # Initializing the variables\n",
    "    sess.run(tf.global_variables_initializer())\n",
    "    \n",
    "    # Training cycle\n",
    "    for epoch in range(epochs):\n",
    "        batch_i = 1\n",
    "        for batch_features, batch_labels in helper.load_preprocess_training_batch(batch_i, batch_size):\n",
    "            train_neural_network(sess, optimizer, keep_probability, batch_features, batch_labels)\n",
    "        print('Epoch {:>2}, CIFAR-10 Batch {}:  '.format(epoch + 1, batch_i), end='')\n",
    "        print_stats(sess, batch_features, batch_labels, cost, accuracy)"
   ]
  },
  {
   "cell_type": "markdown",
   "metadata": {
    "deletable": true,
    "editable": true
   },
   "source": [
    "### Fully Train the Model\n",
    "Now that you got a good accuracy with a single CIFAR-10 batch, try it with all five batches."
   ]
  },
  {
   "cell_type": "code",
   "execution_count": 23,
   "metadata": {
    "collapsed": false,
    "deletable": true,
    "editable": true
   },
   "outputs": [
    {
     "name": "stdout",
     "output_type": "stream",
     "text": [
      "Training...\n",
      "Epoch  1, CIFAR-10 Batch 1:  Loss: 1.91501    Accuracy:  0.3888\n",
      "Epoch  1, CIFAR-10 Batch 2:  Loss: 1.48194    Accuracy:  0.4214\n",
      "Epoch  1, CIFAR-10 Batch 3:  Loss: 1.3711    Accuracy:  0.4706\n",
      "Epoch  1, CIFAR-10 Batch 4:  Loss: 1.46438    Accuracy:  0.4822\n",
      "Epoch  1, CIFAR-10 Batch 5:  Loss: 1.33871    Accuracy:  0.5282\n",
      "Epoch  2, CIFAR-10 Batch 1:  Loss: 1.42147    Accuracy:  0.5434\n",
      "Epoch  2, CIFAR-10 Batch 2:  Loss: 1.23126    Accuracy:  0.5394\n",
      "Epoch  2, CIFAR-10 Batch 3:  Loss: 1.11564    Accuracy:  0.544\n",
      "Epoch  2, CIFAR-10 Batch 4:  Loss: 1.23223    Accuracy:  0.5578\n",
      "Epoch  2, CIFAR-10 Batch 5:  Loss: 1.20785    Accuracy:  0.5588\n",
      "Epoch  3, CIFAR-10 Batch 1:  Loss: 1.23478    Accuracy:  0.5658\n",
      "Epoch  3, CIFAR-10 Batch 2:  Loss: 1.14297    Accuracy:  0.583\n",
      "Epoch  3, CIFAR-10 Batch 3:  Loss: 1.01859    Accuracy:  0.5676\n",
      "Epoch  3, CIFAR-10 Batch 4:  Loss: 1.10643    Accuracy:  0.5868\n",
      "Epoch  3, CIFAR-10 Batch 5:  Loss: 1.06404    Accuracy:  0.5838\n",
      "Epoch  4, CIFAR-10 Batch 1:  Loss: 0.996544    Accuracy:  0.5968\n",
      "Epoch  4, CIFAR-10 Batch 2:  Loss: 1.02962    Accuracy:  0.5962\n",
      "Epoch  4, CIFAR-10 Batch 3:  Loss: 0.877721    Accuracy:  0.6098\n",
      "Epoch  4, CIFAR-10 Batch 4:  Loss: 0.999978    Accuracy:  0.6054\n",
      "Epoch  4, CIFAR-10 Batch 5:  Loss: 1.0081    Accuracy:  0.607\n",
      "Epoch  5, CIFAR-10 Batch 1:  Loss: 0.894378    Accuracy:  0.6222\n",
      "Epoch  5, CIFAR-10 Batch 2:  Loss: 0.982769    Accuracy:  0.5882\n",
      "Epoch  5, CIFAR-10 Batch 3:  Loss: 0.904991    Accuracy:  0.6028\n",
      "Epoch  5, CIFAR-10 Batch 4:  Loss: 0.908448    Accuracy:  0.622\n",
      "Epoch  5, CIFAR-10 Batch 5:  Loss: 0.963592    Accuracy:  0.6292\n",
      "Epoch  6, CIFAR-10 Batch 1:  Loss: 0.847866    Accuracy:  0.622\n",
      "Epoch  6, CIFAR-10 Batch 2:  Loss: 0.86614    Accuracy:  0.6322\n",
      "Epoch  6, CIFAR-10 Batch 3:  Loss: 0.73793    Accuracy:  0.6352\n",
      "Epoch  6, CIFAR-10 Batch 4:  Loss: 0.848587    Accuracy:  0.6306\n",
      "Epoch  6, CIFAR-10 Batch 5:  Loss: 0.854219    Accuracy:  0.643\n",
      "Epoch  7, CIFAR-10 Batch 1:  Loss: 0.815187    Accuracy:  0.6266\n",
      "Epoch  7, CIFAR-10 Batch 2:  Loss: 0.773887    Accuracy:  0.6404\n",
      "Epoch  7, CIFAR-10 Batch 3:  Loss: 0.747551    Accuracy:  0.6406\n",
      "Epoch  7, CIFAR-10 Batch 4:  Loss: 0.788849    Accuracy:  0.6398\n",
      "Epoch  7, CIFAR-10 Batch 5:  Loss: 0.871206    Accuracy:  0.6424\n",
      "Epoch  8, CIFAR-10 Batch 1:  Loss: 0.819344    Accuracy:  0.6362\n",
      "Epoch  8, CIFAR-10 Batch 2:  Loss: 0.790834    Accuracy:  0.6484\n",
      "Epoch  8, CIFAR-10 Batch 3:  Loss: 0.675766    Accuracy:  0.6448\n",
      "Epoch  8, CIFAR-10 Batch 4:  Loss: 0.751229    Accuracy:  0.6482\n",
      "Epoch  8, CIFAR-10 Batch 5:  Loss: 0.771115    Accuracy:  0.6504\n",
      "Epoch  9, CIFAR-10 Batch 1:  Loss: 0.772271    Accuracy:  0.6498\n",
      "Epoch  9, CIFAR-10 Batch 2:  Loss: 0.670084    Accuracy:  0.6448\n",
      "Epoch  9, CIFAR-10 Batch 3:  Loss: 0.634598    Accuracy:  0.6526\n",
      "Epoch  9, CIFAR-10 Batch 4:  Loss: 0.671257    Accuracy:  0.6552\n",
      "Epoch  9, CIFAR-10 Batch 5:  Loss: 0.710686    Accuracy:  0.6548\n",
      "Epoch 10, CIFAR-10 Batch 1:  Loss: 0.778885    Accuracy:  0.6382\n",
      "Epoch 10, CIFAR-10 Batch 2:  Loss: 0.67913    Accuracy:  0.6666\n",
      "Epoch 10, CIFAR-10 Batch 3:  Loss: 0.550401    Accuracy:  0.6622\n",
      "Epoch 10, CIFAR-10 Batch 4:  Loss: 0.641927    Accuracy:  0.6686\n",
      "Epoch 10, CIFAR-10 Batch 5:  Loss: 0.709465    Accuracy:  0.6704\n",
      "Epoch 11, CIFAR-10 Batch 1:  Loss: 0.779497    Accuracy:  0.6562\n",
      "Epoch 11, CIFAR-10 Batch 2:  Loss: 0.636425    Accuracy:  0.6612\n",
      "Epoch 11, CIFAR-10 Batch 3:  Loss: 0.538522    Accuracy:  0.6648\n",
      "Epoch 11, CIFAR-10 Batch 4:  Loss: 0.654233    Accuracy:  0.6642\n",
      "Epoch 11, CIFAR-10 Batch 5:  Loss: 0.669478    Accuracy:  0.6676\n",
      "Epoch 12, CIFAR-10 Batch 1:  Loss: 0.718207    Accuracy:  0.6656\n",
      "Epoch 12, CIFAR-10 Batch 2:  Loss: 0.617522    Accuracy:  0.6764\n",
      "Epoch 12, CIFAR-10 Batch 3:  Loss: 0.507029    Accuracy:  0.678\n",
      "Epoch 12, CIFAR-10 Batch 4:  Loss: 0.60611    Accuracy:  0.6754\n",
      "Epoch 12, CIFAR-10 Batch 5:  Loss: 0.675156    Accuracy:  0.6594\n",
      "Epoch 13, CIFAR-10 Batch 1:  Loss: 0.705118    Accuracy:  0.6652\n",
      "Epoch 13, CIFAR-10 Batch 2:  Loss: 0.604525    Accuracy:  0.6712\n",
      "Epoch 13, CIFAR-10 Batch 3:  Loss: 0.50186    Accuracy:  0.6762\n",
      "Epoch 13, CIFAR-10 Batch 4:  Loss: 0.615237    Accuracy:  0.6706\n",
      "Epoch 13, CIFAR-10 Batch 5:  Loss: 0.634596    Accuracy:  0.6762\n",
      "Epoch 14, CIFAR-10 Batch 1:  Loss: 0.692451    Accuracy:  0.6658\n",
      "Epoch 14, CIFAR-10 Batch 2:  Loss: 0.638452    Accuracy:  0.671\n",
      "Epoch 14, CIFAR-10 Batch 3:  Loss: 0.475454    Accuracy:  0.674\n",
      "Epoch 14, CIFAR-10 Batch 4:  Loss: 0.586222    Accuracy:  0.6734\n",
      "Epoch 14, CIFAR-10 Batch 5:  Loss: 0.592413    Accuracy:  0.6794\n",
      "Epoch 15, CIFAR-10 Batch 1:  Loss: 0.697026    Accuracy:  0.6782\n",
      "Epoch 15, CIFAR-10 Batch 2:  Loss: 0.609604    Accuracy:  0.6722\n",
      "Epoch 15, CIFAR-10 Batch 3:  Loss: 0.450987    Accuracy:  0.678\n",
      "Epoch 15, CIFAR-10 Batch 4:  Loss: 0.539469    Accuracy:  0.6768\n",
      "Epoch 15, CIFAR-10 Batch 5:  Loss: 0.579831    Accuracy:  0.6784\n",
      "Epoch 16, CIFAR-10 Batch 1:  Loss: 0.641053    Accuracy:  0.6816\n",
      "Epoch 16, CIFAR-10 Batch 2:  Loss: 0.573774    Accuracy:  0.683\n",
      "Epoch 16, CIFAR-10 Batch 3:  Loss: 0.458735    Accuracy:  0.6762\n",
      "Epoch 16, CIFAR-10 Batch 4:  Loss: 0.58037    Accuracy:  0.678\n",
      "Epoch 16, CIFAR-10 Batch 5:  Loss: 0.593933    Accuracy:  0.6632\n",
      "Epoch 17, CIFAR-10 Batch 1:  Loss: 0.641507    Accuracy:  0.6798\n",
      "Epoch 17, CIFAR-10 Batch 2:  Loss: 0.520171    Accuracy:  0.6778\n",
      "Epoch 17, CIFAR-10 Batch 3:  Loss: 0.421545    Accuracy:  0.6882\n",
      "Epoch 17, CIFAR-10 Batch 4:  Loss: 0.516148    Accuracy:  0.6692\n",
      "Epoch 17, CIFAR-10 Batch 5:  Loss: 0.535086    Accuracy:  0.677\n",
      "Epoch 18, CIFAR-10 Batch 1:  Loss: 0.604296    Accuracy:  0.6836\n",
      "Epoch 18, CIFAR-10 Batch 2:  Loss: 0.485504    Accuracy:  0.6816\n",
      "Epoch 18, CIFAR-10 Batch 3:  Loss: 0.429227    Accuracy:  0.6904\n",
      "Epoch 18, CIFAR-10 Batch 4:  Loss: 0.475262    Accuracy:  0.6892\n",
      "Epoch 18, CIFAR-10 Batch 5:  Loss: 0.542019    Accuracy:  0.6848\n",
      "Epoch 19, CIFAR-10 Batch 1:  Loss: 0.654002    Accuracy:  0.6702\n",
      "Epoch 19, CIFAR-10 Batch 2:  Loss: 0.500472    Accuracy:  0.6844\n",
      "Epoch 19, CIFAR-10 Batch 3:  Loss: 0.450194    Accuracy:  0.6898\n",
      "Epoch 19, CIFAR-10 Batch 4:  Loss: 0.489047    Accuracy:  0.6862\n",
      "Epoch 19, CIFAR-10 Batch 5:  Loss: 0.55393    Accuracy:  0.6784\n",
      "Epoch 20, CIFAR-10 Batch 1:  Loss: 0.629502    Accuracy:  0.6872\n",
      "Epoch 20, CIFAR-10 Batch 2:  Loss: 0.479184    Accuracy:  0.6856\n",
      "Epoch 20, CIFAR-10 Batch 3:  Loss: 0.411959    Accuracy:  0.6914\n",
      "Epoch 20, CIFAR-10 Batch 4:  Loss: 0.479378    Accuracy:  0.6932\n",
      "Epoch 20, CIFAR-10 Batch 5:  Loss: 0.520119    Accuracy:  0.6886\n",
      "Epoch 21, CIFAR-10 Batch 1:  Loss: 0.62837    Accuracy:  0.689\n",
      "Epoch 21, CIFAR-10 Batch 2:  Loss: 0.468568    Accuracy:  0.6874\n",
      "Epoch 21, CIFAR-10 Batch 3:  Loss: 0.427546    Accuracy:  0.6824\n",
      "Epoch 21, CIFAR-10 Batch 4:  Loss: 0.486085    Accuracy:  0.674\n",
      "Epoch 21, CIFAR-10 Batch 5:  Loss: 0.560129    Accuracy:  0.6662\n",
      "Epoch 22, CIFAR-10 Batch 1:  Loss: 0.591086    Accuracy:  0.687\n",
      "Epoch 22, CIFAR-10 Batch 2:  Loss: 0.496829    Accuracy:  0.6902\n",
      "Epoch 22, CIFAR-10 Batch 3:  Loss: 0.43014    Accuracy:  0.68\n",
      "Epoch 22, CIFAR-10 Batch 4:  Loss: 0.51043    Accuracy:  0.6926\n",
      "Epoch 22, CIFAR-10 Batch 5:  Loss: 0.531046    Accuracy:  0.686\n",
      "Epoch 23, CIFAR-10 Batch 1:  Loss: 0.604824    Accuracy:  0.6894\n",
      "Epoch 23, CIFAR-10 Batch 2:  Loss: 0.471061    Accuracy:  0.689\n",
      "Epoch 23, CIFAR-10 Batch 3:  Loss: 0.427629    Accuracy:  0.6878\n",
      "Epoch 23, CIFAR-10 Batch 4:  Loss: 0.451653    Accuracy:  0.6886\n",
      "Epoch 23, CIFAR-10 Batch 5:  Loss: 0.500109    Accuracy:  0.6786\n",
      "Epoch 24, CIFAR-10 Batch 1:  Loss: 0.553116    Accuracy:  0.6822\n",
      "Epoch 24, CIFAR-10 Batch 2:  Loss: 0.43488    Accuracy:  0.685\n",
      "Epoch 24, CIFAR-10 Batch 3:  Loss: 0.41228    Accuracy:  0.6788\n",
      "Epoch 24, CIFAR-10 Batch 4:  Loss: 0.460257    Accuracy:  0.683\n",
      "Epoch 24, CIFAR-10 Batch 5:  Loss: 0.488126    Accuracy:  0.683\n",
      "Epoch 25, CIFAR-10 Batch 1:  Loss: 0.497887    Accuracy:  0.6944\n",
      "Epoch 25, CIFAR-10 Batch 2:  Loss: 0.469096    Accuracy:  0.6966\n",
      "Epoch 25, CIFAR-10 Batch 3:  Loss: 0.378145    Accuracy:  0.6866\n",
      "Epoch 25, CIFAR-10 Batch 4:  Loss: 0.449555    Accuracy:  0.6808\n",
      "Epoch 25, CIFAR-10 Batch 5:  Loss: 0.49963    Accuracy:  0.689\n",
      "Epoch 26, CIFAR-10 Batch 1:  Loss: 0.593541    Accuracy:  0.6854\n",
      "Epoch 26, CIFAR-10 Batch 2:  Loss: 0.428675    Accuracy:  0.6876\n",
      "Epoch 26, CIFAR-10 Batch 3:  Loss: 0.367169    Accuracy:  0.692\n",
      "Epoch 26, CIFAR-10 Batch 4:  Loss: 0.445403    Accuracy:  0.697\n",
      "Epoch 26, CIFAR-10 Batch 5:  Loss: 0.476842    Accuracy:  0.6798\n",
      "Epoch 27, CIFAR-10 Batch 1:  Loss: 0.591218    Accuracy:  0.6902\n",
      "Epoch 27, CIFAR-10 Batch 2:  Loss: 0.380567    Accuracy:  0.6924\n",
      "Epoch 27, CIFAR-10 Batch 3:  Loss: 0.35612    Accuracy:  0.685\n",
      "Epoch 27, CIFAR-10 Batch 4:  Loss: 0.45075    Accuracy:  0.6884\n",
      "Epoch 27, CIFAR-10 Batch 5:  Loss: 0.435088    Accuracy:  0.691\n",
      "Epoch 28, CIFAR-10 Batch 1:  Loss: 0.550001    Accuracy:  0.6924\n",
      "Epoch 28, CIFAR-10 Batch 2:  Loss: 0.45773    Accuracy:  0.692\n",
      "Epoch 28, CIFAR-10 Batch 3:  Loss: 0.368153    Accuracy:  0.6886\n",
      "Epoch 28, CIFAR-10 Batch 4:  Loss: 0.405232    Accuracy:  0.6798\n",
      "Epoch 28, CIFAR-10 Batch 5:  Loss: 0.438228    Accuracy:  0.6858\n",
      "Epoch 29, CIFAR-10 Batch 1:  Loss: 0.530238    Accuracy:  0.703\n",
      "Epoch 29, CIFAR-10 Batch 2:  Loss: 0.396702    Accuracy:  0.6946\n",
      "Epoch 29, CIFAR-10 Batch 3:  Loss: 0.332673    Accuracy:  0.6954\n",
      "Epoch 29, CIFAR-10 Batch 4:  Loss: 0.407581    Accuracy:  0.6904\n",
      "Epoch 29, CIFAR-10 Batch 5:  Loss: 0.448331    Accuracy:  0.6952\n",
      "Epoch 30, CIFAR-10 Batch 1:  Loss: 0.479219    Accuracy:  0.6982\n",
      "Epoch 30, CIFAR-10 Batch 2:  Loss: 0.402519    Accuracy:  0.6988\n",
      "Epoch 30, CIFAR-10 Batch 3:  Loss: 0.370832    Accuracy:  0.6852\n",
      "Epoch 30, CIFAR-10 Batch 4:  Loss: 0.414795    Accuracy:  0.687\n",
      "Epoch 30, CIFAR-10 Batch 5:  Loss: 0.405171    Accuracy:  0.689\n",
      "Epoch 31, CIFAR-10 Batch 1:  Loss: 0.516356    Accuracy:  0.7012\n",
      "Epoch 31, CIFAR-10 Batch 2:  Loss: 0.386065    Accuracy:  0.6998\n",
      "Epoch 31, CIFAR-10 Batch 3:  Loss: 0.337011    Accuracy:  0.6936\n",
      "Epoch 31, CIFAR-10 Batch 4:  Loss: 0.395988    Accuracy:  0.6844\n",
      "Epoch 31, CIFAR-10 Batch 5:  Loss: 0.43885    Accuracy:  0.6968\n",
      "Epoch 32, CIFAR-10 Batch 1:  Loss: 0.515173    Accuracy:  0.687\n",
      "Epoch 32, CIFAR-10 Batch 2:  Loss: 0.40952    Accuracy:  0.6994\n",
      "Epoch 32, CIFAR-10 Batch 3:  Loss: 0.332511    Accuracy:  0.6916\n",
      "Epoch 32, CIFAR-10 Batch 4:  Loss: 0.438378    Accuracy:  0.6838\n",
      "Epoch 32, CIFAR-10 Batch 5:  Loss: 0.380947    Accuracy:  0.6918\n",
      "Epoch 33, CIFAR-10 Batch 1:  Loss: 0.458117    Accuracy:  0.6974\n",
      "Epoch 33, CIFAR-10 Batch 2:  Loss: 0.428594    Accuracy:  0.6924\n",
      "Epoch 33, CIFAR-10 Batch 3:  Loss: 0.357294    Accuracy:  0.699\n",
      "Epoch 33, CIFAR-10 Batch 4:  Loss: 0.372807    Accuracy:  0.7054\n",
      "Epoch 33, CIFAR-10 Batch 5:  Loss: 0.401027    Accuracy:  0.6946\n",
      "Epoch 34, CIFAR-10 Batch 1:  Loss: 0.502312    Accuracy:  0.706\n",
      "Epoch 34, CIFAR-10 Batch 2:  Loss: 0.402311    Accuracy:  0.7086\n",
      "Epoch 34, CIFAR-10 Batch 3:  Loss: 0.377915    Accuracy:  0.6966\n",
      "Epoch 34, CIFAR-10 Batch 4:  Loss: 0.350186    Accuracy:  0.6928\n",
      "Epoch 34, CIFAR-10 Batch 5:  Loss: 0.421521    Accuracy:  0.6946\n",
      "Epoch 35, CIFAR-10 Batch 1:  Loss: 0.496487    Accuracy:  0.7002\n",
      "Epoch 35, CIFAR-10 Batch 2:  Loss: 0.36862    Accuracy:  0.7008\n",
      "Epoch 35, CIFAR-10 Batch 3:  Loss: 0.339621    Accuracy:  0.7064\n",
      "Epoch 35, CIFAR-10 Batch 4:  Loss: 0.393501    Accuracy:  0.6884\n",
      "Epoch 35, CIFAR-10 Batch 5:  Loss: 0.369677    Accuracy:  0.6998\n",
      "Epoch 36, CIFAR-10 Batch 1:  Loss: 0.488533    Accuracy:  0.7008\n",
      "Epoch 36, CIFAR-10 Batch 2:  Loss: 0.360033    Accuracy:  0.703\n",
      "Epoch 36, CIFAR-10 Batch 3:  Loss: 0.306911    Accuracy:  0.6926\n",
      "Epoch 36, CIFAR-10 Batch 4:  Loss: 0.354846    Accuracy:  0.692\n",
      "Epoch 36, CIFAR-10 Batch 5:  Loss: 0.381347    Accuracy:  0.696\n",
      "Epoch 37, CIFAR-10 Batch 1:  Loss: 0.499372    Accuracy:  0.6948\n",
      "Epoch 37, CIFAR-10 Batch 2:  Loss: 0.395253    Accuracy:  0.6962\n",
      "Epoch 37, CIFAR-10 Batch 3:  Loss: 0.324825    Accuracy:  0.6904\n",
      "Epoch 37, CIFAR-10 Batch 4:  Loss: 0.368914    Accuracy:  0.6986\n",
      "Epoch 37, CIFAR-10 Batch 5:  Loss: 0.366697    Accuracy:  0.708\n",
      "Epoch 38, CIFAR-10 Batch 1:  Loss: 0.47841    Accuracy:  0.6992\n",
      "Epoch 38, CIFAR-10 Batch 2:  Loss: 0.356295    Accuracy:  0.7054\n",
      "Epoch 38, CIFAR-10 Batch 3:  Loss: 0.315708    Accuracy:  0.6998\n",
      "Epoch 38, CIFAR-10 Batch 4:  Loss: 0.33708    Accuracy:  0.7026\n",
      "Epoch 38, CIFAR-10 Batch 5:  Loss: 0.396048    Accuracy:  0.7134\n",
      "Epoch 39, CIFAR-10 Batch 1:  Loss: 0.493265    Accuracy:  0.7002\n",
      "Epoch 39, CIFAR-10 Batch 2:  Loss: 0.344948    Accuracy:  0.7044\n",
      "Epoch 39, CIFAR-10 Batch 3:  Loss: 0.312869    Accuracy:  0.6952\n",
      "Epoch 39, CIFAR-10 Batch 4:  Loss: 0.357666    Accuracy:  0.6966\n",
      "Epoch 39, CIFAR-10 Batch 5:  Loss: 0.360131    Accuracy:  0.6976\n",
      "Epoch 40, CIFAR-10 Batch 1:  Loss: 0.428737    Accuracy:  0.7056\n",
      "Epoch 40, CIFAR-10 Batch 2:  Loss: 0.363351    Accuracy:  0.6924\n",
      "Epoch 40, CIFAR-10 Batch 3:  Loss: 0.372535    Accuracy:  0.701\n",
      "Epoch 40, CIFAR-10 Batch 4:  Loss: 0.378473    Accuracy:  0.6906\n",
      "Epoch 40, CIFAR-10 Batch 5:  Loss: 0.380636    Accuracy:  0.7048\n",
      "Epoch 41, CIFAR-10 Batch 1:  Loss: 0.481761    Accuracy:  0.7044\n",
      "Epoch 41, CIFAR-10 Batch 2:  Loss: 0.394397    Accuracy:  0.7004\n",
      "Epoch 41, CIFAR-10 Batch 3:  Loss: 0.308243    Accuracy:  0.7052\n",
      "Epoch 41, CIFAR-10 Batch 4:  Loss: 0.354203    Accuracy:  0.695\n",
      "Epoch 41, CIFAR-10 Batch 5:  Loss: 0.400346    Accuracy:  0.6964\n",
      "Epoch 42, CIFAR-10 Batch 1:  Loss: 0.452668    Accuracy:  0.6944\n",
      "Epoch 42, CIFAR-10 Batch 2:  Loss: 0.359797    Accuracy:  0.7032\n",
      "Epoch 42, CIFAR-10 Batch 3:  Loss: 0.296896    Accuracy:  0.6954\n",
      "Epoch 42, CIFAR-10 Batch 4:  Loss: 0.35545    Accuracy:  0.6974\n",
      "Epoch 42, CIFAR-10 Batch 5:  Loss: 0.365354    Accuracy:  0.7052\n",
      "Epoch 43, CIFAR-10 Batch 1:  Loss: 0.467759    Accuracy:  0.7052\n",
      "Epoch 43, CIFAR-10 Batch 2:  Loss: 0.328771    Accuracy:  0.7048\n",
      "Epoch 43, CIFAR-10 Batch 3:  Loss: 0.308812    Accuracy:  0.697\n",
      "Epoch 43, CIFAR-10 Batch 4:  Loss: 0.370148    Accuracy:  0.6976\n",
      "Epoch 43, CIFAR-10 Batch 5:  Loss: 0.360634    Accuracy:  0.7088\n",
      "Epoch 44, CIFAR-10 Batch 1:  Loss: 0.457434    Accuracy:  0.701\n",
      "Epoch 44, CIFAR-10 Batch 2:  Loss: 0.361766    Accuracy:  0.7074\n",
      "Epoch 44, CIFAR-10 Batch 3:  Loss: 0.302043    Accuracy:  0.7026\n",
      "Epoch 44, CIFAR-10 Batch 4:  Loss: 0.364782    Accuracy:  0.6984\n",
      "Epoch 44, CIFAR-10 Batch 5:  Loss: 0.372781    Accuracy:  0.7038\n",
      "Epoch 45, CIFAR-10 Batch 1:  Loss: 0.421492    Accuracy:  0.7072\n",
      "Epoch 45, CIFAR-10 Batch 2:  Loss: 0.349711    Accuracy:  0.7118\n",
      "Epoch 45, CIFAR-10 Batch 3:  Loss: 0.318485    Accuracy:  0.6912\n",
      "Epoch 45, CIFAR-10 Batch 4:  Loss: 0.346182    Accuracy:  0.7012\n",
      "Epoch 45, CIFAR-10 Batch 5:  Loss: 0.328152    Accuracy:  0.7092\n",
      "Epoch 46, CIFAR-10 Batch 1:  Loss: 0.405093    Accuracy:  0.708\n",
      "Epoch 46, CIFAR-10 Batch 2:  Loss: 0.353353    Accuracy:  0.708\n",
      "Epoch 46, CIFAR-10 Batch 3:  Loss: 0.269335    Accuracy:  0.7084\n",
      "Epoch 46, CIFAR-10 Batch 4:  Loss: 0.331226    Accuracy:  0.695\n",
      "Epoch 46, CIFAR-10 Batch 5:  Loss: 0.303803    Accuracy:  0.7092\n",
      "Epoch 47, CIFAR-10 Batch 1:  Loss: 0.460824    Accuracy:  0.7074\n",
      "Epoch 47, CIFAR-10 Batch 2:  Loss: 0.368584    Accuracy:  0.7018\n",
      "Epoch 47, CIFAR-10 Batch 3:  Loss: 0.309882    Accuracy:  0.6924\n",
      "Epoch 47, CIFAR-10 Batch 4:  Loss: 0.32173    Accuracy:  0.6998\n",
      "Epoch 47, CIFAR-10 Batch 5:  Loss: 0.354499    Accuracy:  0.715\n",
      "Epoch 48, CIFAR-10 Batch 1:  Loss: 0.416197    Accuracy:  0.7088\n",
      "Epoch 48, CIFAR-10 Batch 2:  Loss: 0.335865    Accuracy:  0.71\n",
      "Epoch 48, CIFAR-10 Batch 3:  Loss: 0.24804    Accuracy:  0.7026\n",
      "Epoch 48, CIFAR-10 Batch 4:  Loss: 0.318612    Accuracy:  0.7002\n",
      "Epoch 48, CIFAR-10 Batch 5:  Loss: 0.342287    Accuracy:  0.7074\n",
      "Epoch 49, CIFAR-10 Batch 1:  Loss: 0.396304    Accuracy:  0.707\n",
      "Epoch 49, CIFAR-10 Batch 2:  Loss: 0.350083    Accuracy:  0.7044\n",
      "Epoch 49, CIFAR-10 Batch 3:  Loss: 0.286698    Accuracy:  0.7046\n",
      "Epoch 49, CIFAR-10 Batch 4:  Loss: 0.351428    Accuracy:  0.7114\n",
      "Epoch 49, CIFAR-10 Batch 5:  Loss: 0.351054    Accuracy:  0.7098\n",
      "Epoch 50, CIFAR-10 Batch 1:  Loss: 0.417276    Accuracy:  0.7062\n",
      "Epoch 50, CIFAR-10 Batch 2:  Loss: 0.324474    Accuracy:  0.7088\n",
      "Epoch 50, CIFAR-10 Batch 3:  Loss: 0.286825    Accuracy:  0.6974\n",
      "Epoch 50, CIFAR-10 Batch 4:  Loss: 0.342282    Accuracy:  0.7022\n",
      "Epoch 50, CIFAR-10 Batch 5:  Loss: 0.394083    Accuracy:  0.706\n"
     ]
    }
   ],
   "source": [
    "\"\"\"\n",
    "DON'T MODIFY ANYTHING IN THIS CELL\n",
    "\"\"\"\n",
    "save_model_path = './image_classification'\n",
    "\n",
    "print('Training...')\n",
    "with tf.Session() as sess:\n",
    "    # Initializing the variables\n",
    "    sess.run(tf.global_variables_initializer())\n",
    "    \n",
    "    # Training cycle\n",
    "    for epoch in range(epochs):\n",
    "        # Loop over all batches\n",
    "        n_batches = 5\n",
    "        for batch_i in range(1, n_batches + 1):\n",
    "            for batch_features, batch_labels in helper.load_preprocess_training_batch(batch_i, batch_size):\n",
    "                train_neural_network(sess, optimizer, keep_probability, batch_features, batch_labels)\n",
    "            print('Epoch {:>2}, CIFAR-10 Batch {}:  '.format(epoch + 1, batch_i), end='')\n",
    "            print_stats(sess, batch_features, batch_labels, cost, accuracy)\n",
    "            \n",
    "    # Save Model\n",
    "    saver = tf.train.Saver()\n",
    "    save_path = saver.save(sess, save_model_path)"
   ]
  },
  {
   "cell_type": "markdown",
   "metadata": {
    "deletable": true,
    "editable": true
   },
   "source": [
    "# Checkpoint\n",
    "The model has been saved to disk.\n",
    "## Test Model\n",
    "Test your model against the test dataset.  This will be your final accuracy. You should have an accuracy greater than 50%. If you don't, keep tweaking the model architecture and parameters."
   ]
  },
  {
   "cell_type": "code",
   "execution_count": 24,
   "metadata": {
    "collapsed": false,
    "deletable": true,
    "editable": true
   },
   "outputs": [
    {
     "name": "stdout",
     "output_type": "stream",
     "text": [
      "Testing Accuracy: 0.6985759493670886\n",
      "\n"
     ]
    },
    {
     "data": {
      "image/png": "[encoded data removed]",
      "text/plain": [
       "<matplotlib.figure.Figure at 0x7f2acd863f60>"
      ]
     },
     "metadata": {
      "image/png": {
       "height": 319,
       "width": 355
      }
     },
     "output_type": "display_data"
    }
   ],
   "source": [
    "\"\"\"\n",
    "DON'T MODIFY ANYTHING IN THIS CELL\n",
    "\"\"\"\n",
    "%matplotlib inline\n",
    "%config InlineBackend.figure_format = 'retina'\n",
    "\n",
    "import tensorflow as tf\n",
    "import pickle\n",
    "import helper\n",
    "import random\n",
    "\n",
    "# Set batch size if not already set\n",
    "try:\n",
    "    if batch_size:\n",
    "        pass\n",
    "except NameError:\n",
    "    batch_size = 64\n",
    "\n",
    "save_model_path = './image_classification'\n",
    "n_samples = 4\n",
    "top_n_predictions = 3\n",
    "\n",
    "def test_model():\n",
    "    \"\"\"\n",
    "    Test the saved model against the test dataset\n",
    "    \"\"\"\n",
    "\n",
    "    test_features, test_labels = pickle.load(open('preprocess_test.p', mode='rb'))\n",
    "    loaded_graph = tf.Graph()\n",
    "\n",
    "    with tf.Session(graph=loaded_graph) as sess:\n",
    "        # Load model\n",
    "        loader = tf.train.import_meta_graph(save_model_path + '.meta')\n",
    "        loader.restore(sess, save_model_path)\n",
    "\n",
    "        # Get Tensors from loaded model\n",
    "        loaded_x = loaded_graph.get_tensor_by_name('x:0')\n",
    "        loaded_y = loaded_graph.get_tensor_by_name('y:0')\n",
    "        loaded_keep_prob = loaded_graph.get_tensor_by_name('keep_prob:0')\n",
    "        loaded_logits = loaded_graph.get_tensor_by_name('logits:0')\n",
    "        loaded_acc = loaded_graph.get_tensor_by_name('accuracy:0')\n",
    "        \n",
    "        # Get accuracy in batches for memory limitations\n",
    "        test_batch_acc_total = 0\n",
    "        test_batch_count = 0\n",
    "        \n",
    "        for test_feature_batch, test_label_batch in helper.batch_features_labels(test_features, test_labels, batch_size):\n",
    "            test_batch_acc_total += sess.run(\n",
    "                loaded_acc,\n",
    "                feed_dict={loaded_x: test_feature_batch, loaded_y: test_label_batch, loaded_keep_prob: 1.0})\n",
    "            test_batch_count += 1\n",
    "\n",
    "        print('Testing Accuracy: {}\\n'.format(test_batch_acc_total/test_batch_count))\n",
    "\n",
    "        # Print Random Samples\n",
    "        random_test_features, random_test_labels = tuple(zip(*random.sample(list(zip(test_features, test_labels)), n_samples)))\n",
    "        random_test_predictions = sess.run(\n",
    "            tf.nn.top_k(tf.nn.softmax(loaded_logits), top_n_predictions),\n",
    "            feed_dict={loaded_x: random_test_features, loaded_y: random_test_labels, loaded_keep_prob: 1.0})\n",
    "        helper.display_image_predictions(random_test_features, random_test_labels, random_test_predictions)\n",
    "\n",
    "\n",
    "test_model()"
   ]
  },
  {
   "cell_type": "markdown",
   "metadata": {
    "deletable": true,
    "editable": true
   },
   "source": [
    "## Why 50-80% Accuracy?\n",
    "You might be wondering why you can't get an accuracy any higher. First things first, 50% isn't bad for a simple CNN.  Pure guessing would get you 10% accuracy. However, you might notice people are getting scores [well above 80%](http://rodrigob.github.io/are_we_there_yet/build/classification_datasets_results.html#43494641522d3130).  That's because we haven't taught you all there is to know about neural networks. We still need to cover a few more techniques.\n",
    "## Submitting This Project\n",
    "When submitting this project, make sure to run all the cells before saving the notebook.  Save the notebook file as \"dlnd_image_classification.ipynb\" and save it as a HTML file under \"File\" -> \"Download as\".  Include the \"helper.py\" and \"problem_unittests.py\" files in your submission."
   ]
  },
  {
   "cell_type": "code",
   "execution_count": null,
   "metadata": {
    "collapsed": true,
    "deletable": true,
    "editable": true
   },
   "outputs": [],
   "source": []
  }
 ],
 "metadata": {
  "anaconda-cloud": {},
  "kernelspec": {
   "display_name": "Python 3",
   "language": "python",
   "name": "python3"
  },
  "language_info": {
   "codemirror_mode": {
    "name": "ipython",
    "version": 3
   },
   "file_extension": ".py",
   "mimetype": "text/x-python",
   "name": "python",
   "nbconvert_exporter": "python",
   "pygments_lexer": "ipython3",
   "version": "3.5.2"
  },
  "widgets": {
   "state": {},
   "version": "1.1.2"
  }
 },
 "nbformat": 4,
 "nbformat_minor": 0
}
