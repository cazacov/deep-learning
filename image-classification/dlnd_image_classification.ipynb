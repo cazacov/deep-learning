{
 "cells": [
  {
   "cell_type": "markdown",
   "metadata": {
    "collapsed": true,
    "deletable": true,
    "editable": true
   },
   "source": [
    "# Image Classification\n",
    "In this project, you'll classify images from the [CIFAR-10 dataset](https://www.cs.toronto.edu/~kriz/cifar.html).  The dataset consists of airplanes, dogs, cats, and other objects. You'll preprocess the images, then train a convolutional neural network on all the samples. The images need to be normalized and the labels need to be one-hot encoded.  You'll get to apply what you learned and build a convolutional, max pooling, dropout, and fully connected layers.  At the end, you'll get to see your neural network's predictions on the sample images.\n",
    "## Get the Data\n",
    "Run the following cell to download the [CIFAR-10 dataset for python](https://www.cs.toronto.edu/~kriz/cifar-10-python.tar.gz)."
   ]
  },
  {
   "cell_type": "code",
   "execution_count": 1,
   "metadata": {
    "collapsed": false,
    "deletable": true,
    "editable": true
   },
   "outputs": [
    {
     "name": "stdout",
     "output_type": "stream",
     "text": [
      "All files found!\n"
     ]
    }
   ],
   "source": [
    "\"\"\"\n",
    "DON'T MODIFY ANYTHING IN THIS CELL THAT IS BELOW THIS LINE\n",
    "\"\"\"\n",
    "from urllib.request import urlretrieve\n",
    "from os.path import isfile, isdir\n",
    "from tqdm import tqdm\n",
    "import problem_unittests as tests\n",
    "import tarfile\n",
    "import numpy as np\n",
    "\n",
    "cifar10_dataset_folder_path = 'cifar-10-batches-py'\n",
    "\n",
    "# Use Floyd's cifar-10 dataset if present\n",
    "floyd_cifar10_location = '/input/cifar-10/python.tar.gz'\n",
    "if isfile(floyd_cifar10_location):\n",
    "    tar_gz_path = floyd_cifar10_location\n",
    "else:\n",
    "    tar_gz_path = 'cifar-10-python.tar.gz'\n",
    "\n",
    "class DLProgress(tqdm):\n",
    "    last_block = 0\n",
    "\n",
    "    def hook(self, block_num=1, block_size=1, total_size=None):\n",
    "        self.total = total_size\n",
    "        self.update((block_num - self.last_block) * block_size)\n",
    "        self.last_block = block_num\n",
    "\n",
    "if not isfile(tar_gz_path):\n",
    "    with DLProgress(unit='B', unit_scale=True, miniters=1, desc='CIFAR-10 Dataset') as pbar:\n",
    "        urlretrieve(\n",
    "            'https://www.cs.toronto.edu/~kriz/cifar-10-python.tar.gz',\n",
    "            tar_gz_path,\n",
    "            pbar.hook)\n",
    "\n",
    "if not isdir(cifar10_dataset_folder_path):\n",
    "    with tarfile.open(tar_gz_path) as tar:\n",
    "        tar.extractall()\n",
    "        tar.close()\n",
    "\n",
    "\n",
    "tests.test_folder_path(cifar10_dataset_folder_path)"
   ]
  },
  {
   "cell_type": "markdown",
   "metadata": {
    "deletable": true,
    "editable": true
   },
   "source": [
    "## Explore the Data\n",
    "The dataset is broken into batches to prevent your machine from running out of memory.  The CIFAR-10 dataset consists of 5 batches, named `data_batch_1`, `data_batch_2`, etc.. Each batch contains the labels and images that are one of the following:\n",
    "* airplane\n",
    "* automobile\n",
    "* bird\n",
    "* cat\n",
    "* deer\n",
    "* dog\n",
    "* frog\n",
    "* horse\n",
    "* ship\n",
    "* truck\n",
    "\n",
    "Understanding a dataset is part of making predictions on the data.  Play around with the code cell below by changing the `batch_id` and `sample_id`. The `batch_id` is the id for a batch (1-5). The `sample_id` is the id for a image and label pair in the batch.\n",
    "\n",
    "Ask yourself \"What are all possible labels?\", \"What is the range of values for the image data?\", \"Are the labels in order or random?\".  Answers to questions like these will help you preprocess the data and end up with better predictions."
   ]
  },
  {
   "cell_type": "code",
   "execution_count": 2,
   "metadata": {
    "collapsed": false,
    "deletable": true,
    "editable": true
   },
   "outputs": [
    {
     "name": "stdout",
     "output_type": "stream",
     "text": [
      "\n",
      "Stats of batch 1:\n",
      "Samples: 10000\n",
      "Label Counts: {0: 1005, 1: 974, 2: 1032, 3: 1016, 4: 999, 5: 937, 6: 1030, 7: 1001, 8: 1025, 9: 981}\n",
      "First 20 Labels: [6, 9, 9, 4, 1, 1, 2, 7, 8, 3, 4, 7, 7, 2, 9, 9, 9, 3, 2, 6]\n",
      "\n",
      "Example of Image 8:\n",
      "Image - Min Value: 8 Max Value: 252\n",
      "Image - Shape: (32, 32, 3)\n",
      "Label - Label Id: 8 Name: ship\n"
     ]
    },
    {
     "data": {
      "image/png": "[encoded data removed]",
      "text/plain": [
       "<matplotlib.figure.Figure at 0x7f465cdd32b0>"
      ]
     },
     "metadata": {
      "image/png": {
       "height": 250,
       "width": 253
      }
     },
     "output_type": "display_data"
    }
   ],
   "source": [
    "%matplotlib inline\n",
    "%config InlineBackend.figure_format = 'retina'\n",
    "\n",
    "import helper\n",
    "import numpy as np\n",
    "\n",
    "# Explore the dataset\n",
    "batch_id = 1\n",
    "sample_id = 8\n",
    "helper.display_stats(cifar10_dataset_folder_path, batch_id, sample_id)"
   ]
  },
  {
   "cell_type": "markdown",
   "metadata": {
    "deletable": true,
    "editable": true
   },
   "source": [
    "## Implement Preprocess Functions\n",
    "### Normalize\n",
    "In the cell below, implement the `normalize` function to take in image data, `x`, and return it as a normalized Numpy array. The values should be in the range of 0 to 1, inclusive.  The return object should be the same shape as `x`."
   ]
  },
  {
   "cell_type": "code",
   "execution_count": 3,
   "metadata": {
    "collapsed": false,
    "deletable": true,
    "editable": true
   },
   "outputs": [
    {
     "name": "stdout",
     "output_type": "stream",
     "text": [
      "Tests Passed\n"
     ]
    }
   ],
   "source": [
    "def normalize(x):\n",
    "    \"\"\"\n",
    "    Normalize a list of sample image data in the range of 0 to 1\n",
    "    : x: List of image data.  The image shape is (32, 32, 3)\n",
    "    : return: Numpy array of normalize data\n",
    "    \"\"\"\n",
    "    # TODO: Implement Function\n",
    "    a = 0\n",
    "    b = 1\n",
    "    intensity_min = 0\n",
    "    intensity_max = 255\n",
    "    \n",
    "    return a + (x - intensity_min) *(b-a) / (intensity_max - intensity_min)\n",
    "    \n",
    "\n",
    "\n",
    "\"\"\"\n",
    "DON'T MODIFY ANYTHING IN THIS CELL THAT IS BELOW THIS LINE\n",
    "\"\"\"\n",
    "tests.test_normalize(normalize)"
   ]
  },
  {
   "cell_type": "markdown",
   "metadata": {
    "deletable": true,
    "editable": true
   },
   "source": [
    "### One-hot encode\n",
    "Just like the previous code cell, you'll be implementing a function for preprocessing.  This time, you'll implement the `one_hot_encode` function. The input, `x`, are a list of labels.  Implement the function to return the list of labels as One-Hot encoded Numpy array.  The possible values for labels are 0 to 9. The one-hot encoding function should return the same encoding for each value between each call to `one_hot_encode`.  Make sure to save the map of encodings outside the function.\n",
    "\n",
    "Hint: Don't reinvent the wheel."
   ]
  },
  {
   "cell_type": "code",
   "execution_count": 4,
   "metadata": {
    "collapsed": false,
    "deletable": true,
    "editable": true
   },
   "outputs": [
    {
     "name": "stdout",
     "output_type": "stream",
     "text": [
      "Tests Passed\n"
     ]
    }
   ],
   "source": [
    "def one_hot_encode(x):\n",
    "    \"\"\"\n",
    "    One hot encode a list of sample labels. Return a one-hot encoded vector for each label.\n",
    "    : x: List of sample Labels\n",
    "    : return: Numpy array of one-hot encoded labels\n",
    "    \"\"\"\n",
    "    # TODO: Implement Function\n",
    "    \n",
    "    row_count = len(x)\n",
    "    result = np.zeros((row_count, 10))\n",
    "    result[np.arange(row_count), x] = 1\n",
    "    return result\n",
    "\n",
    "\n",
    "\"\"\"\n",
    "DON'T MODIFY ANYTHING IN THIS CELL THAT IS BELOW THIS LINE\n",
    "\"\"\"\n",
    "tests.test_one_hot_encode(one_hot_encode)"
   ]
  },
  {
   "cell_type": "markdown",
   "metadata": {
    "deletable": true,
    "editable": true
   },
   "source": [
    "### Randomize Data\n",
    "As you saw from exploring the data above, the order of the samples are randomized.  It doesn't hurt to randomize it again, but you don't need to for this dataset."
   ]
  },
  {
   "cell_type": "markdown",
   "metadata": {
    "deletable": true,
    "editable": true
   },
   "source": [
    "## Preprocess all the data and save it\n",
    "Running the code cell below will preprocess all the CIFAR-10 data and save it to file. The code below also uses 10% of the training data for validation."
   ]
  },
  {
   "cell_type": "code",
   "execution_count": 5,
   "metadata": {
    "collapsed": false,
    "deletable": true,
    "editable": true
   },
   "outputs": [],
   "source": [
    "\"\"\"\n",
    "DON'T MODIFY ANYTHING IN THIS CELL\n",
    "\"\"\"\n",
    "# Preprocess Training, Validation, and Testing Data\n",
    "helper.preprocess_and_save_data(cifar10_dataset_folder_path, normalize, one_hot_encode)"
   ]
  },
  {
   "cell_type": "markdown",
   "metadata": {
    "deletable": true,
    "editable": true
   },
   "source": [
    "# Check Point\n",
    "This is your first checkpoint.  If you ever decide to come back to this notebook or have to restart the notebook, you can start from here.  The preprocessed data has been saved to disk."
   ]
  },
  {
   "cell_type": "code",
   "execution_count": 6,
   "metadata": {
    "collapsed": true,
    "deletable": true,
    "editable": true
   },
   "outputs": [],
   "source": [
    "\"\"\"\n",
    "DON'T MODIFY ANYTHING IN THIS CELL\n",
    "\"\"\"\n",
    "import pickle\n",
    "import problem_unittests as tests\n",
    "import helper\n",
    "\n",
    "# Load the Preprocessed Validation data\n",
    "valid_features, valid_labels = pickle.load(open('preprocess_validation.p', mode='rb'))"
   ]
  },
  {
   "cell_type": "markdown",
   "metadata": {
    "deletable": true,
    "editable": true
   },
   "source": [
    "## Build the network\n",
    "For the neural network, you'll build each layer into a function.  Most of the code you've seen has been outside of functions. To test your code more thoroughly, we require that you put each layer in a function.  This allows us to give you better feedback and test for simple mistakes using our unittests before you submit your project.\n",
    "\n",
    ">**Note:** If you're finding it hard to dedicate enough time for this course each week, we've provided a small shortcut to this part of the project. In the next couple of problems, you'll have the option to use classes from the [TensorFlow Layers](https://www.tensorflow.org/api_docs/python/tf/layers) or [TensorFlow Layers (contrib)](https://www.tensorflow.org/api_guides/python/contrib.layers) packages to build each layer, except the layers you build in the \"Convolutional and Max Pooling Layer\" section.  TF Layers is similar to Keras's and TFLearn's abstraction to layers, so it's easy to pickup.\n",
    "\n",
    ">However, if you would like to get the most out of this course, try to solve all the problems _without_ using anything from the TF Layers packages. You **can** still use classes from other packages that happen to have the same name as ones you find in TF Layers! For example, instead of using the TF Layers version of the `conv2d` class, [tf.layers.conv2d](https://www.tensorflow.org/api_docs/python/tf/layers/conv2d), you would want to use the TF Neural Network version of `conv2d`, [tf.nn.conv2d](https://www.tensorflow.org/api_docs/python/tf/nn/conv2d). \n",
    "\n",
    "Let's begin!\n",
    "\n",
    "### Input\n",
    "The neural network needs to read the image data, one-hot encoded labels, and dropout keep probability. Implement the following functions\n",
    "* Implement `neural_net_image_input`\n",
    " * Return a [TF Placeholder](https://www.tensorflow.org/api_docs/python/tf/placeholder)\n",
    " * Set the shape using `image_shape` with batch size set to `None`.\n",
    " * Name the TensorFlow placeholder \"x\" using the TensorFlow `name` parameter in the [TF Placeholder](https://www.tensorflow.org/api_docs/python/tf/placeholder).\n",
    "* Implement `neural_net_label_input`\n",
    " * Return a [TF Placeholder](https://www.tensorflow.org/api_docs/python/tf/placeholder)\n",
    " * Set the shape using `n_classes` with batch size set to `None`.\n",
    " * Name the TensorFlow placeholder \"y\" using the TensorFlow `name` parameter in the [TF Placeholder](https://www.tensorflow.org/api_docs/python/tf/placeholder).\n",
    "* Implement `neural_net_keep_prob_input`\n",
    " * Return a [TF Placeholder](https://www.tensorflow.org/api_docs/python/tf/placeholder) for dropout keep probability.\n",
    " * Name the TensorFlow placeholder \"keep_prob\" using the TensorFlow `name` parameter in the [TF Placeholder](https://www.tensorflow.org/api_docs/python/tf/placeholder).\n",
    "\n",
    "These names will be used at the end of the project to load your saved model.\n",
    "\n",
    "Note: `None` for shapes in TensorFlow allow for a dynamic size."
   ]
  },
  {
   "cell_type": "code",
   "execution_count": 7,
   "metadata": {
    "collapsed": false,
    "deletable": true,
    "editable": true
   },
   "outputs": [
    {
     "name": "stdout",
     "output_type": "stream",
     "text": [
      "Image Input Tests Passed.\n",
      "Label Input Tests Passed.\n",
      "Keep Prob Tests Passed.\n"
     ]
    }
   ],
   "source": [
    "import tensorflow as tf\n",
    "\n",
    "def neural_net_image_input(image_shape):\n",
    "    \"\"\"\n",
    "    Return a Tensor for a batch of image input\n",
    "    : image_shape: Shape of the images\n",
    "    : return: Tensor for image input.\n",
    "    \"\"\"\n",
    "    # TODO: Implement Function\n",
    "\n",
    "    return tf.placeholder(tf.float32, (None,) + image_shape, name=\"x\")\n",
    "\n",
    "\n",
    "def neural_net_label_input(n_classes):\n",
    "    \"\"\"\n",
    "    Return a Tensor for a batch of label input\n",
    "    : n_classes: Number of classes\n",
    "    : return: Tensor for label input.\n",
    "    \"\"\"\n",
    "    # TODO: Implement Function\n",
    "    \n",
    "    return tf.placeholder(tf.float32, (None, n_classes), name=\"y\")\n",
    "\n",
    "\n",
    "def neural_net_keep_prob_input():\n",
    "    \"\"\"\n",
    "    Return a Tensor for keep probability\n",
    "    : return: Tensor for keep probability.\n",
    "    \"\"\"\n",
    "    # TODO: Implement Function\n",
    "    \n",
    "    return tf.placeholder(tf.float32, name=\"keep_prob\")\n",
    "\n",
    "\n",
    "\"\"\"\n",
    "DON'T MODIFY ANYTHING IN THIS CELL THAT IS BELOW THIS LINE\n",
    "\"\"\"\n",
    "tf.reset_default_graph()\n",
    "tests.test_nn_image_inputs(neural_net_image_input)\n",
    "tests.test_nn_label_inputs(neural_net_label_input)\n",
    "tests.test_nn_keep_prob_inputs(neural_net_keep_prob_input)"
   ]
  },
  {
   "cell_type": "markdown",
   "metadata": {
    "deletable": true,
    "editable": true
   },
   "source": [
    "### Convolution and Max Pooling Layer\n",
    "Convolution layers have a lot of success with images. For this code cell, you should implement the function `conv2d_maxpool` to apply convolution then max pooling:\n",
    "* Create the weight and bias using `conv_ksize`, `conv_num_outputs` and the shape of `x_tensor`.\n",
    "* Apply a convolution to `x_tensor` using weight and `conv_strides`.\n",
    " * We recommend you use same padding, but you're welcome to use any padding.\n",
    "* Add bias\n",
    "* Add a nonlinear activation to the convolution.\n",
    "* Apply Max Pooling using `pool_ksize` and `pool_strides`.\n",
    " * We recommend you use same padding, but you're welcome to use any padding.\n",
    "\n",
    "**Note:** You **can't** use [TensorFlow Layers](https://www.tensorflow.org/api_docs/python/tf/layers) or [TensorFlow Layers (contrib)](https://www.tensorflow.org/api_guides/python/contrib.layers) for **this** layer, but you can still use TensorFlow's [Neural Network](https://www.tensorflow.org/api_docs/python/tf/nn) package. You may still use the shortcut option for all the **other** layers."
   ]
  },
  {
   "cell_type": "code",
   "execution_count": 8,
   "metadata": {
    "collapsed": false,
    "deletable": true,
    "editable": true
   },
   "outputs": [
    {
     "name": "stdout",
     "output_type": "stream",
     "text": [
      "Tests Passed\n"
     ]
    }
   ],
   "source": [
    "def conv2d_maxpool(x_tensor, conv_num_outputs, conv_ksize, conv_strides, pool_ksize, pool_strides):\n",
    "    \"\"\"\n",
    "    Apply convolution then max pooling to x_tensor\n",
    "    :param x_tensor: TensorFlow Tensor\n",
    "    :param conv_num_outputs: Number of outputs for the convolutional layer\n",
    "    :param conv_ksize: kernal size 2-D Tuple for the convolutional layer\n",
    "    :param conv_strides: Stride 2-D Tuple for convolution\n",
    "    :param pool_ksize: kernal size 2-D Tuple for pool\n",
    "    :param pool_strides: Stride 2-D Tuple for pool\n",
    "    : return: A tensor that represents convolution and max pooling of x_tensor\n",
    "    \"\"\"\n",
    "    # TODO: Implement Function\n",
    "    \n",
    "    input_shape = x_tensor.get_shape().as_list()\n",
    "    input_depth = input_shape[3]\n",
    "    \n",
    "    weights_shape = conv_ksize + (input_depth, conv_num_outputs)\n",
    "    weights = tf.Variable(tf.truncated_normal(weights_shape))\n",
    "    \n",
    "    strides = (1, ) + conv_strides + (1,)\n",
    "    conv_padding = 'SAME'\n",
    "    \n",
    "    # Apply Convolution\n",
    "    conv = tf.nn.conv2d(x_tensor, weights, strides, conv_padding)\n",
    "    \n",
    "    # Add bias\n",
    "    conv_biases = tf.Variable(tf.zeros(conv_num_outputs))\n",
    "    conv = conv + conv_biases\n",
    "    \n",
    "    # Add non-linear activation\n",
    "    conv =  tf.nn.relu(conv)\n",
    "    \n",
    "    # Calculate maxpool parameters\n",
    "    mp_size = (1, ) + pool_ksize + (1,)\n",
    "    mp_strides = (1, ) + pool_strides + (1,)\n",
    "    mp_padding = 'SAME'\n",
    "    \n",
    "    # Apply Max Pooling\n",
    "    result = tf.nn.max_pool(conv, mp_size, mp_strides, mp_padding)\n",
    "    return result\n",
    "\n",
    "\n",
    "\"\"\"\n",
    "DON'T MODIFY ANYTHING IN THIS CELL THAT IS BELOW THIS LINE\n",
    "\"\"\"\n",
    "tests.test_con_pool(conv2d_maxpool)"
   ]
  },
  {
   "cell_type": "markdown",
   "metadata": {
    "deletable": true,
    "editable": true
   },
   "source": [
    "### Flatten Layer\n",
    "Implement the `flatten` function to change the dimension of `x_tensor` from a 4-D tensor to a 2-D tensor.  The output should be the shape (*Batch Size*, *Flattened Image Size*). Shortcut option: you can use classes from the [TensorFlow Layers](https://www.tensorflow.org/api_docs/python/tf/layers) or [TensorFlow Layers (contrib)](https://www.tensorflow.org/api_guides/python/contrib.layers) packages for this layer. For more of a challenge, only use other TensorFlow packages."
   ]
  },
  {
   "cell_type": "code",
   "execution_count": 9,
   "metadata": {
    "collapsed": false,
    "deletable": true,
    "editable": true
   },
   "outputs": [
    {
     "name": "stdout",
     "output_type": "stream",
     "text": [
      "Tests Passed\n"
     ]
    }
   ],
   "source": [
    "def flatten(x_tensor):\n",
    "    \"\"\"\n",
    "    Flatten x_tensor to (Batch Size, Flattened Image Size)\n",
    "    : x_tensor: A tensor of size (Batch Size, ...), where ... are the image dimensions.\n",
    "    : return: A tensor of size (Batch Size, Flattened Image Size).\n",
    "    \"\"\"\n",
    "    # TODO: Implement Function\n",
    "    input_shape = x_tensor.get_shape().as_list()\n",
    "    new_dimension = np.prod(input_shape[1:])\n",
    "    return tf.reshape(x_tensor, [-1, new_dimension])\n",
    "\n",
    "\n",
    "\"\"\"\n",
    "DON'T MODIFY ANYTHING IN THIS CELL THAT IS BELOW THIS LINE\n",
    "\"\"\"\n",
    "tests.test_flatten(flatten)"
   ]
  },
  {
   "cell_type": "markdown",
   "metadata": {
    "deletable": true,
    "editable": true
   },
   "source": [
    "### Fully-Connected Layer\n",
    "Implement the `fully_conn` function to apply a fully connected layer to `x_tensor` with the shape (*Batch Size*, *num_outputs*). Shortcut option: you can use classes from the [TensorFlow Layers](https://www.tensorflow.org/api_docs/python/tf/layers) or [TensorFlow Layers (contrib)](https://www.tensorflow.org/api_guides/python/contrib.layers) packages for this layer. For more of a challenge, only use other TensorFlow packages."
   ]
  },
  {
   "cell_type": "code",
   "execution_count": 10,
   "metadata": {
    "collapsed": false,
    "deletable": true,
    "editable": true
   },
   "outputs": [
    {
     "name": "stdout",
     "output_type": "stream",
     "text": [
      "Tests Passed\n"
     ]
    }
   ],
   "source": [
    "def fully_conn(x_tensor, num_outputs):\n",
    "    \"\"\"\n",
    "    Apply a fully connected layer to x_tensor using weight and bias\n",
    "    : x_tensor: A 2-D tensor where the first dimension is batch size.\n",
    "    : num_outputs: The number of output that the new tensor should be.\n",
    "    : return: A 2-D tensor where the second dimension is num_outputs.\n",
    "    \"\"\"\n",
    "    # TODO: Implement Function\n",
    "    \n",
    "    input_shape = x_tensor.get_shape().as_list()\n",
    "    num_inputs = input_shape[1]\n",
    "    deviation = num_inputs**-0.5\n",
    "    \n",
    "    weights = tf.Variable(tf.truncated_normal([num_inputs, num_outputs], stddev = deviation), name=\"w_fc\" + str(num_outputs))\n",
    "    bias = tf.Variable(tf.zeros([num_outputs]), name=\"b_fc\" + str(num_outputs))\n",
    "    \n",
    "    layer = tf.add(tf.matmul(x_tensor, weights), bias)\n",
    "    return layer\n",
    "\n",
    "\n",
    "\"\"\"\n",
    "DON'T MODIFY ANYTHING IN THIS CELL THAT IS BELOW THIS LINE\n",
    "\"\"\"\n",
    "tests.test_fully_conn(fully_conn)"
   ]
  },
  {
   "cell_type": "markdown",
   "metadata": {
    "deletable": true,
    "editable": true
   },
   "source": [
    "### Output Layer\n",
    "Implement the `output` function to apply a fully connected layer to `x_tensor` with the shape (*Batch Size*, *num_outputs*). Shortcut option: you can use classes from the [TensorFlow Layers](https://www.tensorflow.org/api_docs/python/tf/layers) or [TensorFlow Layers (contrib)](https://www.tensorflow.org/api_guides/python/contrib.layers) packages for this layer. For more of a challenge, only use other TensorFlow packages.\n",
    "\n",
    "**Note:** Activation, softmax, or cross entropy should **not** be applied to this."
   ]
  },
  {
   "cell_type": "code",
   "execution_count": 11,
   "metadata": {
    "collapsed": false,
    "deletable": true,
    "editable": true
   },
   "outputs": [
    {
     "name": "stdout",
     "output_type": "stream",
     "text": [
      "Tests Passed\n"
     ]
    }
   ],
   "source": [
    "def output(x_tensor, num_outputs):\n",
    "    \"\"\"\n",
    "    Apply a output layer to x_tensor using weight and bias\n",
    "    : x_tensor: A 2-D tensor where the first dimension is batch size.\n",
    "    : num_outputs: The number of output that the new tensor should be.\n",
    "    : return: A 2-D tensor where the second dimension is num_outputs.\n",
    "    \"\"\"\n",
    "    # TODO: Implement Function\n",
    "    input_shape = x_tensor.get_shape().as_list()\n",
    "    num_inputs = input_shape[1]\n",
    "    deviation = num_inputs**-0.5\n",
    "    \n",
    "    weights = tf.Variable(tf.truncated_normal([num_inputs, num_outputs], stddev = deviation), name=\"w_o\")\n",
    "    bias = tf.Variable(tf.zeros([num_outputs]), name=\"b_o\")\n",
    "    \n",
    "    layer = tf.add(tf.matmul(x_tensor, weights), bias)\n",
    "    return layer\n",
    "\n",
    "\n",
    "\"\"\"\n",
    "DON'T MODIFY ANYTHING IN THIS CELL THAT IS BELOW THIS LINE\n",
    "\"\"\"\n",
    "tests.test_output(output)"
   ]
  },
  {
   "cell_type": "markdown",
   "metadata": {
    "deletable": true,
    "editable": true
   },
   "source": [
    "### Create Convolutional Model\n",
    "Implement the function `conv_net` to create a convolutional neural network model. The function takes in a batch of images, `x`, and outputs logits.  Use the layers you created above to create this model:\n",
    "\n",
    "* Apply 1, 2, or 3 Convolution and Max Pool layers\n",
    "* Apply a Flatten Layer\n",
    "* Apply 1, 2, or 3 Fully Connected Layers\n",
    "* Apply an Output Layer\n",
    "* Return the output\n",
    "* Apply [TensorFlow's Dropout](https://www.tensorflow.org/api_docs/python/tf/nn/dropout) to one or more layers in the model using `keep_prob`. "
   ]
  },
  {
   "cell_type": "code",
   "execution_count": 37,
   "metadata": {
    "collapsed": false,
    "deletable": true,
    "editable": true
   },
   "outputs": [
    {
     "name": "stdout",
     "output_type": "stream",
     "text": [
      "Neural Network Built!\n"
     ]
    }
   ],
   "source": [
    "def conv_net(x, keep_prob):\n",
    "    \"\"\"\n",
    "    Create a convolutional neural network model\n",
    "    : x: Placeholder tensor that holds image data.\n",
    "    : keep_prob: Placeholder tensor that hold dropout keep probability.\n",
    "    : return: Tensor that represents logits\n",
    "    \"\"\"\n",
    "    # TODO: Apply 1, 2, or 3 Convolution and Max Pool layers\n",
    "    #    Play around with different number of outputs, kernel size and stride\n",
    "    # Function Definition from Above:\n",
    "    \n",
    "    #    conv2d_maxpool(x_tensor, conv_num_outputs, conv_ksize, conv_strides, pool_ksize, pool_strides)\n",
    "    \n",
    "    conv_outputs = 64\n",
    "    conv_ksize = (6,6)\n",
    "    conv_strides = (2,2)\n",
    "    pool_ksize = (4,4)\n",
    "    pool_strides = (2,2)\n",
    "    \n",
    "    conv = conv2d_maxpool(x, conv_outputs, conv_ksize, conv_strides, pool_ksize, pool_strides)\n",
    "    \n",
    "    # TODO: Apply a Flatten Layer\n",
    "    # Function Definition from Above:\n",
    "    #   flatten(x_tensor)\n",
    "    flat = flatten(conv)\n",
    "    #flat = tf.nn.dropout(flat,  keep_prob)\n",
    "    \n",
    "    # TODO: Apply 1, 2, or 3 Fully Connected Layers\n",
    "    #    Play around with different number of outputs\n",
    "    # Function Definition from Above:\n",
    "    #   fully_conn(x_tensor, num_outputs)\n",
    "\n",
    "    conn = fully_conn(flat, 200)\n",
    "    # Apply dropout\n",
    "    conn = tf.nn.dropout(conn,  keep_prob)\n",
    "    \n",
    "    # Second hidden layer\n",
    "    conn2 = fully_conn(conn, 100)\n",
    "    \n",
    "    \n",
    "    # TODO: Apply an Output Layer\n",
    "    #    Set this to the number of classes\n",
    "    # Function Definition from Above:\n",
    "    out = output(conn2, 10)\n",
    "    \n",
    "    # TODO: return output\n",
    "    return out\n",
    "\n",
    "\n",
    "\"\"\"\n",
    "DON'T MODIFY ANYTHING IN THIS CELL THAT IS BELOW THIS LINE\n",
    "\"\"\"\n",
    "\n",
    "##############################\n",
    "## Build the Neural Network ##\n",
    "##############################\n",
    "\n",
    "# Remove previous weights, bias, inputs, etc..\n",
    "tf.reset_default_graph()\n",
    "\n",
    "# Inputs\n",
    "x = neural_net_image_input((32, 32, 3))\n",
    "y = neural_net_label_input(10)\n",
    "keep_prob = neural_net_keep_prob_input()\n",
    "\n",
    "# Model\n",
    "logits = conv_net(x, keep_prob)\n",
    "\n",
    "# Name logits Tensor, so that is can be loaded from disk after training\n",
    "logits = tf.identity(logits, name='logits')\n",
    "\n",
    "# Loss and Optimizer\n",
    "cost = tf.reduce_mean(tf.nn.softmax_cross_entropy_with_logits(logits=logits, labels=y))\n",
    "optimizer = tf.train.AdamOptimizer().minimize(cost)\n",
    "\n",
    "# Accuracy\n",
    "correct_pred = tf.equal(tf.argmax(logits, 1), tf.argmax(y, 1))\n",
    "accuracy = tf.reduce_mean(tf.cast(correct_pred, tf.float32), name='accuracy')\n",
    "\n",
    "tests.test_conv_net(conv_net)"
   ]
  },
  {
   "cell_type": "markdown",
   "metadata": {
    "deletable": true,
    "editable": true
   },
   "source": [
    "## Train the Neural Network\n",
    "### Single Optimization\n",
    "Implement the function `train_neural_network` to do a single optimization.  The optimization should use `optimizer` to optimize in `session` with a `feed_dict` of the following:\n",
    "* `x` for image input\n",
    "* `y` for labels\n",
    "* `keep_prob` for keep probability for dropout\n",
    "\n",
    "This function will be called for each batch, so `tf.global_variables_initializer()` has already been called.\n",
    "\n",
    "Note: Nothing needs to be returned. This function is only optimizing the neural network."
   ]
  },
  {
   "cell_type": "code",
   "execution_count": 38,
   "metadata": {
    "collapsed": false,
    "deletable": true,
    "editable": true
   },
   "outputs": [
    {
     "name": "stdout",
     "output_type": "stream",
     "text": [
      "Tests Passed\n"
     ]
    }
   ],
   "source": [
    "def train_neural_network(session, optimizer, keep_probability, feature_batch, label_batch):\n",
    "    \"\"\"\n",
    "    Optimize the session on a batch of images and labels\n",
    "    : session: Current TensorFlow session\n",
    "    : optimizer: TensorFlow optimizer function\n",
    "    : keep_probability: keep probability\n",
    "    : feature_batch: Batch of Numpy image data\n",
    "    : label_batch: Batch of Numpy label data\n",
    "    \"\"\"\n",
    "    session.run(optimizer, feed_dict = {\n",
    "        x: feature_batch,\n",
    "        y: label_batch,\n",
    "        keep_prob: keep_probability\n",
    "    })\n",
    "\n",
    "\n",
    "\"\"\"\n",
    "DON'T MODIFY ANYTHING IN THIS CELL THAT IS BELOW THIS LINE\n",
    "\"\"\"\n",
    "tests.test_train_nn(train_neural_network)"
   ]
  },
  {
   "cell_type": "markdown",
   "metadata": {
    "deletable": true,
    "editable": true
   },
   "source": [
    "### Show Stats\n",
    "Implement the function `print_stats` to print loss and validation accuracy.  Use the global variables `valid_features` and `valid_labels` to calculate validation accuracy.  Use a keep probability of `1.0` to calculate the loss and validation accuracy."
   ]
  },
  {
   "cell_type": "code",
   "execution_count": 39,
   "metadata": {
    "collapsed": false,
    "deletable": true,
    "editable": true
   },
   "outputs": [],
   "source": [
    "def print_stats(session, feature_batch, label_batch, cost, accuracy):\n",
    "    \"\"\"\n",
    "    Print information about loss and validation accuracy\n",
    "    : session: Current TensorFlow session\n",
    "    : feature_batch: Batch of Numpy image data\n",
    "    : label_batch: Batch of Numpy label data\n",
    "    : cost: TensorFlow cost function\n",
    "    : accuracy: TensorFlow accuracy function\n",
    "    \"\"\"\n",
    "    # TODO: Implement Function\n",
    "    \n",
    "    loss = session.run(cost, feed_dict={\n",
    "        x: feature_batch,\n",
    "        y: label_batch,\n",
    "        keep_prob: 1})\n",
    "    \n",
    "    validation_accuracy = session.run(accuracy, feed_dict={\n",
    "        x: valid_features,\n",
    "        y: valid_labels,\n",
    "        keep_prob: 1})\n",
    "    \n",
    "    print(loss, validation_accuracy)"
   ]
  },
  {
   "cell_type": "markdown",
   "metadata": {
    "deletable": true,
    "editable": true
   },
   "source": [
    "### Hyperparameters\n",
    "Tune the following parameters:\n",
    "* Set `epochs` to the number of iterations until the network stops learning or start overfitting\n",
    "* Set `batch_size` to the highest number that your machine has memory for.  Most people set them to common sizes of memory:\n",
    " * 64\n",
    " * 128\n",
    " * 256\n",
    " * ...\n",
    "* Set `keep_probability` to the probability of keeping a node using dropout"
   ]
  },
  {
   "cell_type": "code",
   "execution_count": 44,
   "metadata": {
    "collapsed": true,
    "deletable": true,
    "editable": true
   },
   "outputs": [],
   "source": [
    "# TODO: Tune Parameters\n",
    "epochs = 40\n",
    "batch_size = 128\n",
    "keep_probability = 0.3"
   ]
  },
  {
   "cell_type": "markdown",
   "metadata": {
    "deletable": true,
    "editable": true
   },
   "source": [
    "### Train on a Single CIFAR-10 Batch\n",
    "Instead of training the neural network on all the CIFAR-10 batches of data, let's use a single batch. This should save time while you iterate on the model to get a better accuracy.  Once the final validation accuracy is 50% or greater, run the model on all the data in the next section."
   ]
  },
  {
   "cell_type": "code",
   "execution_count": 45,
   "metadata": {
    "collapsed": false,
    "deletable": true,
    "editable": true
   },
   "outputs": [
    {
     "name": "stdout",
     "output_type": "stream",
     "text": [
      "Checking the Training on a Single Batch...\n",
      "Epoch  1, CIFAR-10 Batch 1:  1.85842 0.384\n",
      "Epoch  2, CIFAR-10 Batch 1:  1.51933 0.4702\n",
      "Epoch  3, CIFAR-10 Batch 1:  1.40885 0.4946\n",
      "Epoch  4, CIFAR-10 Batch 1:  1.23479 0.5188\n",
      "Epoch  5, CIFAR-10 Batch 1:  1.12309 0.5182\n",
      "Epoch  6, CIFAR-10 Batch 1:  0.987987 0.5456\n",
      "Epoch  7, CIFAR-10 Batch 1:  0.960341 0.5444\n",
      "Epoch  8, CIFAR-10 Batch 1:  0.890243 0.56\n",
      "Epoch  9, CIFAR-10 Batch 1:  0.847699 0.5542\n",
      "Epoch 10, CIFAR-10 Batch 1:  0.800038 0.5472\n",
      "Epoch 11, CIFAR-10 Batch 1:  0.756592 0.5662\n",
      "Epoch 12, CIFAR-10 Batch 1:  0.678428 0.5688\n",
      "Epoch 13, CIFAR-10 Batch 1:  0.663603 0.5656\n",
      "Epoch 14, CIFAR-10 Batch 1:  0.589179 0.5596\n",
      "Epoch 15, CIFAR-10 Batch 1:  0.63204 0.5572\n",
      "Epoch 16, CIFAR-10 Batch 1:  0.585332 0.562\n",
      "Epoch 17, CIFAR-10 Batch 1:  0.515313 0.5578\n",
      "Epoch 18, CIFAR-10 Batch 1:  0.484803 0.5648\n",
      "Epoch 19, CIFAR-10 Batch 1:  0.439969 0.56\n",
      "Epoch 20, CIFAR-10 Batch 1:  0.461601 0.5584\n",
      "Epoch 21, CIFAR-10 Batch 1:  0.446754 0.5596\n",
      "Epoch 22, CIFAR-10 Batch 1:  0.411164 0.5428\n",
      "Epoch 23, CIFAR-10 Batch 1:  0.379069 0.5492\n",
      "Epoch 24, CIFAR-10 Batch 1:  0.338777 0.552\n",
      "Epoch 25, CIFAR-10 Batch 1:  0.337012 0.5594\n",
      "Epoch 26, CIFAR-10 Batch 1:  0.325979 0.557\n",
      "Epoch 27, CIFAR-10 Batch 1:  0.293496 0.5564\n",
      "Epoch 28, CIFAR-10 Batch 1:  0.276663 0.5512\n",
      "Epoch 29, CIFAR-10 Batch 1:  0.303203 0.5512\n",
      "Epoch 30, CIFAR-10 Batch 1:  0.251957 0.5654\n",
      "Epoch 31, CIFAR-10 Batch 1:  0.235322 0.5612\n",
      "Epoch 32, CIFAR-10 Batch 1:  0.235639 0.5492\n",
      "Epoch 33, CIFAR-10 Batch 1:  0.244677 0.5482\n",
      "Epoch 34, CIFAR-10 Batch 1:  0.230782 0.5612\n",
      "Epoch 35, CIFAR-10 Batch 1:  0.20376 0.553\n",
      "Epoch 36, CIFAR-10 Batch 1:  0.218974 0.5446\n",
      "Epoch 37, CIFAR-10 Batch 1:  0.198238 0.5334\n",
      "Epoch 38, CIFAR-10 Batch 1:  0.188828 0.5306\n",
      "Epoch 39, CIFAR-10 Batch 1:  0.173677 0.5466\n",
      "Epoch 40, CIFAR-10 Batch 1:  0.174192 0.5344\n"
     ]
    }
   ],
   "source": [
    "\"\"\"\n",
    "DON'T MODIFY ANYTHING IN THIS CELL\n",
    "\"\"\"\n",
    "print('Checking the Training on a Single Batch...')\n",
    "with tf.Session() as sess:\n",
    "    # Initializing the variables\n",
    "    sess.run(tf.global_variables_initializer())\n",
    "    \n",
    "    # Training cycle\n",
    "    for epoch in range(epochs):\n",
    "        batch_i = 1\n",
    "        for batch_features, batch_labels in helper.load_preprocess_training_batch(batch_i, batch_size):\n",
    "            train_neural_network(sess, optimizer, keep_probability, batch_features, batch_labels)\n",
    "        print('Epoch {:>2}, CIFAR-10 Batch {}:  '.format(epoch + 1, batch_i), end='')\n",
    "        print_stats(sess, batch_features, batch_labels, cost, accuracy)"
   ]
  },
  {
   "cell_type": "markdown",
   "metadata": {
    "deletable": true,
    "editable": true
   },
   "source": [
    "### Fully Train the Model\n",
    "Now that you got a good accuracy with a single CIFAR-10 batch, try it with all five batches."
   ]
  },
  {
   "cell_type": "code",
   "execution_count": 46,
   "metadata": {
    "collapsed": false,
    "deletable": true,
    "editable": true
   },
   "outputs": [
    {
     "name": "stdout",
     "output_type": "stream",
     "text": [
      "Training...\n",
      "Epoch  1, CIFAR-10 Batch 1:  2.37198 0.381\n",
      "Epoch  1, CIFAR-10 Batch 2:  1.63893 0.4592\n",
      "Epoch  1, CIFAR-10 Batch 3:  1.45476 0.4572\n",
      "Epoch  1, CIFAR-10 Batch 4:  1.33395 0.5018\n",
      "Epoch  1, CIFAR-10 Batch 5:  1.4451 0.5108\n",
      "Epoch  2, CIFAR-10 Batch 1:  1.45984 0.5178\n",
      "Epoch  2, CIFAR-10 Batch 2:  1.30984 0.527\n",
      "Epoch  2, CIFAR-10 Batch 3:  1.17477 0.5354\n",
      "Epoch  2, CIFAR-10 Batch 4:  1.119 0.5434\n",
      "Epoch  2, CIFAR-10 Batch 5:  1.23076 0.5576\n",
      "Epoch  3, CIFAR-10 Batch 1:  1.24988 0.5574\n",
      "Epoch  3, CIFAR-10 Batch 2:  1.12791 0.5414\n",
      "Epoch  3, CIFAR-10 Batch 3:  0.988377 0.5694\n",
      "Epoch  3, CIFAR-10 Batch 4:  0.997532 0.5708\n",
      "Epoch  3, CIFAR-10 Batch 5:  1.1302 0.5712\n",
      "Epoch  4, CIFAR-10 Batch 1:  1.13647 0.5752\n",
      "Epoch  4, CIFAR-10 Batch 2:  1.03657 0.5652\n",
      "Epoch  4, CIFAR-10 Batch 3:  0.862028 0.5632\n",
      "Epoch  4, CIFAR-10 Batch 4:  0.96364 0.5754\n",
      "Epoch  4, CIFAR-10 Batch 5:  1.10259 0.564\n",
      "Epoch  5, CIFAR-10 Batch 1:  1.06188 0.5928\n",
      "Epoch  5, CIFAR-10 Batch 2:  0.982404 0.583\n",
      "Epoch  5, CIFAR-10 Batch 3:  0.787103 0.5702\n",
      "Epoch  5, CIFAR-10 Batch 4:  0.876956 0.5896\n",
      "Epoch  5, CIFAR-10 Batch 5:  1.00197 0.5832\n",
      "Epoch  6, CIFAR-10 Batch 1:  0.980693 0.606\n",
      "Epoch  6, CIFAR-10 Batch 2:  0.894685 0.5912\n",
      "Epoch  6, CIFAR-10 Batch 3:  0.688187 0.5916\n",
      "Epoch  6, CIFAR-10 Batch 4:  0.862737 0.5984\n",
      "Epoch  6, CIFAR-10 Batch 5:  0.952695 0.5836\n",
      "Epoch  7, CIFAR-10 Batch 1:  0.947404 0.606\n",
      "Epoch  7, CIFAR-10 Batch 2:  0.801442 0.5978\n",
      "Epoch  7, CIFAR-10 Batch 3:  0.615771 0.596\n",
      "Epoch  7, CIFAR-10 Batch 4:  0.898035 0.595\n",
      "Epoch  7, CIFAR-10 Batch 5:  0.860732 0.6052\n",
      "Epoch  8, CIFAR-10 Batch 1:  0.960208 0.6092\n",
      "Epoch  8, CIFAR-10 Batch 2:  0.769846 0.6174\n",
      "Epoch  8, CIFAR-10 Batch 3:  0.624763 0.5904\n",
      "Epoch  8, CIFAR-10 Batch 4:  0.849185 0.6018\n",
      "Epoch  8, CIFAR-10 Batch 5:  0.81339 0.6086\n",
      "Epoch  9, CIFAR-10 Batch 1:  0.925124 0.6126\n",
      "Epoch  9, CIFAR-10 Batch 2:  0.785365 0.6082\n",
      "Epoch  9, CIFAR-10 Batch 3:  0.570158 0.611\n",
      "Epoch  9, CIFAR-10 Batch 4:  0.801855 0.61\n",
      "Epoch  9, CIFAR-10 Batch 5:  0.801341 0.5992\n",
      "Epoch 10, CIFAR-10 Batch 1:  0.859468 0.6168\n",
      "Epoch 10, CIFAR-10 Batch 2:  0.712485 0.6204\n",
      "Epoch 10, CIFAR-10 Batch 3:  0.539391 0.6228\n",
      "Epoch 10, CIFAR-10 Batch 4:  0.799392 0.6154\n",
      "Epoch 10, CIFAR-10 Batch 5:  0.78677 0.604\n",
      "Epoch 11, CIFAR-10 Batch 1:  0.82953 0.617\n",
      "Epoch 11, CIFAR-10 Batch 2:  0.658123 0.6264\n",
      "Epoch 11, CIFAR-10 Batch 3:  0.501034 0.6214\n",
      "Epoch 11, CIFAR-10 Batch 4:  0.762213 0.6232\n",
      "Epoch 11, CIFAR-10 Batch 5:  0.708716 0.6146\n",
      "Epoch 12, CIFAR-10 Batch 1:  0.779302 0.6254\n",
      "Epoch 12, CIFAR-10 Batch 2:  0.609507 0.6282\n",
      "Epoch 12, CIFAR-10 Batch 3:  0.504328 0.6202\n",
      "Epoch 12, CIFAR-10 Batch 4:  0.741893 0.628\n",
      "Epoch 12, CIFAR-10 Batch 5:  0.707528 0.6206\n",
      "Epoch 13, CIFAR-10 Batch 1:  0.755498 0.6258\n",
      "Epoch 13, CIFAR-10 Batch 2:  0.626911 0.628\n",
      "Epoch 13, CIFAR-10 Batch 3:  0.463014 0.6142\n",
      "Epoch 13, CIFAR-10 Batch 4:  0.694113 0.6162\n",
      "Epoch 13, CIFAR-10 Batch 5:  0.680616 0.6154\n",
      "Epoch 14, CIFAR-10 Batch 1:  0.723008 0.6272\n",
      "Epoch 14, CIFAR-10 Batch 2:  0.582224 0.6352\n",
      "Epoch 14, CIFAR-10 Batch 3:  0.467995 0.6164\n",
      "Epoch 14, CIFAR-10 Batch 4:  0.722266 0.6274\n",
      "Epoch 14, CIFAR-10 Batch 5:  0.653132 0.6198\n",
      "Epoch 15, CIFAR-10 Batch 1:  0.708482 0.6284\n",
      "Epoch 15, CIFAR-10 Batch 2:  0.58771 0.6346\n",
      "Epoch 15, CIFAR-10 Batch 3:  0.43963 0.625\n",
      "Epoch 15, CIFAR-10 Batch 4:  0.654983 0.6182\n",
      "Epoch 15, CIFAR-10 Batch 5:  0.675049 0.604\n",
      "Epoch 16, CIFAR-10 Batch 1:  0.67205 0.6296\n",
      "Epoch 16, CIFAR-10 Batch 2:  0.560576 0.636\n",
      "Epoch 16, CIFAR-10 Batch 3:  0.405783 0.6236\n",
      "Epoch 16, CIFAR-10 Batch 4:  0.662363 0.6278\n",
      "Epoch 16, CIFAR-10 Batch 5:  0.621272 0.6162\n",
      "Epoch 17, CIFAR-10 Batch 1:  0.66578 0.6252\n",
      "Epoch 17, CIFAR-10 Batch 2:  0.57757 0.6314\n",
      "Epoch 17, CIFAR-10 Batch 3:  0.433543 0.627\n",
      "Epoch 17, CIFAR-10 Batch 4:  0.626207 0.6216\n",
      "Epoch 17, CIFAR-10 Batch 5:  0.671783 0.6076\n",
      "Epoch 18, CIFAR-10 Batch 1:  0.651306 0.6298\n",
      "Epoch 18, CIFAR-10 Batch 2:  0.563531 0.6418\n",
      "Epoch 18, CIFAR-10 Batch 3:  0.412483 0.6306\n",
      "Epoch 18, CIFAR-10 Batch 4:  0.604699 0.6308\n",
      "Epoch 18, CIFAR-10 Batch 5:  0.652624 0.6116\n",
      "Epoch 19, CIFAR-10 Batch 1:  0.627905 0.629\n",
      "Epoch 19, CIFAR-10 Batch 2:  0.579734 0.631\n",
      "Epoch 19, CIFAR-10 Batch 3:  0.407431 0.6224\n",
      "Epoch 19, CIFAR-10 Batch 4:  0.607598 0.6242\n",
      "Epoch 19, CIFAR-10 Batch 5:  0.605383 0.6158\n",
      "Epoch 20, CIFAR-10 Batch 1:  0.608255 0.629\n",
      "Epoch 20, CIFAR-10 Batch 2:  0.482503 0.6402\n",
      "Epoch 20, CIFAR-10 Batch 3:  0.393968 0.626\n",
      "Epoch 20, CIFAR-10 Batch 4:  0.584928 0.6258\n",
      "Epoch 20, CIFAR-10 Batch 5:  0.596681 0.6196\n",
      "Epoch 21, CIFAR-10 Batch 1:  0.582365 0.6286\n",
      "Epoch 21, CIFAR-10 Batch 2:  0.504233 0.6404\n",
      "Epoch 21, CIFAR-10 Batch 3:  0.354827 0.63\n",
      "Epoch 21, CIFAR-10 Batch 4:  0.562161 0.6282\n",
      "Epoch 21, CIFAR-10 Batch 5:  0.590442 0.613\n",
      "Epoch 22, CIFAR-10 Batch 1:  0.581973 0.632\n",
      "Epoch 22, CIFAR-10 Batch 2:  0.476004 0.6354\n",
      "Epoch 22, CIFAR-10 Batch 3:  0.34711 0.6248\n",
      "Epoch 22, CIFAR-10 Batch 4:  0.537983 0.6242\n",
      "Epoch 22, CIFAR-10 Batch 5:  0.542454 0.6142\n",
      "Epoch 23, CIFAR-10 Batch 1:  0.563835 0.6392\n",
      "Epoch 23, CIFAR-10 Batch 2:  0.496891 0.6354\n",
      "Epoch 23, CIFAR-10 Batch 3:  0.330563 0.6322\n",
      "Epoch 23, CIFAR-10 Batch 4:  0.509943 0.6284\n",
      "Epoch 23, CIFAR-10 Batch 5:  0.555362 0.6126\n",
      "Epoch 24, CIFAR-10 Batch 1:  0.505644 0.6356\n",
      "Epoch 24, CIFAR-10 Batch 2:  0.456121 0.6244\n",
      "Epoch 24, CIFAR-10 Batch 3:  0.32735 0.6262\n",
      "Epoch 24, CIFAR-10 Batch 4:  0.501316 0.6294\n",
      "Epoch 24, CIFAR-10 Batch 5:  0.53097 0.6214\n",
      "Epoch 25, CIFAR-10 Batch 1:  0.544602 0.6416\n",
      "Epoch 25, CIFAR-10 Batch 2:  0.459671 0.643\n",
      "Epoch 25, CIFAR-10 Batch 3:  0.361949 0.636\n",
      "Epoch 25, CIFAR-10 Batch 4:  0.503597 0.6342\n",
      "Epoch 25, CIFAR-10 Batch 5:  0.518705 0.627\n",
      "Epoch 26, CIFAR-10 Batch 1:  0.497 0.634\n",
      "Epoch 26, CIFAR-10 Batch 2:  0.454738 0.6366\n",
      "Epoch 26, CIFAR-10 Batch 3:  0.335055 0.6398\n",
      "Epoch 26, CIFAR-10 Batch 4:  0.496932 0.6316\n",
      "Epoch 26, CIFAR-10 Batch 5:  0.514916 0.6192\n",
      "Epoch 27, CIFAR-10 Batch 1:  0.538006 0.6326\n",
      "Epoch 27, CIFAR-10 Batch 2:  0.435498 0.6334\n",
      "Epoch 27, CIFAR-10 Batch 3:  0.330494 0.6358\n",
      "Epoch 27, CIFAR-10 Batch 4:  0.502675 0.6284\n",
      "Epoch 27, CIFAR-10 Batch 5:  0.545561 0.6208\n",
      "Epoch 28, CIFAR-10 Batch 1:  0.490351 0.6412\n",
      "Epoch 28, CIFAR-10 Batch 2:  0.461282 0.6418\n",
      "Epoch 28, CIFAR-10 Batch 3:  0.315003 0.637\n",
      "Epoch 28, CIFAR-10 Batch 4:  0.447883 0.633\n",
      "Epoch 28, CIFAR-10 Batch 5:  0.477261 0.627\n",
      "Epoch 29, CIFAR-10 Batch 1:  0.525761 0.6418\n",
      "Epoch 29, CIFAR-10 Batch 2:  0.412057 0.6418\n",
      "Epoch 29, CIFAR-10 Batch 3:  0.312842 0.6366\n",
      "Epoch 29, CIFAR-10 Batch 4:  0.462518 0.6346\n",
      "Epoch 29, CIFAR-10 Batch 5:  0.477396 0.6274\n",
      "Epoch 30, CIFAR-10 Batch 1:  0.471989 0.6348\n",
      "Epoch 30, CIFAR-10 Batch 2:  0.436466 0.6348\n",
      "Epoch 30, CIFAR-10 Batch 3:  0.313145 0.6348\n",
      "Epoch 30, CIFAR-10 Batch 4:  0.418484 0.6318\n",
      "Epoch 30, CIFAR-10 Batch 5:  0.459065 0.6218\n",
      "Epoch 31, CIFAR-10 Batch 1:  0.478196 0.6342\n",
      "Epoch 31, CIFAR-10 Batch 2:  0.41378 0.6418\n",
      "Epoch 31, CIFAR-10 Batch 3:  0.284301 0.629\n",
      "Epoch 31, CIFAR-10 Batch 4:  0.433106 0.632\n",
      "Epoch 31, CIFAR-10 Batch 5:  0.500426 0.615\n",
      "Epoch 32, CIFAR-10 Batch 1:  0.506088 0.6352\n",
      "Epoch 32, CIFAR-10 Batch 2:  0.366278 0.6376\n",
      "Epoch 32, CIFAR-10 Batch 3:  0.313699 0.6362\n",
      "Epoch 32, CIFAR-10 Batch 4:  0.434243 0.636\n",
      "Epoch 32, CIFAR-10 Batch 5:  0.48953 0.627\n",
      "Epoch 33, CIFAR-10 Batch 1:  0.478874 0.6324\n",
      "Epoch 33, CIFAR-10 Batch 2:  0.377554 0.6452\n",
      "Epoch 33, CIFAR-10 Batch 3:  0.31483 0.6302\n",
      "Epoch 33, CIFAR-10 Batch 4:  0.458161 0.6336\n",
      "Epoch 33, CIFAR-10 Batch 5:  0.465653 0.6334\n",
      "Epoch 34, CIFAR-10 Batch 1:  0.466917 0.642\n",
      "Epoch 34, CIFAR-10 Batch 2:  0.41839 0.6416\n",
      "Epoch 34, CIFAR-10 Batch 3:  0.270801 0.639\n",
      "Epoch 34, CIFAR-10 Batch 4:  0.425823 0.6306\n",
      "Epoch 34, CIFAR-10 Batch 5:  0.449948 0.6256\n",
      "Epoch 35, CIFAR-10 Batch 1:  0.496138 0.6434\n",
      "Epoch 35, CIFAR-10 Batch 2:  0.367601 0.6392\n",
      "Epoch 35, CIFAR-10 Batch 3:  0.271345 0.6378\n",
      "Epoch 35, CIFAR-10 Batch 4:  0.396817 0.6354\n",
      "Epoch 35, CIFAR-10 Batch 5:  0.422307 0.6252\n",
      "Epoch 36, CIFAR-10 Batch 1:  0.442219 0.6378\n",
      "Epoch 36, CIFAR-10 Batch 2:  0.377681 0.641\n",
      "Epoch 36, CIFAR-10 Batch 3:  0.279741 0.6326\n",
      "Epoch 36, CIFAR-10 Batch 4:  0.425505 0.631\n",
      "Epoch 36, CIFAR-10 Batch 5:  0.41763 0.631\n",
      "Epoch 37, CIFAR-10 Batch 1:  0.457795 0.6484\n",
      "Epoch 37, CIFAR-10 Batch 2:  0.359003 0.6422\n",
      "Epoch 37, CIFAR-10 Batch 3:  0.26186 0.6406\n",
      "Epoch 37, CIFAR-10 Batch 4:  0.389116 0.6336\n",
      "Epoch 37, CIFAR-10 Batch 5:  0.4367 0.6302\n",
      "Epoch 38, CIFAR-10 Batch 1:  0.432934 0.632\n",
      "Epoch 38, CIFAR-10 Batch 2:  0.343655 0.6382\n",
      "Epoch 38, CIFAR-10 Batch 3:  0.290923 0.6408\n",
      "Epoch 38, CIFAR-10 Batch 4:  0.385143 0.633\n",
      "Epoch 38, CIFAR-10 Batch 5:  0.469671 0.63\n",
      "Epoch 39, CIFAR-10 Batch 1:  0.419816 0.632\n",
      "Epoch 39, CIFAR-10 Batch 2:  0.33837 0.646\n",
      "Epoch 39, CIFAR-10 Batch 3:  0.257971 0.6428\n",
      "Epoch 39, CIFAR-10 Batch 4:  0.378324 0.632\n",
      "Epoch 39, CIFAR-10 Batch 5:  0.440519 0.6244\n",
      "Epoch 40, CIFAR-10 Batch 1:  0.443662 0.631\n",
      "Epoch 40, CIFAR-10 Batch 2:  0.321426 0.641\n",
      "Epoch 40, CIFAR-10 Batch 3:  0.255257 0.6398\n",
      "Epoch 40, CIFAR-10 Batch 4:  0.365899 0.6312\n",
      "Epoch 40, CIFAR-10 Batch 5:  0.414741 0.6324\n"
     ]
    }
   ],
   "source": [
    "\"\"\"\n",
    "DON'T MODIFY ANYTHING IN THIS CELL\n",
    "\"\"\"\n",
    "save_model_path = './image_classification'\n",
    "\n",
    "print('Training...')\n",
    "with tf.Session() as sess:\n",
    "    # Initializing the variables\n",
    "    sess.run(tf.global_variables_initializer())\n",
    "    \n",
    "    # Training cycle\n",
    "    for epoch in range(epochs):\n",
    "        # Loop over all batches\n",
    "        n_batches = 5\n",
    "        for batch_i in range(1, n_batches + 1):\n",
    "            for batch_features, batch_labels in helper.load_preprocess_training_batch(batch_i, batch_size):\n",
    "                train_neural_network(sess, optimizer, keep_probability, batch_features, batch_labels)\n",
    "            print('Epoch {:>2}, CIFAR-10 Batch {}:  '.format(epoch + 1, batch_i), end='')\n",
    "            print_stats(sess, batch_features, batch_labels, cost, accuracy)\n",
    "            \n",
    "    # Save Model\n",
    "    saver = tf.train.Saver()\n",
    "    save_path = saver.save(sess, save_model_path)"
   ]
  },
  {
   "cell_type": "markdown",
   "metadata": {
    "deletable": true,
    "editable": true
   },
   "source": [
    "# Checkpoint\n",
    "The model has been saved to disk.\n",
    "## Test Model\n",
    "Test your model against the test dataset.  This will be your final accuracy. You should have an accuracy greater than 50%. If you don't, keep tweaking the model architecture and parameters."
   ]
  },
  {
   "cell_type": "code",
   "execution_count": 47,
   "metadata": {
    "collapsed": false,
    "deletable": true,
    "editable": true
   },
   "outputs": [
    {
     "name": "stdout",
     "output_type": "stream",
     "text": [
      "Testing Accuracy: 0.6307357594936709\n",
      "\n"
     ]
    },
    {
     "data": {
      "image/png": "[encoded data removed]",
      "text/plain": [
       "<matplotlib.figure.Figure at 0x7f465ce0bb70>"
      ]
     },
     "metadata": {
      "image/png": {
       "height": 319,
       "width": 355
      }
     },
     "output_type": "display_data"
    }
   ],
   "source": [
    "\"\"\"\n",
    "DON'T MODIFY ANYTHING IN THIS CELL\n",
    "\"\"\"\n",
    "%matplotlib inline\n",
    "%config InlineBackend.figure_format = 'retina'\n",
    "\n",
    "import tensorflow as tf\n",
    "import pickle\n",
    "import helper\n",
    "import random\n",
    "\n",
    "# Set batch size if not already set\n",
    "try:\n",
    "    if batch_size:\n",
    "        pass\n",
    "except NameError:\n",
    "    batch_size = 64\n",
    "\n",
    "save_model_path = './image_classification'\n",
    "n_samples = 4\n",
    "top_n_predictions = 3\n",
    "\n",
    "def test_model():\n",
    "    \"\"\"\n",
    "    Test the saved model against the test dataset\n",
    "    \"\"\"\n",
    "\n",
    "    test_features, test_labels = pickle.load(open('preprocess_test.p', mode='rb'))\n",
    "    loaded_graph = tf.Graph()\n",
    "\n",
    "    with tf.Session(graph=loaded_graph) as sess:\n",
    "        # Load model\n",
    "        loader = tf.train.import_meta_graph(save_model_path + '.meta')\n",
    "        loader.restore(sess, save_model_path)\n",
    "\n",
    "        # Get Tensors from loaded model\n",
    "        loaded_x = loaded_graph.get_tensor_by_name('x:0')\n",
    "        loaded_y = loaded_graph.get_tensor_by_name('y:0')\n",
    "        loaded_keep_prob = loaded_graph.get_tensor_by_name('keep_prob:0')\n",
    "        loaded_logits = loaded_graph.get_tensor_by_name('logits:0')\n",
    "        loaded_acc = loaded_graph.get_tensor_by_name('accuracy:0')\n",
    "        \n",
    "        # Get accuracy in batches for memory limitations\n",
    "        test_batch_acc_total = 0\n",
    "        test_batch_count = 0\n",
    "        \n",
    "        for test_feature_batch, test_label_batch in helper.batch_features_labels(test_features, test_labels, batch_size):\n",
    "            test_batch_acc_total += sess.run(\n",
    "                loaded_acc,\n",
    "                feed_dict={loaded_x: test_feature_batch, loaded_y: test_label_batch, loaded_keep_prob: 1.0})\n",
    "            test_batch_count += 1\n",
    "\n",
    "        print('Testing Accuracy: {}\\n'.format(test_batch_acc_total/test_batch_count))\n",
    "\n",
    "        # Print Random Samples\n",
    "        random_test_features, random_test_labels = tuple(zip(*random.sample(list(zip(test_features, test_labels)), n_samples)))\n",
    "        random_test_predictions = sess.run(\n",
    "            tf.nn.top_k(tf.nn.softmax(loaded_logits), top_n_predictions),\n",
    "            feed_dict={loaded_x: random_test_features, loaded_y: random_test_labels, loaded_keep_prob: 1.0})\n",
    "        helper.display_image_predictions(random_test_features, random_test_labels, random_test_predictions)\n",
    "\n",
    "\n",
    "test_model()"
   ]
  },
  {
   "cell_type": "markdown",
   "metadata": {
    "deletable": true,
    "editable": true
   },
   "source": [
    "## Why 50-80% Accuracy?\n",
    "You might be wondering why you can't get an accuracy any higher. First things first, 50% isn't bad for a simple CNN.  Pure guessing would get you 10% accuracy. However, you might notice people are getting scores [well above 80%](http://rodrigob.github.io/are_we_there_yet/build/classification_datasets_results.html#43494641522d3130).  That's because we haven't taught you all there is to know about neural networks. We still need to cover a few more techniques.\n",
    "## Submitting This Project\n",
    "When submitting this project, make sure to run all the cells before saving the notebook.  Save the notebook file as \"dlnd_image_classification.ipynb\" and save it as a HTML file under \"File\" -> \"Download as\".  Include the \"helper.py\" and \"problem_unittests.py\" files in your submission."
   ]
  },
  {
   "cell_type": "code",
   "execution_count": null,
   "metadata": {
    "collapsed": true,
    "deletable": true,
    "editable": true
   },
   "outputs": [],
   "source": []
  }
 ],
 "metadata": {
  "kernelspec": {
   "display_name": "Python 3",
   "language": "python",
   "name": "python3"
  },
  "language_info": {
   "codemirror_mode": {
    "name": "ipython",
    "version": 3
   },
   "file_extension": ".py",
   "mimetype": "text/x-python",
   "name": "python",
   "nbconvert_exporter": "python",
   "pygments_lexer": "ipython3",
   "version": "3.5.2"
  },
  "widgets": {
   "state": {},
   "version": "1.1.2"
  }
 },
 "nbformat": 4,
 "nbformat_minor": 0
}
