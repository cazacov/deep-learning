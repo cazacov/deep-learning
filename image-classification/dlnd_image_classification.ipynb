{
 "cells": [
  {
   "cell_type": "markdown",
   "metadata": {
    "collapsed": true,
    "deletable": true,
    "editable": true
   },
   "source": [
    "# Image Classification\n",
    "In this project, you'll classify images from the [CIFAR-10 dataset](https://www.cs.toronto.edu/~kriz/cifar.html).  The dataset consists of airplanes, dogs, cats, and other objects. You'll preprocess the images, then train a convolutional neural network on all the samples. The images need to be normalized and the labels need to be one-hot encoded.  You'll get to apply what you learned and build a convolutional, max pooling, dropout, and fully connected layers.  At the end, you'll get to see your neural network's predictions on the sample images.\n",
    "## Get the Data\n",
    "Run the following cell to download the [CIFAR-10 dataset for python](https://www.cs.toronto.edu/~kriz/cifar-10-python.tar.gz)."
   ]
  },
  {
   "cell_type": "code",
   "execution_count": 166,
   "metadata": {
    "collapsed": false,
    "deletable": true,
    "editable": true
   },
   "outputs": [
    {
     "name": "stdout",
     "output_type": "stream",
     "text": [
      "All files found!\n"
     ]
    }
   ],
   "source": [
    "\"\"\"\n",
    "DON'T MODIFY ANYTHING IN THIS CELL THAT IS BELOW THIS LINE\n",
    "\"\"\"\n",
    "from urllib.request import urlretrieve\n",
    "from os.path import isfile, isdir\n",
    "from tqdm import tqdm\n",
    "import problem_unittests as tests\n",
    "import tarfile\n",
    "import numpy as np\n",
    "\n",
    "cifar10_dataset_folder_path = 'cifar-10-batches-py'\n",
    "\n",
    "# Use Floyd's cifar-10 dataset if present\n",
    "floyd_cifar10_location = '/input/cifar-10/python.tar.gz'\n",
    "if isfile(floyd_cifar10_location):\n",
    "    tar_gz_path = floyd_cifar10_location\n",
    "else:\n",
    "    tar_gz_path = 'cifar-10-python.tar.gz'\n",
    "\n",
    "class DLProgress(tqdm):\n",
    "    last_block = 0\n",
    "\n",
    "    def hook(self, block_num=1, block_size=1, total_size=None):\n",
    "        self.total = total_size\n",
    "        self.update((block_num - self.last_block) * block_size)\n",
    "        self.last_block = block_num\n",
    "\n",
    "if not isfile(tar_gz_path):\n",
    "    with DLProgress(unit='B', unit_scale=True, miniters=1, desc='CIFAR-10 Dataset') as pbar:\n",
    "        urlretrieve(\n",
    "            'https://www.cs.toronto.edu/~kriz/cifar-10-python.tar.gz',\n",
    "            tar_gz_path,\n",
    "            pbar.hook)\n",
    "\n",
    "if not isdir(cifar10_dataset_folder_path):\n",
    "    with tarfile.open(tar_gz_path) as tar:\n",
    "        tar.extractall()\n",
    "        tar.close()\n",
    "\n",
    "\n",
    "tests.test_folder_path(cifar10_dataset_folder_path)"
   ]
  },
  {
   "cell_type": "markdown",
   "metadata": {
    "deletable": true,
    "editable": true
   },
   "source": [
    "## Explore the Data\n",
    "The dataset is broken into batches to prevent your machine from running out of memory.  The CIFAR-10 dataset consists of 5 batches, named `data_batch_1`, `data_batch_2`, etc.. Each batch contains the labels and images that are one of the following:\n",
    "* airplane\n",
    "* automobile\n",
    "* bird\n",
    "* cat\n",
    "* deer\n",
    "* dog\n",
    "* frog\n",
    "* horse\n",
    "* ship\n",
    "* truck\n",
    "\n",
    "Understanding a dataset is part of making predictions on the data.  Play around with the code cell below by changing the `batch_id` and `sample_id`. The `batch_id` is the id for a batch (1-5). The `sample_id` is the id for a image and label pair in the batch.\n",
    "\n",
    "Ask yourself \"What are all possible labels?\", \"What is the range of values for the image data?\", \"Are the labels in order or random?\".  Answers to questions like these will help you preprocess the data and end up with better predictions."
   ]
  },
  {
   "cell_type": "code",
   "execution_count": 167,
   "metadata": {
    "collapsed": false,
    "deletable": true,
    "editable": true
   },
   "outputs": [
    {
     "name": "stdout",
     "output_type": "stream",
     "text": [
      "\n",
      "Stats of batch 1:\n",
      "Samples: 10000\n",
      "Label Counts: {0: 1005, 1: 974, 2: 1032, 3: 1016, 4: 999, 5: 937, 6: 1030, 7: 1001, 8: 1025, 9: 981}\n",
      "First 20 Labels: [6, 9, 9, 4, 1, 1, 2, 7, 8, 3, 4, 7, 7, 2, 9, 9, 9, 3, 2, 6]\n",
      "\n",
      "Example of Image 8:\n",
      "Image - Min Value: 8 Max Value: 252\n",
      "Image - Shape: (32, 32, 3)\n",
      "Label - Label Id: 8 Name: ship\n"
     ]
    },
    {
     "data": {
      "image/png": "[encoded data removed]",
      "text/plain": [
       "<matplotlib.figure.Figure at 0x7fd3143d08d0>"
      ]
     },
     "metadata": {
      "image/png": {
       "height": 250,
       "width": 253
      }
     },
     "output_type": "display_data"
    }
   ],
   "source": [
    "%matplotlib inline\n",
    "%config InlineBackend.figure_format = 'retina'\n",
    "\n",
    "import helper\n",
    "import numpy as np\n",
    "\n",
    "# Explore the dataset\n",
    "batch_id = 1\n",
    "sample_id = 8\n",
    "helper.display_stats(cifar10_dataset_folder_path, batch_id, sample_id)"
   ]
  },
  {
   "cell_type": "markdown",
   "metadata": {
    "deletable": true,
    "editable": true
   },
   "source": [
    "## Implement Preprocess Functions\n",
    "### Normalize\n",
    "In the cell below, implement the `normalize` function to take in image data, `x`, and return it as a normalized Numpy array. The values should be in the range of 0 to 1, inclusive.  The return object should be the same shape as `x`."
   ]
  },
  {
   "cell_type": "code",
   "execution_count": 168,
   "metadata": {
    "collapsed": false,
    "deletable": true,
    "editable": true
   },
   "outputs": [
    {
     "name": "stdout",
     "output_type": "stream",
     "text": [
      "Tests Passed\n"
     ]
    }
   ],
   "source": [
    "def normalize(x):\n",
    "    \"\"\"\n",
    "    Normalize a list of sample image data in the range of 0 to 1\n",
    "    : x: List of image data.  The image shape is (32, 32, 3)\n",
    "    : return: Numpy array of normalize data\n",
    "    \"\"\"\n",
    "    # TODO: Implement Function\n",
    "    a = 0\n",
    "    b = 1\n",
    "    intensity_min = 0\n",
    "    intensity_max = 255\n",
    "    \n",
    "    return a + (x - intensity_min) * (b-a) / (intensity_max - intensity_min)\n",
    "    \n",
    "\n",
    "\n",
    "\"\"\"\n",
    "DON'T MODIFY ANYTHING IN THIS CELL THAT IS BELOW THIS LINE\n",
    "\"\"\"\n",
    "tests.test_normalize(normalize)"
   ]
  },
  {
   "cell_type": "markdown",
   "metadata": {
    "deletable": true,
    "editable": true
   },
   "source": [
    "### One-hot encode\n",
    "Just like the previous code cell, you'll be implementing a function for preprocessing.  This time, you'll implement the `one_hot_encode` function. The input, `x`, are a list of labels.  Implement the function to return the list of labels as One-Hot encoded Numpy array.  The possible values for labels are 0 to 9. The one-hot encoding function should return the same encoding for each value between each call to `one_hot_encode`.  Make sure to save the map of encodings outside the function.\n",
    "\n",
    "Hint: Don't reinvent the wheel."
   ]
  },
  {
   "cell_type": "code",
   "execution_count": 169,
   "metadata": {
    "collapsed": false,
    "deletable": true,
    "editable": true
   },
   "outputs": [
    {
     "name": "stdout",
     "output_type": "stream",
     "text": [
      "Tests Passed\n"
     ]
    }
   ],
   "source": [
    "def one_hot_encode(x):\n",
    "    \"\"\"\n",
    "    One hot encode a list of sample labels. Return a one-hot encoded vector for each label.\n",
    "    : x: List of sample Labels\n",
    "    : return: Numpy array of one-hot encoded labels\n",
    "    \"\"\"\n",
    "    # TODO: Implement Function\n",
    "    \n",
    "    row_count = len(x)\n",
    "    result = np.zeros((row_count, 10))\n",
    "    result[np.arange(row_count), x] = 1\n",
    "    return result\n",
    "\n",
    "\n",
    "\"\"\"\n",
    "DON'T MODIFY ANYTHING IN THIS CELL THAT IS BELOW THIS LINE\n",
    "\"\"\"\n",
    "tests.test_one_hot_encode(one_hot_encode)"
   ]
  },
  {
   "cell_type": "markdown",
   "metadata": {
    "deletable": true,
    "editable": true
   },
   "source": [
    "### Randomize Data\n",
    "As you saw from exploring the data above, the order of the samples are randomized.  It doesn't hurt to randomize it again, but you don't need to for this dataset."
   ]
  },
  {
   "cell_type": "markdown",
   "metadata": {
    "deletable": true,
    "editable": true
   },
   "source": [
    "## Preprocess all the data and save it\n",
    "Running the code cell below will preprocess all the CIFAR-10 data and save it to file. The code below also uses 10% of the training data for validation."
   ]
  },
  {
   "cell_type": "code",
   "execution_count": 170,
   "metadata": {
    "collapsed": false,
    "deletable": true,
    "editable": true
   },
   "outputs": [],
   "source": [
    "\"\"\"\n",
    "DON'T MODIFY ANYTHING IN THIS CELL\n",
    "\"\"\"\n",
    "# Preprocess Training, Validation, and Testing Data\n",
    "helper.preprocess_and_save_data(cifar10_dataset_folder_path, normalize, one_hot_encode)"
   ]
  },
  {
   "cell_type": "markdown",
   "metadata": {
    "deletable": true,
    "editable": true
   },
   "source": [
    "# Check Point\n",
    "This is your first checkpoint.  If you ever decide to come back to this notebook or have to restart the notebook, you can start from here.  The preprocessed data has been saved to disk."
   ]
  },
  {
   "cell_type": "code",
   "execution_count": 171,
   "metadata": {
    "collapsed": true,
    "deletable": true,
    "editable": true
   },
   "outputs": [],
   "source": [
    "\"\"\"\n",
    "DON'T MODIFY ANYTHING IN THIS CELL\n",
    "\"\"\"\n",
    "import pickle\n",
    "import problem_unittests as tests\n",
    "import helper\n",
    "\n",
    "# Load the Preprocessed Validation data\n",
    "valid_features, valid_labels = pickle.load(open('preprocess_validation.p', mode='rb'))"
   ]
  },
  {
   "cell_type": "markdown",
   "metadata": {
    "deletable": true,
    "editable": true
   },
   "source": [
    "## Build the network\n",
    "For the neural network, you'll build each layer into a function.  Most of the code you've seen has been outside of functions. To test your code more thoroughly, we require that you put each layer in a function.  This allows us to give you better feedback and test for simple mistakes using our unittests before you submit your project.\n",
    "\n",
    ">**Note:** If you're finding it hard to dedicate enough time for this course each week, we've provided a small shortcut to this part of the project. In the next couple of problems, you'll have the option to use classes from the [TensorFlow Layers](https://www.tensorflow.org/api_docs/python/tf/layers) or [TensorFlow Layers (contrib)](https://www.tensorflow.org/api_guides/python/contrib.layers) packages to build each layer, except the layers you build in the \"Convolutional and Max Pooling Layer\" section.  TF Layers is similar to Keras's and TFLearn's abstraction to layers, so it's easy to pickup.\n",
    "\n",
    ">However, if you would like to get the most out of this course, try to solve all the problems _without_ using anything from the TF Layers packages. You **can** still use classes from other packages that happen to have the same name as ones you find in TF Layers! For example, instead of using the TF Layers version of the `conv2d` class, [tf.layers.conv2d](https://www.tensorflow.org/api_docs/python/tf/layers/conv2d), you would want to use the TF Neural Network version of `conv2d`, [tf.nn.conv2d](https://www.tensorflow.org/api_docs/python/tf/nn/conv2d). \n",
    "\n",
    "Let's begin!\n",
    "\n",
    "### Input\n",
    "The neural network needs to read the image data, one-hot encoded labels, and dropout keep probability. Implement the following functions\n",
    "* Implement `neural_net_image_input`\n",
    " * Return a [TF Placeholder](https://www.tensorflow.org/api_docs/python/tf/placeholder)\n",
    " * Set the shape using `image_shape` with batch size set to `None`.\n",
    " * Name the TensorFlow placeholder \"x\" using the TensorFlow `name` parameter in the [TF Placeholder](https://www.tensorflow.org/api_docs/python/tf/placeholder).\n",
    "* Implement `neural_net_label_input`\n",
    " * Return a [TF Placeholder](https://www.tensorflow.org/api_docs/python/tf/placeholder)\n",
    " * Set the shape using `n_classes` with batch size set to `None`.\n",
    " * Name the TensorFlow placeholder \"y\" using the TensorFlow `name` parameter in the [TF Placeholder](https://www.tensorflow.org/api_docs/python/tf/placeholder).\n",
    "* Implement `neural_net_keep_prob_input`\n",
    " * Return a [TF Placeholder](https://www.tensorflow.org/api_docs/python/tf/placeholder) for dropout keep probability.\n",
    " * Name the TensorFlow placeholder \"keep_prob\" using the TensorFlow `name` parameter in the [TF Placeholder](https://www.tensorflow.org/api_docs/python/tf/placeholder).\n",
    "\n",
    "These names will be used at the end of the project to load your saved model.\n",
    "\n",
    "Note: `None` for shapes in TensorFlow allow for a dynamic size."
   ]
  },
  {
   "cell_type": "code",
   "execution_count": 172,
   "metadata": {
    "collapsed": false,
    "deletable": true,
    "editable": true
   },
   "outputs": [
    {
     "name": "stdout",
     "output_type": "stream",
     "text": [
      "Image Input Tests Passed.\n",
      "Label Input Tests Passed.\n",
      "Keep Prob Tests Passed.\n"
     ]
    }
   ],
   "source": [
    "import tensorflow as tf\n",
    "\n",
    "def neural_net_image_input(image_shape):\n",
    "    \"\"\"\n",
    "    Return a Tensor for a batch of image input\n",
    "    : image_shape: Shape of the images\n",
    "    : return: Tensor for image input.\n",
    "    \"\"\"\n",
    "    # TODO: Implement Function\n",
    "\n",
    "    return tf.placeholder(tf.float32, (None,) + image_shape, name=\"x\")\n",
    "\n",
    "\n",
    "def neural_net_label_input(n_classes):\n",
    "    \"\"\"\n",
    "    Return a Tensor for a batch of label input\n",
    "    : n_classes: Number of classes\n",
    "    : return: Tensor for label input.\n",
    "    \"\"\"\n",
    "    # TODO: Implement Function\n",
    "    \n",
    "    return tf.placeholder(tf.float32, (None, n_classes), name=\"y\")\n",
    "\n",
    "\n",
    "def neural_net_keep_prob_input():\n",
    "    \"\"\"\n",
    "    Return a Tensor for keep probability\n",
    "    : return: Tensor for keep probability.\n",
    "    \"\"\"\n",
    "    # TODO: Implement Function\n",
    "    \n",
    "    return tf.placeholder(tf.float32, name=\"keep_prob\")\n",
    "\n",
    "\n",
    "\"\"\"\n",
    "DON'T MODIFY ANYTHING IN THIS CELL THAT IS BELOW THIS LINE\n",
    "\"\"\"\n",
    "tf.reset_default_graph()\n",
    "tests.test_nn_image_inputs(neural_net_image_input)\n",
    "tests.test_nn_label_inputs(neural_net_label_input)\n",
    "tests.test_nn_keep_prob_inputs(neural_net_keep_prob_input)"
   ]
  },
  {
   "cell_type": "markdown",
   "metadata": {
    "deletable": true,
    "editable": true
   },
   "source": [
    "### Convolution and Max Pooling Layer\n",
    "Convolution layers have a lot of success with images. For this code cell, you should implement the function `conv2d_maxpool` to apply convolution then max pooling:\n",
    "* Create the weight and bias using `conv_ksize`, `conv_num_outputs` and the shape of `x_tensor`.\n",
    "* Apply a convolution to `x_tensor` using weight and `conv_strides`.\n",
    " * We recommend you use same padding, but you're welcome to use any padding.\n",
    "* Add bias\n",
    "* Add a nonlinear activation to the convolution.\n",
    "* Apply Max Pooling using `pool_ksize` and `pool_strides`.\n",
    " * We recommend you use same padding, but you're welcome to use any padding.\n",
    "\n",
    "**Note:** You **can't** use [TensorFlow Layers](https://www.tensorflow.org/api_docs/python/tf/layers) or [TensorFlow Layers (contrib)](https://www.tensorflow.org/api_guides/python/contrib.layers) for **this** layer, but you can still use TensorFlow's [Neural Network](https://www.tensorflow.org/api_docs/python/tf/nn) package. You may still use the shortcut option for all the **other** layers."
   ]
  },
  {
   "cell_type": "code",
   "execution_count": 173,
   "metadata": {
    "collapsed": false,
    "deletable": true,
    "editable": true
   },
   "outputs": [
    {
     "name": "stdout",
     "output_type": "stream",
     "text": [
      "Tests Passed\n"
     ]
    }
   ],
   "source": [
    "def conv2d_maxpool(x_tensor, conv_num_outputs, conv_ksize, conv_strides, pool_ksize, pool_strides):\n",
    "    \"\"\"\n",
    "    Apply convolution then max pooling to x_tensor\n",
    "    :param x_tensor: TensorFlow Tensor\n",
    "    :param conv_num_outputs: Number of outputs for the convolutional layer\n",
    "    :param conv_ksize: kernal size 2-D Tuple for the convolutional layer\n",
    "    :param conv_strides: Stride 2-D Tuple for convolution\n",
    "    :param pool_ksize: kernal size 2-D Tuple for pool\n",
    "    :param pool_strides: Stride 2-D Tuple for pool\n",
    "    : return: A tensor that represents convolution and max pooling of x_tensor\n",
    "    \"\"\"\n",
    "    # TODO: Implement Function\n",
    "    \n",
    "    input_shape = x_tensor.get_shape().as_list()\n",
    "    input_depth = input_shape[3]\n",
    "    \n",
    "    weights_shape = conv_ksize + (input_depth, conv_num_outputs)\n",
    "    \n",
    "    # tf.truncated_normal has default standard deviation of 1.0 which is too large\n",
    "    weights_count = np.prod(weights_shape)\n",
    "    recomended_deviation = (weights_count / conv_num_outputs)**-0.5\n",
    "    weights = tf.Variable(tf.truncated_normal(weights_shape, stddev =  recomended_deviation))\n",
    "    \n",
    "    strides = (1, ) + conv_strides + (1,)\n",
    "    conv_padding = 'SAME'\n",
    "    \n",
    "    # Apply Convolution\n",
    "    conv = tf.nn.conv2d(x_tensor, weights, strides, conv_padding)\n",
    "    \n",
    "    # Add bias\n",
    "    conv_biases = tf.Variable(tf.zeros(conv_num_outputs))\n",
    "    conv = tf.nn.bias_add(conv, conv_biases)\n",
    "    \n",
    "    # Add non-linear activation\n",
    "    conv =  tf.nn.relu(conv)\n",
    "    \n",
    "    # Calculate maxpool parameters\n",
    "    mp_size = (1, ) + pool_ksize + (1,)\n",
    "    mp_strides = (1, ) + pool_strides + (1,)\n",
    "    mp_padding = 'SAME'\n",
    "    \n",
    "    # Apply Max Pooling\n",
    "    result = tf.nn.max_pool(conv, mp_size, mp_strides, mp_padding)\n",
    "    return result\n",
    "\n",
    "\n",
    "\"\"\"\n",
    "DON'T MODIFY ANYTHING IN THIS CELL THAT IS BELOW THIS LINE\n",
    "\"\"\"\n",
    "tests.test_con_pool(conv2d_maxpool)"
   ]
  },
  {
   "cell_type": "markdown",
   "metadata": {
    "deletable": true,
    "editable": true
   },
   "source": [
    "### Flatten Layer\n",
    "Implement the `flatten` function to change the dimension of `x_tensor` from a 4-D tensor to a 2-D tensor.  The output should be the shape (*Batch Size*, *Flattened Image Size*). Shortcut option: you can use classes from the [TensorFlow Layers](https://www.tensorflow.org/api_docs/python/tf/layers) or [TensorFlow Layers (contrib)](https://www.tensorflow.org/api_guides/python/contrib.layers) packages for this layer. For more of a challenge, only use other TensorFlow packages."
   ]
  },
  {
   "cell_type": "code",
   "execution_count": 174,
   "metadata": {
    "collapsed": false,
    "deletable": true,
    "editable": true
   },
   "outputs": [
    {
     "name": "stdout",
     "output_type": "stream",
     "text": [
      "Tests Passed\n"
     ]
    }
   ],
   "source": [
    "def flatten(x_tensor):\n",
    "    \"\"\"\n",
    "    Flatten x_tensor to (Batch Size, Flattened Image Size)\n",
    "    : x_tensor: A tensor of size (Batch Size, ...), where ... are the image dimensions.\n",
    "    : return: A tensor of size (Batch Size, Flattened Image Size).\n",
    "    \"\"\"\n",
    "    # TODO: Implement Function\n",
    "    input_shape = x_tensor.get_shape().as_list()\n",
    "    new_dimension = np.prod(input_shape[1:])\n",
    "    return tf.reshape(x_tensor, [-1, new_dimension])\n",
    "\n",
    "\n",
    "\"\"\"\n",
    "DON'T MODIFY ANYTHING IN THIS CELL THAT IS BELOW THIS LINE\n",
    "\"\"\"\n",
    "tests.test_flatten(flatten)"
   ]
  },
  {
   "cell_type": "markdown",
   "metadata": {
    "deletable": true,
    "editable": true
   },
   "source": [
    "### Fully-Connected Layer\n",
    "Implement the `fully_conn` function to apply a fully connected layer to `x_tensor` with the shape (*Batch Size*, *num_outputs*). Shortcut option: you can use classes from the [TensorFlow Layers](https://www.tensorflow.org/api_docs/python/tf/layers) or [TensorFlow Layers (contrib)](https://www.tensorflow.org/api_guides/python/contrib.layers) packages for this layer. For more of a challenge, only use other TensorFlow packages."
   ]
  },
  {
   "cell_type": "code",
   "execution_count": 175,
   "metadata": {
    "collapsed": false,
    "deletable": true,
    "editable": true
   },
   "outputs": [
    {
     "name": "stdout",
     "output_type": "stream",
     "text": [
      "Tests Passed\n"
     ]
    }
   ],
   "source": [
    "def fully_conn(x_tensor, num_outputs):\n",
    "    \"\"\"\n",
    "    Apply a fully connected layer to x_tensor using weight and bias\n",
    "    : x_tensor: A 2-D tensor where the first dimension is batch size.\n",
    "    : num_outputs: The number of output that the new tensor should be.\n",
    "    : return: A 2-D tensor where the second dimension is num_outputs.\n",
    "    \"\"\"\n",
    "    # TODO: Implement Function\n",
    "    \n",
    "    input_shape = x_tensor.get_shape().as_list()\n",
    "    num_inputs = input_shape[1]\n",
    "    deviation = num_inputs**-0.5\n",
    "    \n",
    "    weights = tf.Variable(tf.truncated_normal([num_inputs, num_outputs], stddev = 0.02), name=\"w_fc\" + str(num_outputs))\n",
    "    bias = tf.Variable(tf.zeros([num_outputs]), name=\"b_fc\" + str(num_outputs))\n",
    "    \n",
    "    linear = tf.nn.bias_add(tf.matmul(x_tensor, weights), bias)\n",
    "    \n",
    "    # Add non-linear activation\n",
    "    layer = tf.nn.relu(linear)   \n",
    "    \n",
    "    return layer\n",
    "\n",
    "\n",
    "\"\"\"\n",
    "DON'T MODIFY ANYTHING IN THIS CELL THAT IS BELOW THIS LINE\n",
    "\"\"\"\n",
    "tests.test_fully_conn(fully_conn)"
   ]
  },
  {
   "cell_type": "markdown",
   "metadata": {
    "deletable": true,
    "editable": true
   },
   "source": [
    "### Output Layer\n",
    "Implement the `output` function to apply a fully connected layer to `x_tensor` with the shape (*Batch Size*, *num_outputs*). Shortcut option: you can use classes from the [TensorFlow Layers](https://www.tensorflow.org/api_docs/python/tf/layers) or [TensorFlow Layers (contrib)](https://www.tensorflow.org/api_guides/python/contrib.layers) packages for this layer. For more of a challenge, only use other TensorFlow packages.\n",
    "\n",
    "**Note:** Activation, softmax, or cross entropy should **not** be applied to this."
   ]
  },
  {
   "cell_type": "code",
   "execution_count": 176,
   "metadata": {
    "collapsed": false,
    "deletable": true,
    "editable": true
   },
   "outputs": [
    {
     "name": "stdout",
     "output_type": "stream",
     "text": [
      "Tests Passed\n"
     ]
    }
   ],
   "source": [
    "def output(x_tensor, num_outputs):\n",
    "    \"\"\"\n",
    "    Apply a output layer to x_tensor using weight and bias\n",
    "    : x_tensor: A 2-D tensor where the first dimension is batch size.\n",
    "    : num_outputs: The number of output that the new tensor should be.\n",
    "    : return: A 2-D tensor where the second dimension is num_outputs.\n",
    "    \"\"\"\n",
    "    # TODO: Implement Function\n",
    "    input_shape = x_tensor.get_shape().as_list()\n",
    "    num_inputs = input_shape[1]\n",
    "    deviation = num_inputs**-0.5\n",
    "    \n",
    "    weights = tf.Variable(tf.truncated_normal([num_inputs, num_outputs], stddev = deviation), name=\"w_o\")\n",
    "    bias = tf.Variable(tf.zeros([num_outputs]), name=\"b_o\")\n",
    "    \n",
    "    layer = tf.nn.bias_add(tf.matmul(x_tensor, weights), bias)\n",
    "    \n",
    "    return layer\n",
    "\n",
    "\n",
    "\"\"\"\n",
    "DON'T MODIFY ANYTHING IN THIS CELL THAT IS BELOW THIS LINE\n",
    "\"\"\"\n",
    "tests.test_output(output)"
   ]
  },
  {
   "cell_type": "markdown",
   "metadata": {
    "deletable": true,
    "editable": true
   },
   "source": [
    "### Create Convolutional Model\n",
    "Implement the function `conv_net` to create a convolutional neural network model. The function takes in a batch of images, `x`, and outputs logits.  Use the layers you created above to create this model:\n",
    "\n",
    "* Apply 1, 2, or 3 Convolution and Max Pool layers\n",
    "* Apply a Flatten Layer\n",
    "* Apply 1, 2, or 3 Fully Connected Layers\n",
    "* Apply an Output Layer\n",
    "* Return the output\n",
    "* Apply [TensorFlow's Dropout](https://www.tensorflow.org/api_docs/python/tf/nn/dropout) to one or more layers in the model using `keep_prob`. "
   ]
  },
  {
   "cell_type": "code",
   "execution_count": 186,
   "metadata": {
    "collapsed": false,
    "deletable": true,
    "editable": true
   },
   "outputs": [
    {
     "name": "stdout",
     "output_type": "stream",
     "text": [
      "Neural Network Built!\n"
     ]
    }
   ],
   "source": [
    "def conv_net(x, keep_prob):\n",
    "    \"\"\"\n",
    "    Create a convolutional neural network model\n",
    "    : x: Placeholder tensor that holds image data.\n",
    "    : keep_prob: Placeholder tensor that hold dropout keep probability.\n",
    "    : return: Tensor that represents logits\n",
    "    \"\"\"\n",
    "    # TODO: Apply 1, 2, or 3 Convolution and Max Pool layers\n",
    "    #    Play around with different number of outputs, kernel size and stride\n",
    "    # Function Definition from Above:\n",
    "    \n",
    "    #    conv2d_maxpool(x_tensor, conv_num_outputs, conv_ksize, conv_strides, pool_ksize, pool_strides)\n",
    "    \n",
    "    conv_outputs = 128\n",
    "    conv_ksize = (6,6)\n",
    "    conv_strides = (2,2)\n",
    "    pool_ksize = (4,4)\n",
    "    pool_strides = (2,2)\n",
    "    \n",
    "    conv = conv2d_maxpool(x, 64, (4,4), conv_strides, (4,4), pool_strides)\n",
    "    conv2 = conv2d_maxpool(conv, 128, (8,8), conv_strides, (5,5), pool_strides)\n",
    "    \n",
    "    # TODO: Apply a Flatten Layer\n",
    "    # Function Definition from Above:\n",
    "    #   flatten(x_tensor)\n",
    "    flat = flatten(conv2)\n",
    "    flat = tf.nn.dropout(flat,  keep_prob)\n",
    "    \n",
    "    # TODO: Apply 1, 2, or 3 Fully Connected Layers\n",
    "    #    Play around with different number of outputs\n",
    "    # Function Definition from Above:\n",
    "    #   fully_conn(x_tensor, num_outputs)\n",
    "\n",
    "    conn = fully_conn(flat, 256)\n",
    "    # Apply dropout\n",
    "    conn = tf.nn.dropout(conn,  keep_prob)\n",
    "    \n",
    "    # Second hidden layer\n",
    "    conn2 = fully_conn(conn, 96)\n",
    "    \n",
    "    \n",
    "    # TODO: Apply an Output Layer\n",
    "    #    Set this to the number of classes\n",
    "    # Function Definition from Above:\n",
    "    out = output(conn2, 10)\n",
    "    \n",
    "    # TODO: return output\n",
    "    return out\n",
    "\n",
    "\n",
    "\"\"\"\n",
    "DON'T MODIFY ANYTHING IN THIS CELL THAT IS BELOW THIS LINE\n",
    "\"\"\"\n",
    "\n",
    "##############################\n",
    "## Build the Neural Network ##\n",
    "##############################\n",
    "\n",
    "# Remove previous weights, bias, inputs, etc..\n",
    "tf.reset_default_graph()\n",
    "\n",
    "# Inputs\n",
    "x = neural_net_image_input((32, 32, 3))\n",
    "y = neural_net_label_input(10)\n",
    "keep_prob = neural_net_keep_prob_input()\n",
    "\n",
    "# Model\n",
    "logits = conv_net(x, keep_prob)\n",
    "\n",
    "# Name logits Tensor, so that is can be loaded from disk after training\n",
    "logits = tf.identity(logits, name='logits')\n",
    "\n",
    "# Loss and Optimizer\n",
    "cost = tf.reduce_mean(tf.nn.softmax_cross_entropy_with_logits(logits=logits, labels=y))\n",
    "optimizer = tf.train.AdamOptimizer().minimize(cost)\n",
    "\n",
    "# Accuracy\n",
    "correct_pred = tf.equal(tf.argmax(logits, 1), tf.argmax(y, 1))\n",
    "accuracy = tf.reduce_mean(tf.cast(correct_pred, tf.float32), name='accuracy')\n",
    "\n",
    "tests.test_conv_net(conv_net)"
   ]
  },
  {
   "cell_type": "markdown",
   "metadata": {
    "deletable": true,
    "editable": true
   },
   "source": [
    "## Train the Neural Network\n",
    "### Single Optimization\n",
    "Implement the function `train_neural_network` to do a single optimization.  The optimization should use `optimizer` to optimize in `session` with a `feed_dict` of the following:\n",
    "* `x` for image input\n",
    "* `y` for labels\n",
    "* `keep_prob` for keep probability for dropout\n",
    "\n",
    "This function will be called for each batch, so `tf.global_variables_initializer()` has already been called.\n",
    "\n",
    "Note: Nothing needs to be returned. This function is only optimizing the neural network."
   ]
  },
  {
   "cell_type": "code",
   "execution_count": 187,
   "metadata": {
    "collapsed": false,
    "deletable": true,
    "editable": true
   },
   "outputs": [
    {
     "name": "stdout",
     "output_type": "stream",
     "text": [
      "Tests Passed\n"
     ]
    }
   ],
   "source": [
    "def train_neural_network(session, optimizer, keep_probability, feature_batch, label_batch):\n",
    "    \"\"\"\n",
    "    Optimize the session on a batch of images and labels\n",
    "    : session: Current TensorFlow session\n",
    "    : optimizer: TensorFlow optimizer function\n",
    "    : keep_probability: keep probability\n",
    "    : feature_batch: Batch of Numpy image data\n",
    "    : label_batch: Batch of Numpy label data\n",
    "    \"\"\"\n",
    "    session.run(optimizer, feed_dict = {\n",
    "        x: feature_batch,\n",
    "        y: label_batch,\n",
    "        keep_prob: keep_probability\n",
    "    })\n",
    "\n",
    "\n",
    "\"\"\"\n",
    "DON'T MODIFY ANYTHING IN THIS CELL THAT IS BELOW THIS LINE\n",
    "\"\"\"\n",
    "tests.test_train_nn(train_neural_network)"
   ]
  },
  {
   "cell_type": "markdown",
   "metadata": {
    "deletable": true,
    "editable": true
   },
   "source": [
    "### Show Stats\n",
    "Implement the function `print_stats` to print loss and validation accuracy.  Use the global variables `valid_features` and `valid_labels` to calculate validation accuracy.  Use a keep probability of `1.0` to calculate the loss and validation accuracy."
   ]
  },
  {
   "cell_type": "code",
   "execution_count": 188,
   "metadata": {
    "collapsed": false,
    "deletable": true,
    "editable": true
   },
   "outputs": [],
   "source": [
    "def print_stats(session, feature_batch, label_batch, cost, accuracy):\n",
    "    \"\"\"\n",
    "    Print information about loss and validation accuracy\n",
    "    : session: Current TensorFlow session\n",
    "    : feature_batch: Batch of Numpy image data\n",
    "    : label_batch: Batch of Numpy label data\n",
    "    : cost: TensorFlow cost function\n",
    "    : accuracy: TensorFlow accuracy function\n",
    "    \"\"\"\n",
    "    # TODO: Implement Function\n",
    "    \n",
    "    loss = session.run(cost, feed_dict={\n",
    "        x: feature_batch,\n",
    "        y: label_batch,\n",
    "        keep_prob: 1})\n",
    "    \n",
    "    validation_accuracy = session.run(accuracy, feed_dict={\n",
    "        x: valid_features,\n",
    "        y: valid_labels,\n",
    "        keep_prob: 1})\n",
    "    \n",
    "    print(\"Loss:\", loss, \"   Accuracy: \", validation_accuracy)\n",
    "    "
   ]
  },
  {
   "cell_type": "markdown",
   "metadata": {
    "deletable": true,
    "editable": true
   },
   "source": [
    "### Hyperparameters\n",
    "Tune the following parameters:\n",
    "* Set `epochs` to the number of iterations until the network stops learning or start overfitting\n",
    "* Set `batch_size` to the highest number that your machine has memory for.  Most people set them to common sizes of memory:\n",
    " * 64\n",
    " * 128\n",
    " * 256\n",
    " * ...\n",
    "* Set `keep_probability` to the probability of keeping a node using dropout"
   ]
  },
  {
   "cell_type": "code",
   "execution_count": 189,
   "metadata": {
    "collapsed": true,
    "deletable": true,
    "editable": true
   },
   "outputs": [],
   "source": [
    "# TODO: Tune Parameters\n",
    "epochs = 30\n",
    "batch_size = 128\n",
    "keep_probability = 0.3"
   ]
  },
  {
   "cell_type": "markdown",
   "metadata": {
    "deletable": true,
    "editable": true
   },
   "source": [
    "### Train on a Single CIFAR-10 Batch\n",
    "Instead of training the neural network on all the CIFAR-10 batches of data, let's use a single batch. This should save time while you iterate on the model to get a better accuracy.  Once the final validation accuracy is 50% or greater, run the model on all the data in the next section."
   ]
  },
  {
   "cell_type": "code",
   "execution_count": 190,
   "metadata": {
    "collapsed": false,
    "deletable": true,
    "editable": true
   },
   "outputs": [
    {
     "name": "stdout",
     "output_type": "stream",
     "text": [
      "Checking the Training on a Single Batch...\n",
      "Epoch  1, CIFAR-10 Batch 1:  Loss: 2.04052    Accuracy:  0.258\n",
      "Epoch  2, CIFAR-10 Batch 1:  Loss: 1.79986    Accuracy:  0.3492\n",
      "Epoch  3, CIFAR-10 Batch 1:  Loss: 1.60143    Accuracy:  0.3938\n",
      "Epoch  4, CIFAR-10 Batch 1:  Loss: 1.50473    Accuracy:  0.422\n",
      "Epoch  5, CIFAR-10 Batch 1:  Loss: 1.39519    Accuracy:  0.439\n",
      "Epoch  6, CIFAR-10 Batch 1:  Loss: 1.18788    Accuracy:  0.4902\n",
      "Epoch  7, CIFAR-10 Batch 1:  Loss: 1.12781    Accuracy:  0.4814\n",
      "Epoch  8, CIFAR-10 Batch 1:  Loss: 1.01318    Accuracy:  0.5018\n",
      "Epoch  9, CIFAR-10 Batch 1:  Loss: 0.857723    Accuracy:  0.5138\n",
      "Epoch 10, CIFAR-10 Batch 1:  Loss: 0.824095    Accuracy:  0.5202\n",
      "Epoch 11, CIFAR-10 Batch 1:  Loss: 0.772186    Accuracy:  0.5358\n",
      "Epoch 12, CIFAR-10 Batch 1:  Loss: 0.736857    Accuracy:  0.5324\n",
      "Epoch 13, CIFAR-10 Batch 1:  Loss: 0.756973    Accuracy:  0.528\n",
      "Epoch 14, CIFAR-10 Batch 1:  Loss: 0.721166    Accuracy:  0.5488\n",
      "Epoch 15, CIFAR-10 Batch 1:  Loss: 0.639348    Accuracy:  0.559\n",
      "Epoch 16, CIFAR-10 Batch 1:  Loss: 0.6166    Accuracy:  0.5726\n",
      "Epoch 17, CIFAR-10 Batch 1:  Loss: 0.580358    Accuracy:  0.5698\n",
      "Epoch 18, CIFAR-10 Batch 1:  Loss: 0.541676    Accuracy:  0.5752\n",
      "Epoch 19, CIFAR-10 Batch 1:  Loss: 0.507296    Accuracy:  0.5866\n",
      "Epoch 20, CIFAR-10 Batch 1:  Loss: 0.435492    Accuracy:  0.5732\n",
      "Epoch 21, CIFAR-10 Batch 1:  Loss: 0.434543    Accuracy:  0.5746\n",
      "Epoch 22, CIFAR-10 Batch 1:  Loss: 0.456381    Accuracy:  0.5722\n",
      "Epoch 23, CIFAR-10 Batch 1:  Loss: 0.405315    Accuracy:  0.5892\n",
      "Epoch 24, CIFAR-10 Batch 1:  Loss: 0.391264    Accuracy:  0.5754\n",
      "Epoch 25, CIFAR-10 Batch 1:  Loss: 0.397855    Accuracy:  0.5786\n",
      "Epoch 26, CIFAR-10 Batch 1:  Loss: 0.359262    Accuracy:  0.5748\n",
      "Epoch 27, CIFAR-10 Batch 1:  Loss: 0.350445    Accuracy:  0.5874\n",
      "Epoch 28, CIFAR-10 Batch 1:  Loss: 0.369323    Accuracy:  0.5734\n",
      "Epoch 29, CIFAR-10 Batch 1:  Loss: 0.34894    Accuracy:  0.587\n",
      "Epoch 30, CIFAR-10 Batch 1:  Loss: 0.309371    Accuracy:  0.5838\n"
     ]
    }
   ],
   "source": [
    "\"\"\"\n",
    "DON'T MODIFY ANYTHING IN THIS CELL\n",
    "\"\"\"\n",
    "print('Checking the Training on a Single Batch...')\n",
    "with tf.Session() as sess:\n",
    "    # Initializing the variables\n",
    "    sess.run(tf.global_variables_initializer())\n",
    "    \n",
    "    # Training cycle\n",
    "    for epoch in range(epochs):\n",
    "        batch_i = 1\n",
    "        for batch_features, batch_labels in helper.load_preprocess_training_batch(batch_i, batch_size):\n",
    "            train_neural_network(sess, optimizer, keep_probability, batch_features, batch_labels)\n",
    "        print('Epoch {:>2}, CIFAR-10 Batch {}:  '.format(epoch + 1, batch_i), end='')\n",
    "        print_stats(sess, batch_features, batch_labels, cost, accuracy)"
   ]
  },
  {
   "cell_type": "markdown",
   "metadata": {
    "deletable": true,
    "editable": true
   },
   "source": [
    "### Fully Train the Model\n",
    "Now that you got a good accuracy with a single CIFAR-10 batch, try it with all five batches."
   ]
  },
  {
   "cell_type": "code",
   "execution_count": 191,
   "metadata": {
    "collapsed": false,
    "deletable": true,
    "editable": true
   },
   "outputs": [
    {
     "name": "stdout",
     "output_type": "stream",
     "text": [
      "Training...\n",
      "Epoch  1, CIFAR-10 Batch 1:  Loss: 2.26308    Accuracy:  0.1078\n",
      "Epoch  1, CIFAR-10 Batch 2:  Loss: 1.78466    Accuracy:  0.2524\n",
      "Epoch  1, CIFAR-10 Batch 3:  Loss: 1.609    Accuracy:  0.3236\n",
      "Epoch  1, CIFAR-10 Batch 4:  Loss: 1.66945    Accuracy:  0.3938\n",
      "Epoch  1, CIFAR-10 Batch 5:  Loss: 1.46732    Accuracy:  0.42\n",
      "Epoch  2, CIFAR-10 Batch 1:  Loss: 1.60599    Accuracy:  0.4496\n",
      "Epoch  2, CIFAR-10 Batch 2:  Loss: 1.49031    Accuracy:  0.4546\n",
      "Epoch  2, CIFAR-10 Batch 3:  Loss: 1.17364    Accuracy:  0.452\n",
      "Epoch  2, CIFAR-10 Batch 4:  Loss: 1.47744    Accuracy:  0.4846\n",
      "Epoch  2, CIFAR-10 Batch 5:  Loss: 1.31127    Accuracy:  0.498\n",
      "Epoch  3, CIFAR-10 Batch 1:  Loss: 1.30734    Accuracy:  0.5142\n",
      "Epoch  3, CIFAR-10 Batch 2:  Loss: 1.42021    Accuracy:  0.514\n",
      "Epoch  3, CIFAR-10 Batch 3:  Loss: 0.995878    Accuracy:  0.5296\n",
      "Epoch  3, CIFAR-10 Batch 4:  Loss: 1.29286    Accuracy:  0.5472\n",
      "Epoch  3, CIFAR-10 Batch 5:  Loss: 1.13438    Accuracy:  0.5392\n",
      "Epoch  4, CIFAR-10 Batch 1:  Loss: 1.1389    Accuracy:  0.5566\n",
      "Epoch  4, CIFAR-10 Batch 2:  Loss: 1.16195    Accuracy:  0.563\n",
      "Epoch  4, CIFAR-10 Batch 3:  Loss: 0.909992    Accuracy:  0.5462\n",
      "Epoch  4, CIFAR-10 Batch 4:  Loss: 1.12442    Accuracy:  0.5744\n",
      "Epoch  4, CIFAR-10 Batch 5:  Loss: 1.02333    Accuracy:  0.5632\n",
      "Epoch  5, CIFAR-10 Batch 1:  Loss: 1.09647    Accuracy:  0.5866\n",
      "Epoch  5, CIFAR-10 Batch 2:  Loss: 1.08826    Accuracy:  0.5714\n",
      "Epoch  5, CIFAR-10 Batch 3:  Loss: 0.868916    Accuracy:  0.5662\n",
      "Epoch  5, CIFAR-10 Batch 4:  Loss: 1.03084    Accuracy:  0.5944\n",
      "Epoch  5, CIFAR-10 Batch 5:  Loss: 1.00566    Accuracy:  0.5772\n",
      "Epoch  6, CIFAR-10 Batch 1:  Loss: 1.0376    Accuracy:  0.5794\n",
      "Epoch  6, CIFAR-10 Batch 2:  Loss: 1.01497    Accuracy:  0.5866\n",
      "Epoch  6, CIFAR-10 Batch 3:  Loss: 0.795919    Accuracy:  0.5816\n",
      "Epoch  6, CIFAR-10 Batch 4:  Loss: 0.936577    Accuracy:  0.6082\n",
      "Epoch  6, CIFAR-10 Batch 5:  Loss: 0.887956    Accuracy:  0.6122\n",
      "Epoch  7, CIFAR-10 Batch 1:  Loss: 0.948909    Accuracy:  0.617\n",
      "Epoch  7, CIFAR-10 Batch 2:  Loss: 1.02309    Accuracy:  0.5882\n",
      "Epoch  7, CIFAR-10 Batch 3:  Loss: 0.762993    Accuracy:  0.592\n",
      "Epoch  7, CIFAR-10 Batch 4:  Loss: 0.895062    Accuracy:  0.6112\n",
      "Epoch  7, CIFAR-10 Batch 5:  Loss: 0.787383    Accuracy:  0.6002\n",
      "Epoch  8, CIFAR-10 Batch 1:  Loss: 0.937065    Accuracy:  0.6128\n",
      "Epoch  8, CIFAR-10 Batch 2:  Loss: 0.889203    Accuracy:  0.612\n",
      "Epoch  8, CIFAR-10 Batch 3:  Loss: 0.700981    Accuracy:  0.607\n",
      "Epoch  8, CIFAR-10 Batch 4:  Loss: 0.768054    Accuracy:  0.62\n",
      "Epoch  8, CIFAR-10 Batch 5:  Loss: 0.764656    Accuracy:  0.6244\n",
      "Epoch  9, CIFAR-10 Batch 1:  Loss: 0.891264    Accuracy:  0.6216\n",
      "Epoch  9, CIFAR-10 Batch 2:  Loss: 0.795007    Accuracy:  0.619\n",
      "Epoch  9, CIFAR-10 Batch 3:  Loss: 0.632136    Accuracy:  0.6212\n",
      "Epoch  9, CIFAR-10 Batch 4:  Loss: 0.749622    Accuracy:  0.6308\n",
      "Epoch  9, CIFAR-10 Batch 5:  Loss: 0.689696    Accuracy:  0.6266\n",
      "Epoch 10, CIFAR-10 Batch 1:  Loss: 0.880189    Accuracy:  0.6276\n",
      "Epoch 10, CIFAR-10 Batch 2:  Loss: 0.715802    Accuracy:  0.6216\n",
      "Epoch 10, CIFAR-10 Batch 3:  Loss: 0.601913    Accuracy:  0.6284\n",
      "Epoch 10, CIFAR-10 Batch 4:  Loss: 0.754141    Accuracy:  0.6292\n",
      "Epoch 10, CIFAR-10 Batch 5:  Loss: 0.725633    Accuracy:  0.6392\n",
      "Epoch 11, CIFAR-10 Batch 1:  Loss: 0.754348    Accuracy:  0.6168\n",
      "Epoch 11, CIFAR-10 Batch 2:  Loss: 0.678493    Accuracy:  0.6398\n",
      "Epoch 11, CIFAR-10 Batch 3:  Loss: 0.605132    Accuracy:  0.628\n",
      "Epoch 11, CIFAR-10 Batch 4:  Loss: 0.629218    Accuracy:  0.635\n",
      "Epoch 11, CIFAR-10 Batch 5:  Loss: 0.6906    Accuracy:  0.6248\n",
      "Epoch 12, CIFAR-10 Batch 1:  Loss: 0.820227    Accuracy:  0.6276\n",
      "Epoch 12, CIFAR-10 Batch 2:  Loss: 0.722126    Accuracy:  0.6378\n",
      "Epoch 12, CIFAR-10 Batch 3:  Loss: 0.585196    Accuracy:  0.629\n",
      "Epoch 12, CIFAR-10 Batch 4:  Loss: 0.621741    Accuracy:  0.6486\n",
      "Epoch 12, CIFAR-10 Batch 5:  Loss: 0.647351    Accuracy:  0.6428\n",
      "Epoch 13, CIFAR-10 Batch 1:  Loss: 0.686404    Accuracy:  0.6404\n",
      "Epoch 13, CIFAR-10 Batch 2:  Loss: 0.693715    Accuracy:  0.633\n",
      "Epoch 13, CIFAR-10 Batch 3:  Loss: 0.512783    Accuracy:  0.6386\n",
      "Epoch 13, CIFAR-10 Batch 4:  Loss: 0.592245    Accuracy:  0.6476\n",
      "Epoch 13, CIFAR-10 Batch 5:  Loss: 0.583171    Accuracy:  0.6424\n",
      "Epoch 14, CIFAR-10 Batch 1:  Loss: 0.67708    Accuracy:  0.6338\n",
      "Epoch 14, CIFAR-10 Batch 2:  Loss: 0.648567    Accuracy:  0.635\n",
      "Epoch 14, CIFAR-10 Batch 3:  Loss: 0.56786    Accuracy:  0.6246\n",
      "Epoch 14, CIFAR-10 Batch 4:  Loss: 0.629178    Accuracy:  0.6208\n",
      "Epoch 14, CIFAR-10 Batch 5:  Loss: 0.606073    Accuracy:  0.6284\n",
      "Epoch 15, CIFAR-10 Batch 1:  Loss: 0.752792    Accuracy:  0.634\n",
      "Epoch 15, CIFAR-10 Batch 2:  Loss: 0.661175    Accuracy:  0.6494\n",
      "Epoch 15, CIFAR-10 Batch 3:  Loss: 0.501266    Accuracy:  0.6426\n",
      "Epoch 15, CIFAR-10 Batch 4:  Loss: 0.571979    Accuracy:  0.6502\n",
      "Epoch 15, CIFAR-10 Batch 5:  Loss: 0.550435    Accuracy:  0.6372\n",
      "Epoch 16, CIFAR-10 Batch 1:  Loss: 0.658754    Accuracy:  0.6508\n",
      "Epoch 16, CIFAR-10 Batch 2:  Loss: 0.649011    Accuracy:  0.6488\n",
      "Epoch 16, CIFAR-10 Batch 3:  Loss: 0.470886    Accuracy:  0.6462\n",
      "Epoch 16, CIFAR-10 Batch 4:  Loss: 0.521306    Accuracy:  0.65\n",
      "Epoch 16, CIFAR-10 Batch 5:  Loss: 0.55043    Accuracy:  0.636\n",
      "Epoch 17, CIFAR-10 Batch 1:  Loss: 0.541967    Accuracy:  0.6506\n",
      "Epoch 17, CIFAR-10 Batch 2:  Loss: 0.613761    Accuracy:  0.6498\n",
      "Epoch 17, CIFAR-10 Batch 3:  Loss: 0.456006    Accuracy:  0.6418\n",
      "Epoch 17, CIFAR-10 Batch 4:  Loss: 0.508893    Accuracy:  0.647\n",
      "Epoch 17, CIFAR-10 Batch 5:  Loss: 0.4939    Accuracy:  0.6534\n",
      "Epoch 18, CIFAR-10 Batch 1:  Loss: 0.603158    Accuracy:  0.644\n",
      "Epoch 18, CIFAR-10 Batch 2:  Loss: 0.617339    Accuracy:  0.6424\n",
      "Epoch 18, CIFAR-10 Batch 3:  Loss: 0.450098    Accuracy:  0.6588\n",
      "Epoch 18, CIFAR-10 Batch 4:  Loss: 0.481134    Accuracy:  0.647\n",
      "Epoch 18, CIFAR-10 Batch 5:  Loss: 0.503116    Accuracy:  0.627\n",
      "Epoch 19, CIFAR-10 Batch 1:  Loss: 0.618348    Accuracy:  0.6562\n",
      "Epoch 19, CIFAR-10 Batch 2:  Loss: 0.582357    Accuracy:  0.654\n",
      "Epoch 19, CIFAR-10 Batch 3:  Loss: 0.396727    Accuracy:  0.6618\n",
      "Epoch 19, CIFAR-10 Batch 4:  Loss: 0.490164    Accuracy:  0.6548\n",
      "Epoch 19, CIFAR-10 Batch 5:  Loss: 0.508078    Accuracy:  0.6354\n",
      "Epoch 20, CIFAR-10 Batch 1:  Loss: 0.620674    Accuracy:  0.6638\n",
      "Epoch 20, CIFAR-10 Batch 2:  Loss: 0.556818    Accuracy:  0.6612\n",
      "Epoch 20, CIFAR-10 Batch 3:  Loss: 0.471713    Accuracy:  0.6396\n",
      "Epoch 20, CIFAR-10 Batch 4:  Loss: 0.440983    Accuracy:  0.6604\n",
      "Epoch 20, CIFAR-10 Batch 5:  Loss: 0.457565    Accuracy:  0.655\n",
      "Epoch 21, CIFAR-10 Batch 1:  Loss: 0.597928    Accuracy:  0.6528\n",
      "Epoch 21, CIFAR-10 Batch 2:  Loss: 0.589693    Accuracy:  0.6612\n",
      "Epoch 21, CIFAR-10 Batch 3:  Loss: 0.388753    Accuracy:  0.6522\n",
      "Epoch 21, CIFAR-10 Batch 4:  Loss: 0.436508    Accuracy:  0.657\n",
      "Epoch 21, CIFAR-10 Batch 5:  Loss: 0.447197    Accuracy:  0.6422\n",
      "Epoch 22, CIFAR-10 Batch 1:  Loss: 0.542602    Accuracy:  0.6586\n",
      "Epoch 22, CIFAR-10 Batch 2:  Loss: 0.568776    Accuracy:  0.6574\n",
      "Epoch 22, CIFAR-10 Batch 3:  Loss: 0.401776    Accuracy:  0.6698\n",
      "Epoch 22, CIFAR-10 Batch 4:  Loss: 0.479118    Accuracy:  0.6566\n",
      "Epoch 22, CIFAR-10 Batch 5:  Loss: 0.403164    Accuracy:  0.639\n",
      "Epoch 23, CIFAR-10 Batch 1:  Loss: 0.634638    Accuracy:  0.6556\n",
      "Epoch 23, CIFAR-10 Batch 2:  Loss: 0.523283    Accuracy:  0.656\n",
      "Epoch 23, CIFAR-10 Batch 3:  Loss: 0.381915    Accuracy:  0.6538\n",
      "Epoch 23, CIFAR-10 Batch 4:  Loss: 0.385431    Accuracy:  0.6538\n",
      "Epoch 23, CIFAR-10 Batch 5:  Loss: 0.350738    Accuracy:  0.6524\n",
      "Epoch 24, CIFAR-10 Batch 1:  Loss: 0.504121    Accuracy:  0.6566\n",
      "Epoch 24, CIFAR-10 Batch 2:  Loss: 0.47909    Accuracy:  0.6604\n",
      "Epoch 24, CIFAR-10 Batch 3:  Loss: 0.382509    Accuracy:  0.6452\n",
      "Epoch 24, CIFAR-10 Batch 4:  Loss: 0.433397    Accuracy:  0.6618\n",
      "Epoch 24, CIFAR-10 Batch 5:  Loss: 0.438716    Accuracy:  0.6316\n",
      "Epoch 25, CIFAR-10 Batch 1:  Loss: 0.489424    Accuracy:  0.6572\n",
      "Epoch 25, CIFAR-10 Batch 2:  Loss: 0.4056    Accuracy:  0.669\n",
      "Epoch 25, CIFAR-10 Batch 3:  Loss: 0.322131    Accuracy:  0.6518\n",
      "Epoch 25, CIFAR-10 Batch 4:  Loss: 0.461673    Accuracy:  0.6356\n",
      "Epoch 25, CIFAR-10 Batch 5:  Loss: 0.383207    Accuracy:  0.6256\n",
      "Epoch 26, CIFAR-10 Batch 1:  Loss: 0.500453    Accuracy:  0.6612\n",
      "Epoch 26, CIFAR-10 Batch 2:  Loss: 0.450122    Accuracy:  0.6648\n",
      "Epoch 26, CIFAR-10 Batch 3:  Loss: 0.32726    Accuracy:  0.6554\n",
      "Epoch 26, CIFAR-10 Batch 4:  Loss: 0.389191    Accuracy:  0.652\n",
      "Epoch 26, CIFAR-10 Batch 5:  Loss: 0.365793    Accuracy:  0.6326\n",
      "Epoch 27, CIFAR-10 Batch 1:  Loss: 0.461142    Accuracy:  0.6558\n",
      "Epoch 27, CIFAR-10 Batch 2:  Loss: 0.439362    Accuracy:  0.666\n",
      "Epoch 27, CIFAR-10 Batch 3:  Loss: 0.309598    Accuracy:  0.6594\n",
      "Epoch 27, CIFAR-10 Batch 4:  Loss: 0.400444    Accuracy:  0.6602\n",
      "Epoch 27, CIFAR-10 Batch 5:  Loss: 0.341526    Accuracy:  0.6486\n",
      "Epoch 28, CIFAR-10 Batch 1:  Loss: 0.487989    Accuracy:  0.6586\n",
      "Epoch 28, CIFAR-10 Batch 2:  Loss: 0.487133    Accuracy:  0.6508\n",
      "Epoch 28, CIFAR-10 Batch 3:  Loss: 0.32676    Accuracy:  0.6534\n",
      "Epoch 28, CIFAR-10 Batch 4:  Loss: 0.402668    Accuracy:  0.6432\n",
      "Epoch 28, CIFAR-10 Batch 5:  Loss: 0.340682    Accuracy:  0.6482\n",
      "Epoch 29, CIFAR-10 Batch 1:  Loss: 0.511712    Accuracy:  0.6578\n",
      "Epoch 29, CIFAR-10 Batch 2:  Loss: 0.457639    Accuracy:  0.657\n",
      "Epoch 29, CIFAR-10 Batch 3:  Loss: 0.281003    Accuracy:  0.666\n",
      "Epoch 29, CIFAR-10 Batch 4:  Loss: 0.324655    Accuracy:  0.66\n",
      "Epoch 29, CIFAR-10 Batch 5:  Loss: 0.385604    Accuracy:  0.6364\n",
      "Epoch 30, CIFAR-10 Batch 1:  Loss: 0.508398    Accuracy:  0.6448\n",
      "Epoch 30, CIFAR-10 Batch 2:  Loss: 0.468083    Accuracy:  0.6478\n",
      "Epoch 30, CIFAR-10 Batch 3:  Loss: 0.311979    Accuracy:  0.6536\n",
      "Epoch 30, CIFAR-10 Batch 4:  Loss: 0.330791    Accuracy:  0.6526\n",
      "Epoch 30, CIFAR-10 Batch 5:  Loss: 0.385408    Accuracy:  0.6608\n"
     ]
    }
   ],
   "source": [
    "\"\"\"\n",
    "DON'T MODIFY ANYTHING IN THIS CELL\n",
    "\"\"\"\n",
    "save_model_path = './image_classification'\n",
    "\n",
    "print('Training...')\n",
    "with tf.Session() as sess:\n",
    "    # Initializing the variables\n",
    "    sess.run(tf.global_variables_initializer())\n",
    "    \n",
    "    # Training cycle\n",
    "    for epoch in range(epochs):\n",
    "        # Loop over all batches\n",
    "        n_batches = 5\n",
    "        for batch_i in range(1, n_batches + 1):\n",
    "            for batch_features, batch_labels in helper.load_preprocess_training_batch(batch_i, batch_size):\n",
    "                train_neural_network(sess, optimizer, keep_probability, batch_features, batch_labels)\n",
    "            print('Epoch {:>2}, CIFAR-10 Batch {}:  '.format(epoch + 1, batch_i), end='')\n",
    "            print_stats(sess, batch_features, batch_labels, cost, accuracy)\n",
    "            \n",
    "    # Save Model\n",
    "    saver = tf.train.Saver()\n",
    "    save_path = saver.save(sess, save_model_path)"
   ]
  },
  {
   "cell_type": "markdown",
   "metadata": {
    "deletable": true,
    "editable": true
   },
   "source": [
    "# Checkpoint\n",
    "The model has been saved to disk.\n",
    "## Test Model\n",
    "Test your model against the test dataset.  This will be your final accuracy. You should have an accuracy greater than 50%. If you don't, keep tweaking the model architecture and parameters."
   ]
  },
  {
   "cell_type": "code",
   "execution_count": 192,
   "metadata": {
    "collapsed": false,
    "deletable": true,
    "editable": true
   },
   "outputs": [
    {
     "name": "stdout",
     "output_type": "stream",
     "text": [
      "Testing Accuracy: 0.6617879746835443\n",
      "\n"
     ]
    },
    {
     "data": {
      "image/png": "[encoded data removed]",
      "text/plain": [
       "<matplotlib.figure.Figure at 0x7fd30d3a1fd0>"
      ]
     },
     "metadata": {
      "image/png": {
       "height": 319,
       "width": 355
      }
     },
     "output_type": "display_data"
    }
   ],
   "source": [
    "\"\"\"\n",
    "DON'T MODIFY ANYTHING IN THIS CELL\n",
    "\"\"\"\n",
    "%matplotlib inline\n",
    "%config InlineBackend.figure_format = 'retina'\n",
    "\n",
    "import tensorflow as tf\n",
    "import pickle\n",
    "import helper\n",
    "import random\n",
    "\n",
    "# Set batch size if not already set\n",
    "try:\n",
    "    if batch_size:\n",
    "        pass\n",
    "except NameError:\n",
    "    batch_size = 64\n",
    "\n",
    "save_model_path = './image_classification'\n",
    "n_samples = 4\n",
    "top_n_predictions = 3\n",
    "\n",
    "def test_model():\n",
    "    \"\"\"\n",
    "    Test the saved model against the test dataset\n",
    "    \"\"\"\n",
    "\n",
    "    test_features, test_labels = pickle.load(open('preprocess_test.p', mode='rb'))\n",
    "    loaded_graph = tf.Graph()\n",
    "\n",
    "    with tf.Session(graph=loaded_graph) as sess:\n",
    "        # Load model\n",
    "        loader = tf.train.import_meta_graph(save_model_path + '.meta')\n",
    "        loader.restore(sess, save_model_path)\n",
    "\n",
    "        # Get Tensors from loaded model\n",
    "        loaded_x = loaded_graph.get_tensor_by_name('x:0')\n",
    "        loaded_y = loaded_graph.get_tensor_by_name('y:0')\n",
    "        loaded_keep_prob = loaded_graph.get_tensor_by_name('keep_prob:0')\n",
    "        loaded_logits = loaded_graph.get_tensor_by_name('logits:0')\n",
    "        loaded_acc = loaded_graph.get_tensor_by_name('accuracy:0')\n",
    "        \n",
    "        # Get accuracy in batches for memory limitations\n",
    "        test_batch_acc_total = 0\n",
    "        test_batch_count = 0\n",
    "        \n",
    "        for test_feature_batch, test_label_batch in helper.batch_features_labels(test_features, test_labels, batch_size):\n",
    "            test_batch_acc_total += sess.run(\n",
    "                loaded_acc,\n",
    "                feed_dict={loaded_x: test_feature_batch, loaded_y: test_label_batch, loaded_keep_prob: 1.0})\n",
    "            test_batch_count += 1\n",
    "\n",
    "        print('Testing Accuracy: {}\\n'.format(test_batch_acc_total/test_batch_count))\n",
    "\n",
    "        # Print Random Samples\n",
    "        random_test_features, random_test_labels = tuple(zip(*random.sample(list(zip(test_features, test_labels)), n_samples)))\n",
    "        random_test_predictions = sess.run(\n",
    "            tf.nn.top_k(tf.nn.softmax(loaded_logits), top_n_predictions),\n",
    "            feed_dict={loaded_x: random_test_features, loaded_y: random_test_labels, loaded_keep_prob: 1.0})\n",
    "        helper.display_image_predictions(random_test_features, random_test_labels, random_test_predictions)\n",
    "\n",
    "\n",
    "test_model()"
   ]
  },
  {
   "cell_type": "markdown",
   "metadata": {
    "deletable": true,
    "editable": true
   },
   "source": [
    "## Why 50-80% Accuracy?\n",
    "You might be wondering why you can't get an accuracy any higher. First things first, 50% isn't bad for a simple CNN.  Pure guessing would get you 10% accuracy. However, you might notice people are getting scores [well above 80%](http://rodrigob.github.io/are_we_there_yet/build/classification_datasets_results.html#43494641522d3130).  That's because we haven't taught you all there is to know about neural networks. We still need to cover a few more techniques.\n",
    "## Submitting This Project\n",
    "When submitting this project, make sure to run all the cells before saving the notebook.  Save the notebook file as \"dlnd_image_classification.ipynb\" and save it as a HTML file under \"File\" -> \"Download as\".  Include the \"helper.py\" and \"problem_unittests.py\" files in your submission."
   ]
  },
  {
   "cell_type": "code",
   "execution_count": null,
   "metadata": {
    "collapsed": true,
    "deletable": true,
    "editable": true
   },
   "outputs": [],
   "source": []
  }
 ],
 "metadata": {
  "anaconda-cloud": {},
  "kernelspec": {
   "display_name": "Python 3",
   "language": "python",
   "name": "python3"
  },
  "language_info": {
   "codemirror_mode": {
    "name": "ipython",
    "version": 3
   },
   "file_extension": ".py",
   "mimetype": "text/x-python",
   "name": "python",
   "nbconvert_exporter": "python",
   "pygments_lexer": "ipython3",
   "version": "3.5.2"
  },
  "widgets": {
   "state": {},
   "version": "1.1.2"
  }
 },
 "nbformat": 4,
 "nbformat_minor": 0
}
