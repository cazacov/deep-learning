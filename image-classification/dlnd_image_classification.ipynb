{
 "cells": [
  {
   "cell_type": "markdown",
   "metadata": {
    "collapsed": true,
    "deletable": true,
    "editable": true
   },
   "source": [
    "# Image Classification\n",
    "In this project, you'll classify images from the [CIFAR-10 dataset](https://www.cs.toronto.edu/~kriz/cifar.html).  The dataset consists of airplanes, dogs, cats, and other objects. You'll preprocess the images, then train a convolutional neural network on all the samples. The images need to be normalized and the labels need to be one-hot encoded.  You'll get to apply what you learned and build a convolutional, max pooling, dropout, and fully connected layers.  At the end, you'll get to see your neural network's predictions on the sample images.\n",
    "## Get the Data\n",
    "Run the following cell to download the [CIFAR-10 dataset for python](https://www.cs.toronto.edu/~kriz/cifar-10-python.tar.gz)."
   ]
  },
  {
   "cell_type": "code",
   "execution_count": 97,
   "metadata": {
    "collapsed": false,
    "deletable": true,
    "editable": true
   },
   "outputs": [
    {
     "name": "stdout",
     "output_type": "stream",
     "text": [
      "All files found!\n"
     ]
    }
   ],
   "source": [
    "\"\"\"\n",
    "DON'T MODIFY ANYTHING IN THIS CELL THAT IS BELOW THIS LINE\n",
    "\"\"\"\n",
    "from urllib.request import urlretrieve\n",
    "from os.path import isfile, isdir\n",
    "from tqdm import tqdm\n",
    "import problem_unittests as tests\n",
    "import tarfile\n",
    "import numpy as np\n",
    "\n",
    "cifar10_dataset_folder_path = 'cifar-10-batches-py'\n",
    "\n",
    "# Use Floyd's cifar-10 dataset if present\n",
    "floyd_cifar10_location = '/input/cifar-10/python.tar.gz'\n",
    "if isfile(floyd_cifar10_location):\n",
    "    tar_gz_path = floyd_cifar10_location\n",
    "else:\n",
    "    tar_gz_path = 'cifar-10-python.tar.gz'\n",
    "\n",
    "class DLProgress(tqdm):\n",
    "    last_block = 0\n",
    "\n",
    "    def hook(self, block_num=1, block_size=1, total_size=None):\n",
    "        self.total = total_size\n",
    "        self.update((block_num - self.last_block) * block_size)\n",
    "        self.last_block = block_num\n",
    "\n",
    "if not isfile(tar_gz_path):\n",
    "    with DLProgress(unit='B', unit_scale=True, miniters=1, desc='CIFAR-10 Dataset') as pbar:\n",
    "        urlretrieve(\n",
    "            'https://www.cs.toronto.edu/~kriz/cifar-10-python.tar.gz',\n",
    "            tar_gz_path,\n",
    "            pbar.hook)\n",
    "\n",
    "if not isdir(cifar10_dataset_folder_path):\n",
    "    with tarfile.open(tar_gz_path) as tar:\n",
    "        tar.extractall()\n",
    "        tar.close()\n",
    "\n",
    "\n",
    "tests.test_folder_path(cifar10_dataset_folder_path)"
   ]
  },
  {
   "cell_type": "markdown",
   "metadata": {
    "deletable": true,
    "editable": true
   },
   "source": [
    "## Explore the Data\n",
    "The dataset is broken into batches to prevent your machine from running out of memory.  The CIFAR-10 dataset consists of 5 batches, named `data_batch_1`, `data_batch_2`, etc.. Each batch contains the labels and images that are one of the following:\n",
    "* airplane\n",
    "* automobile\n",
    "* bird\n",
    "* cat\n",
    "* deer\n",
    "* dog\n",
    "* frog\n",
    "* horse\n",
    "* ship\n",
    "* truck\n",
    "\n",
    "Understanding a dataset is part of making predictions on the data.  Play around with the code cell below by changing the `batch_id` and `sample_id`. The `batch_id` is the id for a batch (1-5). The `sample_id` is the id for a image and label pair in the batch.\n",
    "\n",
    "Ask yourself \"What are all possible labels?\", \"What is the range of values for the image data?\", \"Are the labels in order or random?\".  Answers to questions like these will help you preprocess the data and end up with better predictions."
   ]
  },
  {
   "cell_type": "code",
   "execution_count": 98,
   "metadata": {
    "collapsed": false,
    "deletable": true,
    "editable": true
   },
   "outputs": [
    {
     "name": "stdout",
     "output_type": "stream",
     "text": [
      "\n",
      "Stats of batch 1:\n",
      "Samples: 10000\n",
      "Label Counts: {0: 1005, 1: 974, 2: 1032, 3: 1016, 4: 999, 5: 937, 6: 1030, 7: 1001, 8: 1025, 9: 981}\n",
      "First 20 Labels: [6, 9, 9, 4, 1, 1, 2, 7, 8, 3, 4, 7, 7, 2, 9, 9, 9, 3, 2, 6]\n",
      "\n",
      "Example of Image 8:\n",
      "Image - Min Value: 8 Max Value: 252\n",
      "Image - Shape: (32, 32, 3)\n",
      "Label - Label Id: 8 Name: ship\n"
     ]
    },
    {
     "data": {
      "image/png": "[encoded data removed]",
      "text/plain": [
       "<matplotlib.figure.Figure at 0x7f465ac12898>"
      ]
     },
     "metadata": {
      "image/png": {
       "height": 250,
       "width": 253
      }
     },
     "output_type": "display_data"
    }
   ],
   "source": [
    "%matplotlib inline\n",
    "%config InlineBackend.figure_format = 'retina'\n",
    "\n",
    "import helper\n",
    "import numpy as np\n",
    "\n",
    "# Explore the dataset\n",
    "batch_id = 1\n",
    "sample_id = 8\n",
    "helper.display_stats(cifar10_dataset_folder_path, batch_id, sample_id)"
   ]
  },
  {
   "cell_type": "markdown",
   "metadata": {
    "deletable": true,
    "editable": true
   },
   "source": [
    "## Implement Preprocess Functions\n",
    "### Normalize\n",
    "In the cell below, implement the `normalize` function to take in image data, `x`, and return it as a normalized Numpy array. The values should be in the range of 0 to 1, inclusive.  The return object should be the same shape as `x`."
   ]
  },
  {
   "cell_type": "code",
   "execution_count": 99,
   "metadata": {
    "collapsed": false,
    "deletable": true,
    "editable": true
   },
   "outputs": [
    {
     "name": "stdout",
     "output_type": "stream",
     "text": [
      "Tests Passed\n"
     ]
    }
   ],
   "source": [
    "def normalize(x):\n",
    "    \"\"\"\n",
    "    Normalize a list of sample image data in the range of 0 to 1\n",
    "    : x: List of image data.  The image shape is (32, 32, 3)\n",
    "    : return: Numpy array of normalize data\n",
    "    \"\"\"\n",
    "    # TODO: Implement Function\n",
    "    a = 0\n",
    "    b = 1\n",
    "    intensity_min = 0\n",
    "    intensity_max = 255\n",
    "    \n",
    "    return a + (x - intensity_min) * (b-a) / (intensity_max - intensity_min)\n",
    "    \n",
    "\n",
    "\n",
    "\"\"\"\n",
    "DON'T MODIFY ANYTHING IN THIS CELL THAT IS BELOW THIS LINE\n",
    "\"\"\"\n",
    "tests.test_normalize(normalize)"
   ]
  },
  {
   "cell_type": "markdown",
   "metadata": {
    "deletable": true,
    "editable": true
   },
   "source": [
    "### One-hot encode\n",
    "Just like the previous code cell, you'll be implementing a function for preprocessing.  This time, you'll implement the `one_hot_encode` function. The input, `x`, are a list of labels.  Implement the function to return the list of labels as One-Hot encoded Numpy array.  The possible values for labels are 0 to 9. The one-hot encoding function should return the same encoding for each value between each call to `one_hot_encode`.  Make sure to save the map of encodings outside the function.\n",
    "\n",
    "Hint: Don't reinvent the wheel."
   ]
  },
  {
   "cell_type": "code",
   "execution_count": 100,
   "metadata": {
    "collapsed": false,
    "deletable": true,
    "editable": true
   },
   "outputs": [
    {
     "name": "stdout",
     "output_type": "stream",
     "text": [
      "Tests Passed\n"
     ]
    }
   ],
   "source": [
    "def one_hot_encode(x):\n",
    "    \"\"\"\n",
    "    One hot encode a list of sample labels. Return a one-hot encoded vector for each label.\n",
    "    : x: List of sample Labels\n",
    "    : return: Numpy array of one-hot encoded labels\n",
    "    \"\"\"\n",
    "    # TODO: Implement Function\n",
    "    \n",
    "    row_count = len(x)\n",
    "    result = np.zeros((row_count, 10))\n",
    "    result[np.arange(row_count), x] = 1\n",
    "    return result\n",
    "\n",
    "\n",
    "\"\"\"\n",
    "DON'T MODIFY ANYTHING IN THIS CELL THAT IS BELOW THIS LINE\n",
    "\"\"\"\n",
    "tests.test_one_hot_encode(one_hot_encode)"
   ]
  },
  {
   "cell_type": "markdown",
   "metadata": {
    "deletable": true,
    "editable": true
   },
   "source": [
    "### Randomize Data\n",
    "As you saw from exploring the data above, the order of the samples are randomized.  It doesn't hurt to randomize it again, but you don't need to for this dataset."
   ]
  },
  {
   "cell_type": "markdown",
   "metadata": {
    "deletable": true,
    "editable": true
   },
   "source": [
    "## Preprocess all the data and save it\n",
    "Running the code cell below will preprocess all the CIFAR-10 data and save it to file. The code below also uses 10% of the training data for validation."
   ]
  },
  {
   "cell_type": "code",
   "execution_count": 101,
   "metadata": {
    "collapsed": false,
    "deletable": true,
    "editable": true
   },
   "outputs": [],
   "source": [
    "\"\"\"\n",
    "DON'T MODIFY ANYTHING IN THIS CELL\n",
    "\"\"\"\n",
    "# Preprocess Training, Validation, and Testing Data\n",
    "helper.preprocess_and_save_data(cifar10_dataset_folder_path, normalize, one_hot_encode)"
   ]
  },
  {
   "cell_type": "markdown",
   "metadata": {
    "deletable": true,
    "editable": true
   },
   "source": [
    "# Check Point\n",
    "This is your first checkpoint.  If you ever decide to come back to this notebook or have to restart the notebook, you can start from here.  The preprocessed data has been saved to disk."
   ]
  },
  {
   "cell_type": "code",
   "execution_count": 102,
   "metadata": {
    "collapsed": true,
    "deletable": true,
    "editable": true
   },
   "outputs": [],
   "source": [
    "\"\"\"\n",
    "DON'T MODIFY ANYTHING IN THIS CELL\n",
    "\"\"\"\n",
    "import pickle\n",
    "import problem_unittests as tests\n",
    "import helper\n",
    "\n",
    "# Load the Preprocessed Validation data\n",
    "valid_features, valid_labels = pickle.load(open('preprocess_validation.p', mode='rb'))"
   ]
  },
  {
   "cell_type": "markdown",
   "metadata": {
    "deletable": true,
    "editable": true
   },
   "source": [
    "## Build the network\n",
    "For the neural network, you'll build each layer into a function.  Most of the code you've seen has been outside of functions. To test your code more thoroughly, we require that you put each layer in a function.  This allows us to give you better feedback and test for simple mistakes using our unittests before you submit your project.\n",
    "\n",
    ">**Note:** If you're finding it hard to dedicate enough time for this course each week, we've provided a small shortcut to this part of the project. In the next couple of problems, you'll have the option to use classes from the [TensorFlow Layers](https://www.tensorflow.org/api_docs/python/tf/layers) or [TensorFlow Layers (contrib)](https://www.tensorflow.org/api_guides/python/contrib.layers) packages to build each layer, except the layers you build in the \"Convolutional and Max Pooling Layer\" section.  TF Layers is similar to Keras's and TFLearn's abstraction to layers, so it's easy to pickup.\n",
    "\n",
    ">However, if you would like to get the most out of this course, try to solve all the problems _without_ using anything from the TF Layers packages. You **can** still use classes from other packages that happen to have the same name as ones you find in TF Layers! For example, instead of using the TF Layers version of the `conv2d` class, [tf.layers.conv2d](https://www.tensorflow.org/api_docs/python/tf/layers/conv2d), you would want to use the TF Neural Network version of `conv2d`, [tf.nn.conv2d](https://www.tensorflow.org/api_docs/python/tf/nn/conv2d). \n",
    "\n",
    "Let's begin!\n",
    "\n",
    "### Input\n",
    "The neural network needs to read the image data, one-hot encoded labels, and dropout keep probability. Implement the following functions\n",
    "* Implement `neural_net_image_input`\n",
    " * Return a [TF Placeholder](https://www.tensorflow.org/api_docs/python/tf/placeholder)\n",
    " * Set the shape using `image_shape` with batch size set to `None`.\n",
    " * Name the TensorFlow placeholder \"x\" using the TensorFlow `name` parameter in the [TF Placeholder](https://www.tensorflow.org/api_docs/python/tf/placeholder).\n",
    "* Implement `neural_net_label_input`\n",
    " * Return a [TF Placeholder](https://www.tensorflow.org/api_docs/python/tf/placeholder)\n",
    " * Set the shape using `n_classes` with batch size set to `None`.\n",
    " * Name the TensorFlow placeholder \"y\" using the TensorFlow `name` parameter in the [TF Placeholder](https://www.tensorflow.org/api_docs/python/tf/placeholder).\n",
    "* Implement `neural_net_keep_prob_input`\n",
    " * Return a [TF Placeholder](https://www.tensorflow.org/api_docs/python/tf/placeholder) for dropout keep probability.\n",
    " * Name the TensorFlow placeholder \"keep_prob\" using the TensorFlow `name` parameter in the [TF Placeholder](https://www.tensorflow.org/api_docs/python/tf/placeholder).\n",
    "\n",
    "These names will be used at the end of the project to load your saved model.\n",
    "\n",
    "Note: `None` for shapes in TensorFlow allow for a dynamic size."
   ]
  },
  {
   "cell_type": "code",
   "execution_count": 103,
   "metadata": {
    "collapsed": false,
    "deletable": true,
    "editable": true
   },
   "outputs": [
    {
     "name": "stdout",
     "output_type": "stream",
     "text": [
      "Image Input Tests Passed.\n",
      "Label Input Tests Passed.\n",
      "Keep Prob Tests Passed.\n"
     ]
    }
   ],
   "source": [
    "import tensorflow as tf\n",
    "\n",
    "def neural_net_image_input(image_shape):\n",
    "    \"\"\"\n",
    "    Return a Tensor for a batch of image input\n",
    "    : image_shape: Shape of the images\n",
    "    : return: Tensor for image input.\n",
    "    \"\"\"\n",
    "    # TODO: Implement Function\n",
    "\n",
    "    return tf.placeholder(tf.float32, (None,) + image_shape, name=\"x\")\n",
    "\n",
    "\n",
    "def neural_net_label_input(n_classes):\n",
    "    \"\"\"\n",
    "    Return a Tensor for a batch of label input\n",
    "    : n_classes: Number of classes\n",
    "    : return: Tensor for label input.\n",
    "    \"\"\"\n",
    "    # TODO: Implement Function\n",
    "    \n",
    "    return tf.placeholder(tf.float32, (None, n_classes), name=\"y\")\n",
    "\n",
    "\n",
    "def neural_net_keep_prob_input():\n",
    "    \"\"\"\n",
    "    Return a Tensor for keep probability\n",
    "    : return: Tensor for keep probability.\n",
    "    \"\"\"\n",
    "    # TODO: Implement Function\n",
    "    \n",
    "    return tf.placeholder(tf.float32, name=\"keep_prob\")\n",
    "\n",
    "\n",
    "\"\"\"\n",
    "DON'T MODIFY ANYTHING IN THIS CELL THAT IS BELOW THIS LINE\n",
    "\"\"\"\n",
    "tf.reset_default_graph()\n",
    "tests.test_nn_image_inputs(neural_net_image_input)\n",
    "tests.test_nn_label_inputs(neural_net_label_input)\n",
    "tests.test_nn_keep_prob_inputs(neural_net_keep_prob_input)"
   ]
  },
  {
   "cell_type": "markdown",
   "metadata": {
    "deletable": true,
    "editable": true
   },
   "source": [
    "### Convolution and Max Pooling Layer\n",
    "Convolution layers have a lot of success with images. For this code cell, you should implement the function `conv2d_maxpool` to apply convolution then max pooling:\n",
    "* Create the weight and bias using `conv_ksize`, `conv_num_outputs` and the shape of `x_tensor`.\n",
    "* Apply a convolution to `x_tensor` using weight and `conv_strides`.\n",
    " * We recommend you use same padding, but you're welcome to use any padding.\n",
    "* Add bias\n",
    "* Add a nonlinear activation to the convolution.\n",
    "* Apply Max Pooling using `pool_ksize` and `pool_strides`.\n",
    " * We recommend you use same padding, but you're welcome to use any padding.\n",
    "\n",
    "**Note:** You **can't** use [TensorFlow Layers](https://www.tensorflow.org/api_docs/python/tf/layers) or [TensorFlow Layers (contrib)](https://www.tensorflow.org/api_guides/python/contrib.layers) for **this** layer, but you can still use TensorFlow's [Neural Network](https://www.tensorflow.org/api_docs/python/tf/nn) package. You may still use the shortcut option for all the **other** layers."
   ]
  },
  {
   "cell_type": "code",
   "execution_count": 158,
   "metadata": {
    "collapsed": false,
    "deletable": true,
    "editable": true
   },
   "outputs": [
    {
     "name": "stdout",
     "output_type": "stream",
     "text": [
      "Tests Passed\n"
     ]
    }
   ],
   "source": [
    "def conv2d_maxpool(x_tensor, conv_num_outputs, conv_ksize, conv_strides, pool_ksize, pool_strides):\n",
    "    \"\"\"\n",
    "    Apply convolution then max pooling to x_tensor\n",
    "    :param x_tensor: TensorFlow Tensor\n",
    "    :param conv_num_outputs: Number of outputs for the convolutional layer\n",
    "    :param conv_ksize: kernal size 2-D Tuple for the convolutional layer\n",
    "    :param conv_strides: Stride 2-D Tuple for convolution\n",
    "    :param pool_ksize: kernal size 2-D Tuple for pool\n",
    "    :param pool_strides: Stride 2-D Tuple for pool\n",
    "    : return: A tensor that represents convolution and max pooling of x_tensor\n",
    "    \"\"\"\n",
    "    # TODO: Implement Function\n",
    "    \n",
    "    input_shape = x_tensor.get_shape().as_list()\n",
    "    input_depth = input_shape[3]\n",
    "    \n",
    "    weights_shape = conv_ksize + (input_depth, conv_num_outputs)\n",
    "    weights = tf.Variable(tf.truncated_normal(weights_shape))\n",
    "    \n",
    "    strides = (1, ) + conv_strides + (1,)\n",
    "    conv_padding = 'SAME'\n",
    "    \n",
    "    # Apply Convolution\n",
    "    conv = tf.nn.conv2d(x_tensor, weights, strides, conv_padding)\n",
    "    \n",
    "    # Add bias\n",
    "    conv_biases = tf.Variable(tf.zeros(conv_num_outputs))\n",
    "    conv = tf.nn.bias_add(conv, conv_biases)\n",
    "    \n",
    "    # Add non-linear activation\n",
    "    conv =  tf.nn.relu(conv)\n",
    "    \n",
    "    # Calculate maxpool parameters\n",
    "    mp_size = (1, ) + pool_ksize + (1,)\n",
    "    mp_strides = (1, ) + pool_strides + (1,)\n",
    "    mp_padding = 'SAME'\n",
    "    \n",
    "    # Apply Max Pooling\n",
    "    result = tf.nn.max_pool(conv, mp_size, mp_strides, mp_padding)\n",
    "    return result\n",
    "\n",
    "\n",
    "\"\"\"\n",
    "DON'T MODIFY ANYTHING IN THIS CELL THAT IS BELOW THIS LINE\n",
    "\"\"\"\n",
    "tests.test_con_pool(conv2d_maxpool)"
   ]
  },
  {
   "cell_type": "markdown",
   "metadata": {
    "deletable": true,
    "editable": true
   },
   "source": [
    "### Flatten Layer\n",
    "Implement the `flatten` function to change the dimension of `x_tensor` from a 4-D tensor to a 2-D tensor.  The output should be the shape (*Batch Size*, *Flattened Image Size*). Shortcut option: you can use classes from the [TensorFlow Layers](https://www.tensorflow.org/api_docs/python/tf/layers) or [TensorFlow Layers (contrib)](https://www.tensorflow.org/api_guides/python/contrib.layers) packages for this layer. For more of a challenge, only use other TensorFlow packages."
   ]
  },
  {
   "cell_type": "code",
   "execution_count": 159,
   "metadata": {
    "collapsed": false,
    "deletable": true,
    "editable": true
   },
   "outputs": [
    {
     "name": "stdout",
     "output_type": "stream",
     "text": [
      "Tests Passed\n"
     ]
    }
   ],
   "source": [
    "def flatten(x_tensor):\n",
    "    \"\"\"\n",
    "    Flatten x_tensor to (Batch Size, Flattened Image Size)\n",
    "    : x_tensor: A tensor of size (Batch Size, ...), where ... are the image dimensions.\n",
    "    : return: A tensor of size (Batch Size, Flattened Image Size).\n",
    "    \"\"\"\n",
    "    # TODO: Implement Function\n",
    "    input_shape = x_tensor.get_shape().as_list()\n",
    "    new_dimension = np.prod(input_shape[1:])\n",
    "    return tf.reshape(x_tensor, [-1, new_dimension])\n",
    "\n",
    "\n",
    "\"\"\"\n",
    "DON'T MODIFY ANYTHING IN THIS CELL THAT IS BELOW THIS LINE\n",
    "\"\"\"\n",
    "tests.test_flatten(flatten)"
   ]
  },
  {
   "cell_type": "markdown",
   "metadata": {
    "deletable": true,
    "editable": true
   },
   "source": [
    "### Fully-Connected Layer\n",
    "Implement the `fully_conn` function to apply a fully connected layer to `x_tensor` with the shape (*Batch Size*, *num_outputs*). Shortcut option: you can use classes from the [TensorFlow Layers](https://www.tensorflow.org/api_docs/python/tf/layers) or [TensorFlow Layers (contrib)](https://www.tensorflow.org/api_guides/python/contrib.layers) packages for this layer. For more of a challenge, only use other TensorFlow packages."
   ]
  },
  {
   "cell_type": "code",
   "execution_count": 160,
   "metadata": {
    "collapsed": false,
    "deletable": true,
    "editable": true
   },
   "outputs": [
    {
     "name": "stdout",
     "output_type": "stream",
     "text": [
      "Tests Passed\n"
     ]
    }
   ],
   "source": [
    "def fully_conn(x_tensor, num_outputs):\n",
    "    \"\"\"\n",
    "    Apply a fully connected layer to x_tensor using weight and bias\n",
    "    : x_tensor: A 2-D tensor where the first dimension is batch size.\n",
    "    : num_outputs: The number of output that the new tensor should be.\n",
    "    : return: A 2-D tensor where the second dimension is num_outputs.\n",
    "    \"\"\"\n",
    "    # TODO: Implement Function\n",
    "    \n",
    "    input_shape = x_tensor.get_shape().as_list()\n",
    "    num_inputs = input_shape[1]\n",
    "    deviation = num_inputs**-0.5\n",
    "    \n",
    "    weights = tf.Variable(tf.truncated_normal([num_inputs, num_outputs], stddev = 0.01), name=\"w_fc\" + str(num_outputs))\n",
    "    bias = tf.Variable(tf.zeros([num_outputs]), name=\"b_fc\" + str(num_outputs))\n",
    "    \n",
    "    linear = tf.nn.bias_add(tf.matmul(x_tensor, weights), bias)\n",
    "    \n",
    "    # Add non-linear activation\n",
    "    layer = tf.nn.relu(linear)   \n",
    "    \n",
    "    return layer\n",
    "\n",
    "\n",
    "\"\"\"\n",
    "DON'T MODIFY ANYTHING IN THIS CELL THAT IS BELOW THIS LINE\n",
    "\"\"\"\n",
    "tests.test_fully_conn(fully_conn)"
   ]
  },
  {
   "cell_type": "markdown",
   "metadata": {
    "deletable": true,
    "editable": true
   },
   "source": [
    "### Output Layer\n",
    "Implement the `output` function to apply a fully connected layer to `x_tensor` with the shape (*Batch Size*, *num_outputs*). Shortcut option: you can use classes from the [TensorFlow Layers](https://www.tensorflow.org/api_docs/python/tf/layers) or [TensorFlow Layers (contrib)](https://www.tensorflow.org/api_guides/python/contrib.layers) packages for this layer. For more of a challenge, only use other TensorFlow packages.\n",
    "\n",
    "**Note:** Activation, softmax, or cross entropy should **not** be applied to this."
   ]
  },
  {
   "cell_type": "code",
   "execution_count": 161,
   "metadata": {
    "collapsed": false,
    "deletable": true,
    "editable": true
   },
   "outputs": [
    {
     "name": "stdout",
     "output_type": "stream",
     "text": [
      "Tests Passed\n"
     ]
    }
   ],
   "source": [
    "def output(x_tensor, num_outputs):\n",
    "    \"\"\"\n",
    "    Apply a output layer to x_tensor using weight and bias\n",
    "    : x_tensor: A 2-D tensor where the first dimension is batch size.\n",
    "    : num_outputs: The number of output that the new tensor should be.\n",
    "    : return: A 2-D tensor where the second dimension is num_outputs.\n",
    "    \"\"\"\n",
    "    # TODO: Implement Function\n",
    "    input_shape = x_tensor.get_shape().as_list()\n",
    "    num_inputs = input_shape[1]\n",
    "    deviation = num_inputs**-0.5\n",
    "    \n",
    "    weights = tf.Variable(tf.truncated_normal([num_inputs, num_outputs], stddev = deviation), name=\"w_o\")\n",
    "    bias = tf.Variable(tf.zeros([num_outputs]), name=\"b_o\")\n",
    "    \n",
    "    layer = tf.nn.bias_add(tf.matmul(x_tensor, weights), bias)\n",
    "    \n",
    "    return layer\n",
    "\n",
    "\n",
    "\"\"\"\n",
    "DON'T MODIFY ANYTHING IN THIS CELL THAT IS BELOW THIS LINE\n",
    "\"\"\"\n",
    "tests.test_output(output)"
   ]
  },
  {
   "cell_type": "markdown",
   "metadata": {
    "deletable": true,
    "editable": true
   },
   "source": [
    "### Create Convolutional Model\n",
    "Implement the function `conv_net` to create a convolutional neural network model. The function takes in a batch of images, `x`, and outputs logits.  Use the layers you created above to create this model:\n",
    "\n",
    "* Apply 1, 2, or 3 Convolution and Max Pool layers\n",
    "* Apply a Flatten Layer\n",
    "* Apply 1, 2, or 3 Fully Connected Layers\n",
    "* Apply an Output Layer\n",
    "* Return the output\n",
    "* Apply [TensorFlow's Dropout](https://www.tensorflow.org/api_docs/python/tf/nn/dropout) to one or more layers in the model using `keep_prob`. "
   ]
  },
  {
   "cell_type": "code",
   "execution_count": 162,
   "metadata": {
    "collapsed": false,
    "deletable": true,
    "editable": true
   },
   "outputs": [
    {
     "name": "stdout",
     "output_type": "stream",
     "text": [
      "Neural Network Built!\n"
     ]
    }
   ],
   "source": [
    "def conv_net(x, keep_prob):\n",
    "    \"\"\"\n",
    "    Create a convolutional neural network model\n",
    "    : x: Placeholder tensor that holds image data.\n",
    "    : keep_prob: Placeholder tensor that hold dropout keep probability.\n",
    "    : return: Tensor that represents logits\n",
    "    \"\"\"\n",
    "    # TODO: Apply 1, 2, or 3 Convolution and Max Pool layers\n",
    "    #    Play around with different number of outputs, kernel size and stride\n",
    "    # Function Definition from Above:\n",
    "    \n",
    "    #    conv2d_maxpool(x_tensor, conv_num_outputs, conv_ksize, conv_strides, pool_ksize, pool_strides)\n",
    "    \n",
    "    conv_outputs = 128\n",
    "    conv_ksize = (6,6)\n",
    "    conv_strides = (2,2)\n",
    "    pool_ksize = (4,4)\n",
    "    pool_strides = (2,2)\n",
    "    \n",
    "    conv = conv2d_maxpool(x, conv_outputs, conv_ksize, conv_strides, pool_ksize, pool_strides)\n",
    "    \n",
    "    # TODO: Apply a Flatten Layer\n",
    "    # Function Definition from Above:\n",
    "    #   flatten(x_tensor)\n",
    "    flat = flatten(conv)\n",
    "    flat = tf.nn.dropout(flat,  keep_prob)\n",
    "    \n",
    "    # TODO: Apply 1, 2, or 3 Fully Connected Layers\n",
    "    #    Play around with different number of outputs\n",
    "    # Function Definition from Above:\n",
    "    #   fully_conn(x_tensor, num_outputs)\n",
    "\n",
    "    conn = fully_conn(flat, 256)\n",
    "    # Apply dropout\n",
    "    conn = tf.nn.dropout(conn,  keep_prob)\n",
    "    \n",
    "    # Second hidden layer\n",
    "    conn2 = fully_conn(conn, 128)\n",
    "    \n",
    "    \n",
    "    # TODO: Apply an Output Layer\n",
    "    #    Set this to the number of classes\n",
    "    # Function Definition from Above:\n",
    "    out = output(conn2, 10)\n",
    "    \n",
    "    # TODO: return output\n",
    "    return out\n",
    "\n",
    "\n",
    "\"\"\"\n",
    "DON'T MODIFY ANYTHING IN THIS CELL THAT IS BELOW THIS LINE\n",
    "\"\"\"\n",
    "\n",
    "##############################\n",
    "## Build the Neural Network ##\n",
    "##############################\n",
    "\n",
    "# Remove previous weights, bias, inputs, etc..\n",
    "tf.reset_default_graph()\n",
    "\n",
    "# Inputs\n",
    "x = neural_net_image_input((32, 32, 3))\n",
    "y = neural_net_label_input(10)\n",
    "keep_prob = neural_net_keep_prob_input()\n",
    "\n",
    "# Model\n",
    "logits = conv_net(x, keep_prob)\n",
    "\n",
    "# Name logits Tensor, so that is can be loaded from disk after training\n",
    "logits = tf.identity(logits, name='logits')\n",
    "\n",
    "# Loss and Optimizer\n",
    "cost = tf.reduce_mean(tf.nn.softmax_cross_entropy_with_logits(logits=logits, labels=y))\n",
    "optimizer = tf.train.AdamOptimizer().minimize(cost)\n",
    "\n",
    "# Accuracy\n",
    "correct_pred = tf.equal(tf.argmax(logits, 1), tf.argmax(y, 1))\n",
    "accuracy = tf.reduce_mean(tf.cast(correct_pred, tf.float32), name='accuracy')\n",
    "\n",
    "tests.test_conv_net(conv_net)"
   ]
  },
  {
   "cell_type": "markdown",
   "metadata": {
    "deletable": true,
    "editable": true
   },
   "source": [
    "## Train the Neural Network\n",
    "### Single Optimization\n",
    "Implement the function `train_neural_network` to do a single optimization.  The optimization should use `optimizer` to optimize in `session` with a `feed_dict` of the following:\n",
    "* `x` for image input\n",
    "* `y` for labels\n",
    "* `keep_prob` for keep probability for dropout\n",
    "\n",
    "This function will be called for each batch, so `tf.global_variables_initializer()` has already been called.\n",
    "\n",
    "Note: Nothing needs to be returned. This function is only optimizing the neural network."
   ]
  },
  {
   "cell_type": "code",
   "execution_count": 163,
   "metadata": {
    "collapsed": false,
    "deletable": true,
    "editable": true
   },
   "outputs": [
    {
     "name": "stdout",
     "output_type": "stream",
     "text": [
      "Tests Passed\n"
     ]
    }
   ],
   "source": [
    "def train_neural_network(session, optimizer, keep_probability, feature_batch, label_batch):\n",
    "    \"\"\"\n",
    "    Optimize the session on a batch of images and labels\n",
    "    : session: Current TensorFlow session\n",
    "    : optimizer: TensorFlow optimizer function\n",
    "    : keep_probability: keep probability\n",
    "    : feature_batch: Batch of Numpy image data\n",
    "    : label_batch: Batch of Numpy label data\n",
    "    \"\"\"\n",
    "    session.run(optimizer, feed_dict = {\n",
    "        x: feature_batch,\n",
    "        y: label_batch,\n",
    "        keep_prob: keep_probability\n",
    "    })\n",
    "\n",
    "\n",
    "\"\"\"\n",
    "DON'T MODIFY ANYTHING IN THIS CELL THAT IS BELOW THIS LINE\n",
    "\"\"\"\n",
    "tests.test_train_nn(train_neural_network)"
   ]
  },
  {
   "cell_type": "markdown",
   "metadata": {
    "deletable": true,
    "editable": true
   },
   "source": [
    "### Show Stats\n",
    "Implement the function `print_stats` to print loss and validation accuracy.  Use the global variables `valid_features` and `valid_labels` to calculate validation accuracy.  Use a keep probability of `1.0` to calculate the loss and validation accuracy."
   ]
  },
  {
   "cell_type": "code",
   "execution_count": 164,
   "metadata": {
    "collapsed": false,
    "deletable": true,
    "editable": true
   },
   "outputs": [],
   "source": [
    "def print_stats(session, feature_batch, label_batch, cost, accuracy):\n",
    "    \"\"\"\n",
    "    Print information about loss and validation accuracy\n",
    "    : session: Current TensorFlow session\n",
    "    : feature_batch: Batch of Numpy image data\n",
    "    : label_batch: Batch of Numpy label data\n",
    "    : cost: TensorFlow cost function\n",
    "    : accuracy: TensorFlow accuracy function\n",
    "    \"\"\"\n",
    "    # TODO: Implement Function\n",
    "    \n",
    "    loss = session.run(cost, feed_dict={\n",
    "        x: feature_batch,\n",
    "        y: label_batch,\n",
    "        keep_prob: 1})\n",
    "    \n",
    "    validation_accuracy = session.run(accuracy, feed_dict={\n",
    "        x: valid_features,\n",
    "        y: valid_labels,\n",
    "        keep_prob: 1})\n",
    "    \n",
    "    print(\"Loss:\", loss, \"   Accuracy: \", validation_accuracy)\n",
    "    "
   ]
  },
  {
   "cell_type": "markdown",
   "metadata": {
    "deletable": true,
    "editable": true
   },
   "source": [
    "### Hyperparameters\n",
    "Tune the following parameters:\n",
    "* Set `epochs` to the number of iterations until the network stops learning or start overfitting\n",
    "* Set `batch_size` to the highest number that your machine has memory for.  Most people set them to common sizes of memory:\n",
    " * 64\n",
    " * 128\n",
    " * 256\n",
    " * ...\n",
    "* Set `keep_probability` to the probability of keeping a node using dropout"
   ]
  },
  {
   "cell_type": "code",
   "execution_count": 169,
   "metadata": {
    "collapsed": true,
    "deletable": true,
    "editable": true
   },
   "outputs": [],
   "source": [
    "# TODO: Tune Parameters\n",
    "epochs = 50\n",
    "batch_size = 128\n",
    "keep_probability = 0.5"
   ]
  },
  {
   "cell_type": "markdown",
   "metadata": {
    "deletable": true,
    "editable": true
   },
   "source": [
    "### Train on a Single CIFAR-10 Batch\n",
    "Instead of training the neural network on all the CIFAR-10 batches of data, let's use a single batch. This should save time while you iterate on the model to get a better accuracy.  Once the final validation accuracy is 50% or greater, run the model on all the data in the next section."
   ]
  },
  {
   "cell_type": "code",
   "execution_count": 170,
   "metadata": {
    "collapsed": false,
    "deletable": true,
    "editable": true
   },
   "outputs": [
    {
     "name": "stdout",
     "output_type": "stream",
     "text": [
      "Checking the Training on a Single Batch...\n",
      "Epoch  1, CIFAR-10 Batch 1:  Loss: 2.11209    Accuracy:  0.291\n",
      "Epoch  2, CIFAR-10 Batch 1:  Loss: 2.00907    Accuracy:  0.3126\n",
      "Epoch  3, CIFAR-10 Batch 1:  Loss: 1.95488    Accuracy:  0.3048\n",
      "Epoch  4, CIFAR-10 Batch 1:  Loss: 1.89536    Accuracy:  0.3804\n",
      "Epoch  5, CIFAR-10 Batch 1:  Loss: 1.82775    Accuracy:  0.396\n",
      "Epoch  6, CIFAR-10 Batch 1:  Loss: 1.69916    Accuracy:  0.4064\n",
      "Epoch  7, CIFAR-10 Batch 1:  Loss: 1.69616    Accuracy:  0.4394\n",
      "Epoch  8, CIFAR-10 Batch 1:  Loss: 1.63841    Accuracy:  0.4544\n",
      "Epoch  9, CIFAR-10 Batch 1:  Loss: 1.51501    Accuracy:  0.4624\n",
      "Epoch 10, CIFAR-10 Batch 1:  Loss: 1.50838    Accuracy:  0.4732\n",
      "Epoch 11, CIFAR-10 Batch 1:  Loss: 1.47753    Accuracy:  0.481\n",
      "Epoch 12, CIFAR-10 Batch 1:  Loss: 1.39834    Accuracy:  0.496\n",
      "Epoch 13, CIFAR-10 Batch 1:  Loss: 1.37001    Accuracy:  0.4998\n",
      "Epoch 14, CIFAR-10 Batch 1:  Loss: 1.30435    Accuracy:  0.503\n",
      "Epoch 15, CIFAR-10 Batch 1:  Loss: 1.29622    Accuracy:  0.5042\n",
      "Epoch 16, CIFAR-10 Batch 1:  Loss: 1.24735    Accuracy:  0.4956\n",
      "Epoch 17, CIFAR-10 Batch 1:  Loss: 1.19812    Accuracy:  0.517\n",
      "Epoch 18, CIFAR-10 Batch 1:  Loss: 1.22641    Accuracy:  0.5224\n",
      "Epoch 19, CIFAR-10 Batch 1:  Loss: 1.18565    Accuracy:  0.5128\n",
      "Epoch 20, CIFAR-10 Batch 1:  Loss: 1.15162    Accuracy:  0.5268\n",
      "Epoch 21, CIFAR-10 Batch 1:  Loss: 1.09405    Accuracy:  0.5158\n",
      "Epoch 22, CIFAR-10 Batch 1:  Loss: 1.05641    Accuracy:  0.5336\n",
      "Epoch 23, CIFAR-10 Batch 1:  Loss: 1.08275    Accuracy:  0.5328\n",
      "Epoch 24, CIFAR-10 Batch 1:  Loss: 0.998968    Accuracy:  0.5218\n",
      "Epoch 25, CIFAR-10 Batch 1:  Loss: 1.04068    Accuracy:  0.5302\n",
      "Epoch 26, CIFAR-10 Batch 1:  Loss: 1.01083    Accuracy:  0.5492\n",
      "Epoch 27, CIFAR-10 Batch 1:  Loss: 0.961882    Accuracy:  0.5336\n",
      "Epoch 28, CIFAR-10 Batch 1:  Loss: 0.956218    Accuracy:  0.5206\n",
      "Epoch 29, CIFAR-10 Batch 1:  Loss: 0.949858    Accuracy:  0.5346\n",
      "Epoch 30, CIFAR-10 Batch 1:  Loss: 0.964394    Accuracy:  0.5336\n",
      "Epoch 31, CIFAR-10 Batch 1:  Loss: 0.908254    Accuracy:  0.5462\n",
      "Epoch 32, CIFAR-10 Batch 1:  Loss: 0.87161    Accuracy:  0.5314\n",
      "Epoch 33, CIFAR-10 Batch 1:  Loss: 0.863284    Accuracy:  0.5328\n",
      "Epoch 34, CIFAR-10 Batch 1:  Loss: 0.828404    Accuracy:  0.5486\n",
      "Epoch 35, CIFAR-10 Batch 1:  Loss: 0.888669    Accuracy:  0.5516\n",
      "Epoch 36, CIFAR-10 Batch 1:  Loss: 0.862524    Accuracy:  0.5444\n",
      "Epoch 37, CIFAR-10 Batch 1:  Loss: 0.819644    Accuracy:  0.555\n",
      "Epoch 38, CIFAR-10 Batch 1:  Loss: 0.812459    Accuracy:  0.5438\n",
      "Epoch 39, CIFAR-10 Batch 1:  Loss: 0.801918    Accuracy:  0.5482\n",
      "Epoch 40, CIFAR-10 Batch 1:  Loss: 0.816803    Accuracy:  0.5274\n",
      "Epoch 41, CIFAR-10 Batch 1:  Loss: 0.77634    Accuracy:  0.541\n",
      "Epoch 42, CIFAR-10 Batch 1:  Loss: 0.788338    Accuracy:  0.5502\n",
      "Epoch 43, CIFAR-10 Batch 1:  Loss: 0.771855    Accuracy:  0.5474\n",
      "Epoch 44, CIFAR-10 Batch 1:  Loss: 0.808831    Accuracy:  0.5404\n",
      "Epoch 45, CIFAR-10 Batch 1:  Loss: 0.762568    Accuracy:  0.546\n",
      "Epoch 46, CIFAR-10 Batch 1:  Loss: 0.791773    Accuracy:  0.5468\n",
      "Epoch 47, CIFAR-10 Batch 1:  Loss: 0.797429    Accuracy:  0.557\n",
      "Epoch 48, CIFAR-10 Batch 1:  Loss: 0.768614    Accuracy:  0.5656\n",
      "Epoch 49, CIFAR-10 Batch 1:  Loss: 0.755179    Accuracy:  0.5374\n",
      "Epoch 50, CIFAR-10 Batch 1:  Loss: 0.767756    Accuracy:  0.5396\n"
     ]
    }
   ],
   "source": [
    "\"\"\"\n",
    "DON'T MODIFY ANYTHING IN THIS CELL\n",
    "\"\"\"\n",
    "print('Checking the Training on a Single Batch...')\n",
    "with tf.Session() as sess:\n",
    "    # Initializing the variables\n",
    "    sess.run(tf.global_variables_initializer())\n",
    "    \n",
    "    # Training cycle\n",
    "    for epoch in range(epochs):\n",
    "        batch_i = 1\n",
    "        for batch_features, batch_labels in helper.load_preprocess_training_batch(batch_i, batch_size):\n",
    "            train_neural_network(sess, optimizer, keep_probability, batch_features, batch_labels)\n",
    "        print('Epoch {:>2}, CIFAR-10 Batch {}:  '.format(epoch + 1, batch_i), end='')\n",
    "        print_stats(sess, batch_features, batch_labels, cost, accuracy)"
   ]
  },
  {
   "cell_type": "markdown",
   "metadata": {
    "deletable": true,
    "editable": true
   },
   "source": [
    "### Fully Train the Model\n",
    "Now that you got a good accuracy with a single CIFAR-10 batch, try it with all five batches."
   ]
  },
  {
   "cell_type": "code",
   "execution_count": 171,
   "metadata": {
    "collapsed": false,
    "deletable": true,
    "editable": true
   },
   "outputs": [
    {
     "name": "stdout",
     "output_type": "stream",
     "text": [
      "Training...\n",
      "Epoch  1, CIFAR-10 Batch 1:  Loss: 2.08023    Accuracy:  0.3032\n",
      "Epoch  1, CIFAR-10 Batch 2:  Loss: 1.78181    Accuracy:  0.3504\n",
      "Epoch  1, CIFAR-10 Batch 3:  Loss: 1.61674    Accuracy:  0.3726\n",
      "Epoch  1, CIFAR-10 Batch 4:  Loss: 1.61774    Accuracy:  0.4264\n",
      "Epoch  1, CIFAR-10 Batch 5:  Loss: 1.56815    Accuracy:  0.4188\n",
      "Epoch  2, CIFAR-10 Batch 1:  Loss: 1.74852    Accuracy:  0.4618\n",
      "Epoch  2, CIFAR-10 Batch 2:  Loss: 1.63348    Accuracy:  0.4116\n",
      "Epoch  2, CIFAR-10 Batch 3:  Loss: 1.47051    Accuracy:  0.443\n",
      "Epoch  2, CIFAR-10 Batch 4:  Loss: 1.51699    Accuracy:  0.4708\n",
      "Epoch  2, CIFAR-10 Batch 5:  Loss: 1.50452    Accuracy:  0.4564\n",
      "Epoch  3, CIFAR-10 Batch 1:  Loss: 1.58806    Accuracy:  0.4938\n",
      "Epoch  3, CIFAR-10 Batch 2:  Loss: 1.51893    Accuracy:  0.4954\n",
      "Epoch  3, CIFAR-10 Batch 3:  Loss: 1.38704    Accuracy:  0.4902\n",
      "Epoch  3, CIFAR-10 Batch 4:  Loss: 1.45314    Accuracy:  0.5116\n",
      "Epoch  3, CIFAR-10 Batch 5:  Loss: 1.41891    Accuracy:  0.4966\n",
      "Epoch  4, CIFAR-10 Batch 1:  Loss: 1.54692    Accuracy:  0.5074\n",
      "Epoch  4, CIFAR-10 Batch 2:  Loss: 1.40391    Accuracy:  0.5128\n",
      "Epoch  4, CIFAR-10 Batch 3:  Loss: 1.31456    Accuracy:  0.5236\n",
      "Epoch  4, CIFAR-10 Batch 4:  Loss: 1.42844    Accuracy:  0.54\n",
      "Epoch  4, CIFAR-10 Batch 5:  Loss: 1.37178    Accuracy:  0.5196\n",
      "Epoch  5, CIFAR-10 Batch 1:  Loss: 1.4919    Accuracy:  0.5236\n",
      "Epoch  5, CIFAR-10 Batch 2:  Loss: 1.32818    Accuracy:  0.5314\n",
      "Epoch  5, CIFAR-10 Batch 3:  Loss: 1.2899    Accuracy:  0.5388\n",
      "Epoch  5, CIFAR-10 Batch 4:  Loss: 1.39658    Accuracy:  0.5392\n",
      "Epoch  5, CIFAR-10 Batch 5:  Loss: 1.36342    Accuracy:  0.5386\n",
      "Epoch  6, CIFAR-10 Batch 1:  Loss: 1.43102    Accuracy:  0.5284\n",
      "Epoch  6, CIFAR-10 Batch 2:  Loss: 1.29503    Accuracy:  0.5356\n",
      "Epoch  6, CIFAR-10 Batch 3:  Loss: 1.23888    Accuracy:  0.5426\n",
      "Epoch  6, CIFAR-10 Batch 4:  Loss: 1.36244    Accuracy:  0.5572\n",
      "Epoch  6, CIFAR-10 Batch 5:  Loss: 1.2688    Accuracy:  0.5538\n",
      "Epoch  7, CIFAR-10 Batch 1:  Loss: 1.41206    Accuracy:  0.5556\n",
      "Epoch  7, CIFAR-10 Batch 2:  Loss: 1.31666    Accuracy:  0.5408\n",
      "Epoch  7, CIFAR-10 Batch 3:  Loss: 1.17441    Accuracy:  0.5618\n",
      "Epoch  7, CIFAR-10 Batch 4:  Loss: 1.30455    Accuracy:  0.5624\n",
      "Epoch  7, CIFAR-10 Batch 5:  Loss: 1.24371    Accuracy:  0.552\n",
      "Epoch  8, CIFAR-10 Batch 1:  Loss: 1.37094    Accuracy:  0.5338\n",
      "Epoch  8, CIFAR-10 Batch 2:  Loss: 1.26408    Accuracy:  0.5472\n",
      "Epoch  8, CIFAR-10 Batch 3:  Loss: 1.16325    Accuracy:  0.5704\n",
      "Epoch  8, CIFAR-10 Batch 4:  Loss: 1.30695    Accuracy:  0.5752\n",
      "Epoch  8, CIFAR-10 Batch 5:  Loss: 1.36516    Accuracy:  0.5478\n",
      "Epoch  9, CIFAR-10 Batch 1:  Loss: 1.33772    Accuracy:  0.5452\n",
      "Epoch  9, CIFAR-10 Batch 2:  Loss: 1.23666    Accuracy:  0.5638\n",
      "Epoch  9, CIFAR-10 Batch 3:  Loss: 1.18226    Accuracy:  0.563\n",
      "Epoch  9, CIFAR-10 Batch 4:  Loss: 1.27382    Accuracy:  0.5598\n",
      "Epoch  9, CIFAR-10 Batch 5:  Loss: 1.21748    Accuracy:  0.5748\n",
      "Epoch 10, CIFAR-10 Batch 1:  Loss: 1.32572    Accuracy:  0.5502\n",
      "Epoch 10, CIFAR-10 Batch 2:  Loss: 1.21482    Accuracy:  0.5664\n",
      "Epoch 10, CIFAR-10 Batch 3:  Loss: 1.19806    Accuracy:  0.5608\n",
      "Epoch 10, CIFAR-10 Batch 4:  Loss: 1.2734    Accuracy:  0.557\n",
      "Epoch 10, CIFAR-10 Batch 5:  Loss: 1.2908    Accuracy:  0.5552\n",
      "Epoch 11, CIFAR-10 Batch 1:  Loss: 1.28404    Accuracy:  0.5758\n",
      "Epoch 11, CIFAR-10 Batch 2:  Loss: 1.20182    Accuracy:  0.5782\n",
      "Epoch 11, CIFAR-10 Batch 3:  Loss: 1.15833    Accuracy:  0.5786\n",
      "Epoch 11, CIFAR-10 Batch 4:  Loss: 1.22163    Accuracy:  0.5862\n",
      "Epoch 11, CIFAR-10 Batch 5:  Loss: 1.2141    Accuracy:  0.5456\n",
      "Epoch 12, CIFAR-10 Batch 1:  Loss: 1.27174    Accuracy:  0.5862\n",
      "Epoch 12, CIFAR-10 Batch 2:  Loss: 1.19005    Accuracy:  0.5862\n",
      "Epoch 12, CIFAR-10 Batch 3:  Loss: 1.15451    Accuracy:  0.5676\n",
      "Epoch 12, CIFAR-10 Batch 4:  Loss: 1.2367    Accuracy:  0.5896\n",
      "Epoch 12, CIFAR-10 Batch 5:  Loss: 1.1983    Accuracy:  0.5926\n",
      "Epoch 13, CIFAR-10 Batch 1:  Loss: 1.25438    Accuracy:  0.5752\n",
      "Epoch 13, CIFAR-10 Batch 2:  Loss: 1.15776    Accuracy:  0.5908\n",
      "Epoch 13, CIFAR-10 Batch 3:  Loss: 1.19601    Accuracy:  0.5596\n",
      "Epoch 13, CIFAR-10 Batch 4:  Loss: 1.1937    Accuracy:  0.5792\n",
      "Epoch 13, CIFAR-10 Batch 5:  Loss: 1.20031    Accuracy:  0.5786\n",
      "Epoch 14, CIFAR-10 Batch 1:  Loss: 1.22796    Accuracy:  0.5796\n",
      "Epoch 14, CIFAR-10 Batch 2:  Loss: 1.16572    Accuracy:  0.575\n",
      "Epoch 14, CIFAR-10 Batch 3:  Loss: 1.13392    Accuracy:  0.5854\n",
      "Epoch 14, CIFAR-10 Batch 4:  Loss: 1.16526    Accuracy:  0.601\n",
      "Epoch 14, CIFAR-10 Batch 5:  Loss: 1.15752    Accuracy:  0.5816\n",
      "Epoch 15, CIFAR-10 Batch 1:  Loss: 1.2742    Accuracy:  0.5772\n",
      "Epoch 15, CIFAR-10 Batch 2:  Loss: 1.10825    Accuracy:  0.593\n",
      "Epoch 15, CIFAR-10 Batch 3:  Loss: 1.09241    Accuracy:  0.5902\n",
      "Epoch 15, CIFAR-10 Batch 4:  Loss: 1.14305    Accuracy:  0.587\n",
      "Epoch 15, CIFAR-10 Batch 5:  Loss: 1.11183    Accuracy:  0.5926\n",
      "Epoch 16, CIFAR-10 Batch 1:  Loss: 1.18213    Accuracy:  0.5936\n",
      "Epoch 16, CIFAR-10 Batch 2:  Loss: 1.10257    Accuracy:  0.5962\n",
      "Epoch 16, CIFAR-10 Batch 3:  Loss: 1.12304    Accuracy:  0.5862\n",
      "Epoch 16, CIFAR-10 Batch 4:  Loss: 1.18673    Accuracy:  0.6022\n",
      "Epoch 16, CIFAR-10 Batch 5:  Loss: 1.13355    Accuracy:  0.6054\n",
      "Epoch 17, CIFAR-10 Batch 1:  Loss: 1.22529    Accuracy:  0.5726\n",
      "Epoch 17, CIFAR-10 Batch 2:  Loss: 1.11793    Accuracy:  0.5784\n",
      "Epoch 17, CIFAR-10 Batch 3:  Loss: 1.15827    Accuracy:  0.5884\n",
      "Epoch 17, CIFAR-10 Batch 4:  Loss: 1.21245    Accuracy:  0.5904\n",
      "Epoch 17, CIFAR-10 Batch 5:  Loss: 1.12963    Accuracy:  0.6052\n",
      "Epoch 18, CIFAR-10 Batch 1:  Loss: 1.18091    Accuracy:  0.5896\n",
      "Epoch 18, CIFAR-10 Batch 2:  Loss: 1.06423    Accuracy:  0.5874\n",
      "Epoch 18, CIFAR-10 Batch 3:  Loss: 1.00177    Accuracy:  0.6076\n",
      "Epoch 18, CIFAR-10 Batch 4:  Loss: 1.16755    Accuracy:  0.5816\n",
      "Epoch 18, CIFAR-10 Batch 5:  Loss: 1.10535    Accuracy:  0.6006\n",
      "Epoch 19, CIFAR-10 Batch 1:  Loss: 1.18083    Accuracy:  0.6038\n",
      "Epoch 19, CIFAR-10 Batch 2:  Loss: 1.08123    Accuracy:  0.5886\n",
      "Epoch 19, CIFAR-10 Batch 3:  Loss: 1.05018    Accuracy:  0.6026\n",
      "Epoch 19, CIFAR-10 Batch 4:  Loss: 1.12138    Accuracy:  0.6082\n",
      "Epoch 19, CIFAR-10 Batch 5:  Loss: 1.09026    Accuracy:  0.6134\n",
      "Epoch 20, CIFAR-10 Batch 1:  Loss: 1.16249    Accuracy:  0.5918\n",
      "Epoch 20, CIFAR-10 Batch 2:  Loss: 1.08934    Accuracy:  0.591\n",
      "Epoch 20, CIFAR-10 Batch 3:  Loss: 1.00439    Accuracy:  0.6112\n",
      "Epoch 20, CIFAR-10 Batch 4:  Loss: 1.08211    Accuracy:  0.6106\n",
      "Epoch 20, CIFAR-10 Batch 5:  Loss: 1.08919    Accuracy:  0.5918\n",
      "Epoch 21, CIFAR-10 Batch 1:  Loss: 1.18619    Accuracy:  0.5944\n",
      "Epoch 21, CIFAR-10 Batch 2:  Loss: 1.03868    Accuracy:  0.5886\n",
      "Epoch 21, CIFAR-10 Batch 3:  Loss: 1.04753    Accuracy:  0.6034\n",
      "Epoch 21, CIFAR-10 Batch 4:  Loss: 1.05342    Accuracy:  0.6026\n",
      "Epoch 21, CIFAR-10 Batch 5:  Loss: 1.06611    Accuracy:  0.598\n",
      "Epoch 22, CIFAR-10 Batch 1:  Loss: 1.11293    Accuracy:  0.6074\n",
      "Epoch 22, CIFAR-10 Batch 2:  Loss: 1.00517    Accuracy:  0.6098\n",
      "Epoch 22, CIFAR-10 Batch 3:  Loss: 1.01844    Accuracy:  0.597\n",
      "Epoch 22, CIFAR-10 Batch 4:  Loss: 1.084    Accuracy:  0.6092\n",
      "Epoch 22, CIFAR-10 Batch 5:  Loss: 1.04106    Accuracy:  0.6044\n",
      "Epoch 23, CIFAR-10 Batch 1:  Loss: 1.14412    Accuracy:  0.6082\n",
      "Epoch 23, CIFAR-10 Batch 2:  Loss: 1.03678    Accuracy:  0.6004\n",
      "Epoch 23, CIFAR-10 Batch 3:  Loss: 0.965233    Accuracy:  0.6212\n",
      "Epoch 23, CIFAR-10 Batch 4:  Loss: 1.10835    Accuracy:  0.6036\n",
      "Epoch 23, CIFAR-10 Batch 5:  Loss: 1.05527    Accuracy:  0.6012\n",
      "Epoch 24, CIFAR-10 Batch 1:  Loss: 1.16279    Accuracy:  0.6094\n",
      "Epoch 24, CIFAR-10 Batch 2:  Loss: 1.04284    Accuracy:  0.6064\n",
      "Epoch 24, CIFAR-10 Batch 3:  Loss: 1.05706    Accuracy:  0.5976\n",
      "Epoch 24, CIFAR-10 Batch 4:  Loss: 1.09849    Accuracy:  0.603\n",
      "Epoch 24, CIFAR-10 Batch 5:  Loss: 1.07093    Accuracy:  0.615\n",
      "Epoch 25, CIFAR-10 Batch 1:  Loss: 1.12393    Accuracy:  0.599\n",
      "Epoch 25, CIFAR-10 Batch 2:  Loss: 0.985329    Accuracy:  0.598\n",
      "Epoch 25, CIFAR-10 Batch 3:  Loss: 1.03088    Accuracy:  0.6106\n",
      "Epoch 25, CIFAR-10 Batch 4:  Loss: 1.09112    Accuracy:  0.6132\n",
      "Epoch 25, CIFAR-10 Batch 5:  Loss: 1.01454    Accuracy:  0.617\n",
      "Epoch 26, CIFAR-10 Batch 1:  Loss: 1.07761    Accuracy:  0.6134\n",
      "Epoch 26, CIFAR-10 Batch 2:  Loss: 0.996958    Accuracy:  0.6118\n",
      "Epoch 26, CIFAR-10 Batch 3:  Loss: 1.04289    Accuracy:  0.6144\n",
      "Epoch 26, CIFAR-10 Batch 4:  Loss: 1.05082    Accuracy:  0.604\n",
      "Epoch 26, CIFAR-10 Batch 5:  Loss: 1.01251    Accuracy:  0.6146\n",
      "Epoch 27, CIFAR-10 Batch 1:  Loss: 1.12594    Accuracy:  0.5968\n",
      "Epoch 27, CIFAR-10 Batch 2:  Loss: 0.994927    Accuracy:  0.6098\n",
      "Epoch 27, CIFAR-10 Batch 3:  Loss: 1.03182    Accuracy:  0.5978\n",
      "Epoch 27, CIFAR-10 Batch 4:  Loss: 1.03519    Accuracy:  0.6136\n",
      "Epoch 27, CIFAR-10 Batch 5:  Loss: 0.985964    Accuracy:  0.6004\n",
      "Epoch 28, CIFAR-10 Batch 1:  Loss: 1.08663    Accuracy:  0.601\n",
      "Epoch 28, CIFAR-10 Batch 2:  Loss: 0.983503    Accuracy:  0.5988\n",
      "Epoch 28, CIFAR-10 Batch 3:  Loss: 1.00951    Accuracy:  0.6016\n",
      "Epoch 28, CIFAR-10 Batch 4:  Loss: 1.02231    Accuracy:  0.6184\n",
      "Epoch 28, CIFAR-10 Batch 5:  Loss: 1.00582    Accuracy:  0.6236\n",
      "Epoch 29, CIFAR-10 Batch 1:  Loss: 1.10326    Accuracy:  0.6102\n",
      "Epoch 29, CIFAR-10 Batch 2:  Loss: 0.9612    Accuracy:  0.6148\n",
      "Epoch 29, CIFAR-10 Batch 3:  Loss: 0.95191    Accuracy:  0.6062\n",
      "Epoch 29, CIFAR-10 Batch 4:  Loss: 1.00449    Accuracy:  0.6098\n",
      "Epoch 29, CIFAR-10 Batch 5:  Loss: 1.03065    Accuracy:  0.6124\n",
      "Epoch 30, CIFAR-10 Batch 1:  Loss: 1.14666    Accuracy:  0.6106\n",
      "Epoch 30, CIFAR-10 Batch 2:  Loss: 1.00551    Accuracy:  0.6016\n",
      "Epoch 30, CIFAR-10 Batch 3:  Loss: 0.934739    Accuracy:  0.6094\n",
      "Epoch 30, CIFAR-10 Batch 4:  Loss: 0.997164    Accuracy:  0.6242\n",
      "Epoch 30, CIFAR-10 Batch 5:  Loss: 0.988737    Accuracy:  0.6138\n",
      "Epoch 31, CIFAR-10 Batch 1:  Loss: 1.11454    Accuracy:  0.608\n",
      "Epoch 31, CIFAR-10 Batch 2:  Loss: 1.05947    Accuracy:  0.5954\n",
      "Epoch 31, CIFAR-10 Batch 3:  Loss: 0.896331    Accuracy:  0.6148\n",
      "Epoch 31, CIFAR-10 Batch 4:  Loss: 1.01372    Accuracy:  0.6272\n",
      "Epoch 31, CIFAR-10 Batch 5:  Loss: 1.01526    Accuracy:  0.6222\n",
      "Epoch 32, CIFAR-10 Batch 1:  Loss: 1.11757    Accuracy:  0.6132\n",
      "Epoch 32, CIFAR-10 Batch 2:  Loss: 0.957471    Accuracy:  0.6136\n",
      "Epoch 32, CIFAR-10 Batch 3:  Loss: 0.945699    Accuracy:  0.6178\n",
      "Epoch 32, CIFAR-10 Batch 4:  Loss: 0.98954    Accuracy:  0.6246\n",
      "Epoch 32, CIFAR-10 Batch 5:  Loss: 0.979053    Accuracy:  0.6196\n",
      "Epoch 33, CIFAR-10 Batch 1:  Loss: 1.0833    Accuracy:  0.6176\n",
      "Epoch 33, CIFAR-10 Batch 2:  Loss: 0.973555    Accuracy:  0.6028\n",
      "Epoch 33, CIFAR-10 Batch 3:  Loss: 0.952007    Accuracy:  0.6232\n",
      "Epoch 33, CIFAR-10 Batch 4:  Loss: 0.977981    Accuracy:  0.6254\n",
      "Epoch 33, CIFAR-10 Batch 5:  Loss: 0.971943    Accuracy:  0.6104\n",
      "Epoch 34, CIFAR-10 Batch 1:  Loss: 1.06461    Accuracy:  0.631\n",
      "Epoch 34, CIFAR-10 Batch 2:  Loss: 0.946275    Accuracy:  0.6196\n",
      "Epoch 34, CIFAR-10 Batch 3:  Loss: 0.947859    Accuracy:  0.6174\n",
      "Epoch 34, CIFAR-10 Batch 4:  Loss: 0.970757    Accuracy:  0.6272\n",
      "Epoch 34, CIFAR-10 Batch 5:  Loss: 0.962421    Accuracy:  0.6186\n",
      "Epoch 35, CIFAR-10 Batch 1:  Loss: 1.09981    Accuracy:  0.6118\n",
      "Epoch 35, CIFAR-10 Batch 2:  Loss: 0.944792    Accuracy:  0.6124\n",
      "Epoch 35, CIFAR-10 Batch 3:  Loss: 0.888884    Accuracy:  0.6166\n",
      "Epoch 35, CIFAR-10 Batch 4:  Loss: 0.87342    Accuracy:  0.6286\n",
      "Epoch 35, CIFAR-10 Batch 5:  Loss: 0.991569    Accuracy:  0.6108\n",
      "Epoch 36, CIFAR-10 Batch 1:  Loss: 1.0336    Accuracy:  0.6226\n",
      "Epoch 36, CIFAR-10 Batch 2:  Loss: 0.919451    Accuracy:  0.6084\n",
      "Epoch 36, CIFAR-10 Batch 3:  Loss: 0.906129    Accuracy:  0.618\n",
      "Epoch 36, CIFAR-10 Batch 4:  Loss: 0.942777    Accuracy:  0.6238\n",
      "Epoch 36, CIFAR-10 Batch 5:  Loss: 0.970718    Accuracy:  0.6316\n",
      "Epoch 37, CIFAR-10 Batch 1:  Loss: 1.07214    Accuracy:  0.6048\n",
      "Epoch 37, CIFAR-10 Batch 2:  Loss: 0.951879    Accuracy:  0.604\n",
      "Epoch 37, CIFAR-10 Batch 3:  Loss: 0.877176    Accuracy:  0.6312\n",
      "Epoch 37, CIFAR-10 Batch 4:  Loss: 0.966992    Accuracy:  0.6192\n",
      "Epoch 37, CIFAR-10 Batch 5:  Loss: 0.990845    Accuracy:  0.6246\n",
      "Epoch 38, CIFAR-10 Batch 1:  Loss: 1.05741    Accuracy:  0.6312\n",
      "Epoch 38, CIFAR-10 Batch 2:  Loss: 0.919581    Accuracy:  0.6208\n",
      "Epoch 38, CIFAR-10 Batch 3:  Loss: 0.880913    Accuracy:  0.6298\n",
      "Epoch 38, CIFAR-10 Batch 4:  Loss: 0.946684    Accuracy:  0.6086\n",
      "Epoch 38, CIFAR-10 Batch 5:  Loss: 0.978908    Accuracy:  0.6284\n",
      "Epoch 39, CIFAR-10 Batch 1:  Loss: 1.00405    Accuracy:  0.6256\n",
      "Epoch 39, CIFAR-10 Batch 2:  Loss: 0.872067    Accuracy:  0.609\n",
      "Epoch 39, CIFAR-10 Batch 3:  Loss: 0.884099    Accuracy:  0.6286\n",
      "Epoch 39, CIFAR-10 Batch 4:  Loss: 0.917639    Accuracy:  0.6268\n",
      "Epoch 39, CIFAR-10 Batch 5:  Loss: 0.953957    Accuracy:  0.6236\n",
      "Epoch 40, CIFAR-10 Batch 1:  Loss: 1.02277    Accuracy:  0.6296\n",
      "Epoch 40, CIFAR-10 Batch 2:  Loss: 0.922598    Accuracy:  0.6176\n",
      "Epoch 40, CIFAR-10 Batch 3:  Loss: 0.871408    Accuracy:  0.6164\n",
      "Epoch 40, CIFAR-10 Batch 4:  Loss: 0.957212    Accuracy:  0.631\n",
      "Epoch 40, CIFAR-10 Batch 5:  Loss: 0.998143    Accuracy:  0.6282\n",
      "Epoch 41, CIFAR-10 Batch 1:  Loss: 1.05347    Accuracy:  0.6152\n",
      "Epoch 41, CIFAR-10 Batch 2:  Loss: 0.8783    Accuracy:  0.6248\n",
      "Epoch 41, CIFAR-10 Batch 3:  Loss: 0.871798    Accuracy:  0.6178\n",
      "Epoch 41, CIFAR-10 Batch 4:  Loss: 0.917835    Accuracy:  0.6276\n",
      "Epoch 41, CIFAR-10 Batch 5:  Loss: 0.968706    Accuracy:  0.612\n",
      "Epoch 42, CIFAR-10 Batch 1:  Loss: 1.00171    Accuracy:  0.6262\n",
      "Epoch 42, CIFAR-10 Batch 2:  Loss: 0.890084    Accuracy:  0.6252\n",
      "Epoch 42, CIFAR-10 Batch 3:  Loss: 0.855873    Accuracy:  0.6424\n",
      "Epoch 42, CIFAR-10 Batch 4:  Loss: 0.883518    Accuracy:  0.6288\n",
      "Epoch 42, CIFAR-10 Batch 5:  Loss: 0.979806    Accuracy:  0.6216\n",
      "Epoch 43, CIFAR-10 Batch 1:  Loss: 1.02319    Accuracy:  0.627\n",
      "Epoch 43, CIFAR-10 Batch 2:  Loss: 0.940548    Accuracy:  0.6078\n",
      "Epoch 43, CIFAR-10 Batch 3:  Loss: 0.888316    Accuracy:  0.6304\n",
      "Epoch 43, CIFAR-10 Batch 4:  Loss: 0.897233    Accuracy:  0.624\n",
      "Epoch 43, CIFAR-10 Batch 5:  Loss: 0.948006    Accuracy:  0.6362\n",
      "Epoch 44, CIFAR-10 Batch 1:  Loss: 1.01043    Accuracy:  0.6218\n",
      "Epoch 44, CIFAR-10 Batch 2:  Loss: 0.825012    Accuracy:  0.638\n",
      "Epoch 44, CIFAR-10 Batch 3:  Loss: 0.843441    Accuracy:  0.6418\n",
      "Epoch 44, CIFAR-10 Batch 4:  Loss: 0.93794    Accuracy:  0.6192\n",
      "Epoch 44, CIFAR-10 Batch 5:  Loss: 0.927236    Accuracy:  0.6324\n",
      "Epoch 45, CIFAR-10 Batch 1:  Loss: 1.01609    Accuracy:  0.6336\n",
      "Epoch 45, CIFAR-10 Batch 2:  Loss: 0.913425    Accuracy:  0.607\n",
      "Epoch 45, CIFAR-10 Batch 3:  Loss: 0.871399    Accuracy:  0.6294\n",
      "Epoch 45, CIFAR-10 Batch 4:  Loss: 0.885173    Accuracy:  0.6276\n",
      "Epoch 45, CIFAR-10 Batch 5:  Loss: 0.981035    Accuracy:  0.6306\n",
      "Epoch 46, CIFAR-10 Batch 1:  Loss: 1.00527    Accuracy:  0.6266\n",
      "Epoch 46, CIFAR-10 Batch 2:  Loss: 0.902681    Accuracy:  0.6174\n",
      "Epoch 46, CIFAR-10 Batch 3:  Loss: 0.872819    Accuracy:  0.6256\n",
      "Epoch 46, CIFAR-10 Batch 4:  Loss: 0.894965    Accuracy:  0.6266\n",
      "Epoch 46, CIFAR-10 Batch 5:  Loss: 0.973084    Accuracy:  0.6282\n",
      "Epoch 47, CIFAR-10 Batch 1:  Loss: 1.04064    Accuracy:  0.6282\n",
      "Epoch 47, CIFAR-10 Batch 2:  Loss: 0.912025    Accuracy:  0.6256\n",
      "Epoch 47, CIFAR-10 Batch 3:  Loss: 0.874536    Accuracy:  0.6368\n",
      "Epoch 47, CIFAR-10 Batch 4:  Loss: 0.901261    Accuracy:  0.6154\n",
      "Epoch 47, CIFAR-10 Batch 5:  Loss: 0.954636    Accuracy:  0.611\n",
      "Epoch 48, CIFAR-10 Batch 1:  Loss: 0.97861    Accuracy:  0.6336\n",
      "Epoch 48, CIFAR-10 Batch 2:  Loss: 0.850179    Accuracy:  0.6244\n",
      "Epoch 48, CIFAR-10 Batch 3:  Loss: 0.806326    Accuracy:  0.6308\n",
      "Epoch 48, CIFAR-10 Batch 4:  Loss: 0.888257    Accuracy:  0.6354\n",
      "Epoch 48, CIFAR-10 Batch 5:  Loss: 0.907414    Accuracy:  0.6218\n",
      "Epoch 49, CIFAR-10 Batch 1:  Loss: 1.02461    Accuracy:  0.6226\n",
      "Epoch 49, CIFAR-10 Batch 2:  Loss: 0.814981    Accuracy:  0.6102\n",
      "Epoch 49, CIFAR-10 Batch 3:  Loss: 0.840427    Accuracy:  0.6404\n",
      "Epoch 49, CIFAR-10 Batch 4:  Loss: 0.872095    Accuracy:  0.6226\n",
      "Epoch 49, CIFAR-10 Batch 5:  Loss: 0.914949    Accuracy:  0.6316\n",
      "Epoch 50, CIFAR-10 Batch 1:  Loss: 1.01406    Accuracy:  0.6148\n",
      "Epoch 50, CIFAR-10 Batch 2:  Loss: 0.852862    Accuracy:  0.6144\n",
      "Epoch 50, CIFAR-10 Batch 3:  Loss: 0.874752    Accuracy:  0.6404\n",
      "Epoch 50, CIFAR-10 Batch 4:  Loss: 0.859812    Accuracy:  0.6336\n",
      "Epoch 50, CIFAR-10 Batch 5:  Loss: 0.87273    Accuracy:  0.643\n"
     ]
    }
   ],
   "source": [
    "\"\"\"\n",
    "DON'T MODIFY ANYTHING IN THIS CELL\n",
    "\"\"\"\n",
    "save_model_path = './image_classification'\n",
    "\n",
    "print('Training...')\n",
    "with tf.Session() as sess:\n",
    "    # Initializing the variables\n",
    "    sess.run(tf.global_variables_initializer())\n",
    "    \n",
    "    # Training cycle\n",
    "    for epoch in range(epochs):\n",
    "        # Loop over all batches\n",
    "        n_batches = 5\n",
    "        for batch_i in range(1, n_batches + 1):\n",
    "            for batch_features, batch_labels in helper.load_preprocess_training_batch(batch_i, batch_size):\n",
    "                train_neural_network(sess, optimizer, keep_probability, batch_features, batch_labels)\n",
    "            print('Epoch {:>2}, CIFAR-10 Batch {}:  '.format(epoch + 1, batch_i), end='')\n",
    "            print_stats(sess, batch_features, batch_labels, cost, accuracy)\n",
    "            \n",
    "    # Save Model\n",
    "    saver = tf.train.Saver()\n",
    "    save_path = saver.save(sess, save_model_path)"
   ]
  },
  {
   "cell_type": "markdown",
   "metadata": {
    "deletable": true,
    "editable": true
   },
   "source": [
    "# Checkpoint\n",
    "The model has been saved to disk.\n",
    "## Test Model\n",
    "Test your model against the test dataset.  This will be your final accuracy. You should have an accuracy greater than 50%. If you don't, keep tweaking the model architecture and parameters."
   ]
  },
  {
   "cell_type": "code",
   "execution_count": 172,
   "metadata": {
    "collapsed": false,
    "deletable": true,
    "editable": true
   },
   "outputs": [
    {
     "name": "stdout",
     "output_type": "stream",
     "text": [
      "Testing Accuracy: 0.638943829113924\n",
      "\n"
     ]
    },
    {
     "data": {
      "image/png": "[encoded data removed]",
      "text/plain": [
       "<matplotlib.figure.Figure at 0x7f465cd4c438>"
      ]
     },
     "metadata": {
      "image/png": {
       "height": 319,
       "width": 355
      }
     },
     "output_type": "display_data"
    }
   ],
   "source": [
    "\"\"\"\n",
    "DON'T MODIFY ANYTHING IN THIS CELL\n",
    "\"\"\"\n",
    "%matplotlib inline\n",
    "%config InlineBackend.figure_format = 'retina'\n",
    "\n",
    "import tensorflow as tf\n",
    "import pickle\n",
    "import helper\n",
    "import random\n",
    "\n",
    "# Set batch size if not already set\n",
    "try:\n",
    "    if batch_size:\n",
    "        pass\n",
    "except NameError:\n",
    "    batch_size = 64\n",
    "\n",
    "save_model_path = './image_classification'\n",
    "n_samples = 4\n",
    "top_n_predictions = 3\n",
    "\n",
    "def test_model():\n",
    "    \"\"\"\n",
    "    Test the saved model against the test dataset\n",
    "    \"\"\"\n",
    "\n",
    "    test_features, test_labels = pickle.load(open('preprocess_test.p', mode='rb'))\n",
    "    loaded_graph = tf.Graph()\n",
    "\n",
    "    with tf.Session(graph=loaded_graph) as sess:\n",
    "        # Load model\n",
    "        loader = tf.train.import_meta_graph(save_model_path + '.meta')\n",
    "        loader.restore(sess, save_model_path)\n",
    "\n",
    "        # Get Tensors from loaded model\n",
    "        loaded_x = loaded_graph.get_tensor_by_name('x:0')\n",
    "        loaded_y = loaded_graph.get_tensor_by_name('y:0')\n",
    "        loaded_keep_prob = loaded_graph.get_tensor_by_name('keep_prob:0')\n",
    "        loaded_logits = loaded_graph.get_tensor_by_name('logits:0')\n",
    "        loaded_acc = loaded_graph.get_tensor_by_name('accuracy:0')\n",
    "        \n",
    "        # Get accuracy in batches for memory limitations\n",
    "        test_batch_acc_total = 0\n",
    "        test_batch_count = 0\n",
    "        \n",
    "        for test_feature_batch, test_label_batch in helper.batch_features_labels(test_features, test_labels, batch_size):\n",
    "            test_batch_acc_total += sess.run(\n",
    "                loaded_acc,\n",
    "                feed_dict={loaded_x: test_feature_batch, loaded_y: test_label_batch, loaded_keep_prob: 1.0})\n",
    "            test_batch_count += 1\n",
    "\n",
    "        print('Testing Accuracy: {}\\n'.format(test_batch_acc_total/test_batch_count))\n",
    "\n",
    "        # Print Random Samples\n",
    "        random_test_features, random_test_labels = tuple(zip(*random.sample(list(zip(test_features, test_labels)), n_samples)))\n",
    "        random_test_predictions = sess.run(\n",
    "            tf.nn.top_k(tf.nn.softmax(loaded_logits), top_n_predictions),\n",
    "            feed_dict={loaded_x: random_test_features, loaded_y: random_test_labels, loaded_keep_prob: 1.0})\n",
    "        helper.display_image_predictions(random_test_features, random_test_labels, random_test_predictions)\n",
    "\n",
    "\n",
    "test_model()"
   ]
  },
  {
   "cell_type": "markdown",
   "metadata": {
    "deletable": true,
    "editable": true
   },
   "source": [
    "## Why 50-80% Accuracy?\n",
    "You might be wondering why you can't get an accuracy any higher. First things first, 50% isn't bad for a simple CNN.  Pure guessing would get you 10% accuracy. However, you might notice people are getting scores [well above 80%](http://rodrigob.github.io/are_we_there_yet/build/classification_datasets_results.html#43494641522d3130).  That's because we haven't taught you all there is to know about neural networks. We still need to cover a few more techniques.\n",
    "## Submitting This Project\n",
    "When submitting this project, make sure to run all the cells before saving the notebook.  Save the notebook file as \"dlnd_image_classification.ipynb\" and save it as a HTML file under \"File\" -> \"Download as\".  Include the \"helper.py\" and \"problem_unittests.py\" files in your submission."
   ]
  },
  {
   "cell_type": "code",
   "execution_count": null,
   "metadata": {
    "collapsed": true,
    "deletable": true,
    "editable": true
   },
   "outputs": [],
   "source": []
  }
 ],
 "metadata": {
  "kernelspec": {
   "display_name": "Python 3",
   "language": "python",
   "name": "python3"
  },
  "language_info": {
   "codemirror_mode": {
    "name": "ipython",
    "version": 3
   },
   "file_extension": ".py",
   "mimetype": "text/x-python",
   "name": "python",
   "nbconvert_exporter": "python",
   "pygments_lexer": "ipython3",
   "version": "3.5.2"
  },
  "widgets": {
   "state": {},
   "version": "1.1.2"
  }
 },
 "nbformat": 4,
 "nbformat_minor": 0
}
